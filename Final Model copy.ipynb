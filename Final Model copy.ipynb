{
 "cells": [
  {
   "cell_type": "markdown",
   "metadata": {},
   "source": [
    "# Variational Autoencoder (VAE)"
   ]
  },
  {
   "cell_type": "code",
   "execution_count": 1,
   "metadata": {
    "tags": []
   },
   "outputs": [
    {
     "output_type": "stream",
     "name": "stderr",
     "text": "Using TensorFlow backend.\n"
    }
   ],
   "source": [
    "# Preprocessing\n",
    "import pprint\n",
    "import numpy as np\n",
    "import pandas as pd\n",
    "from sklearn.preprocessing import StandardScaler\n",
    "\n",
    "# Deep Learning\n",
    "from keras.models import Model\n",
    "from keras.layers import Input, Dense, Lambda\n",
    "from keras import backend as K\n",
    "from keras.losses import mse, binary_crossentropy\n",
    "\n",
    "# Saving Model\n",
    "import os\n",
    "from pickle import dump, load\n",
    "\n",
    "# Making predictions\n",
    "from sklearn.neighbors import NearestNeighbors\n",
    "\n",
    "# Visuals\n",
    "import seaborn as sns; sns.set()\n",
    "\n",
    "# Not used in current notebook\n",
    "# from keras.utils import plot_model\n",
    "# from keras.datasets import mnist\n",
    "# import matplotlib.pyplot as plt"
   ]
  },
  {
   "cell_type": "code",
   "execution_count": 2,
   "metadata": {},
   "outputs": [],
   "source": [
    "# Load in data to pandas dataframe\n",
    "songs = pd.read_csv(\"song_list5.csv\")"
   ]
  },
  {
   "cell_type": "code",
   "execution_count": 3,
   "metadata": {},
   "outputs": [
    {
     "output_type": "execute_result",
     "data": {
      "text/plain": "                   songid       artist                    track  danceability  \\\n0  5X4Qm0rVLcZeeO4tSDmBg3   Jack Bruce  Running Thro' Our Hands         0.456   \n1  1pNpt53PZPet9dvJN3RKGr   Prefuse 73        Parachute Panador         0.535   \n2  3oxz2oCzAWdPzA6In2zA5u  Pasion Vega   La Gata Bajo La Lluvia         0.294   \n3  05JGVUwt7XJk5FPqH0Wsch   Jonny Lang             Walking Away         0.563   \n4  3xdgCFMTn6ut8fZYxfAuR0         Skye         All the Promises         0.358   \n\n   energy  key  loudness  mode  speechiness  acousticness  instrumentalness  \\\n0   0.255  9.0   -15.805   1.0       0.0480       0.94600          0.170000   \n1   0.806  7.0   -10.289   1.0       0.0642       0.00436          0.019100   \n2   0.482  5.0    -6.406   1.0       0.0430       0.46300          0.000000   \n3   0.631  0.0    -5.144   1.0       0.0324       0.06350          0.000008   \n4   0.611  2.0    -9.752   0.0       0.0454       0.51500          0.000468   \n\n   liveness  valence    tempo  duration_ms  time_signature  \n0     0.951   0.0532  116.424     253067.0             4.0  \n1     0.457   0.3760   90.089      63733.0             4.0  \n2     0.335   0.2040  166.693     255280.0             3.0  \n3     0.163   0.5400  115.657     254827.0             4.0  \n4     0.149   0.1640  171.596     256933.0             4.0  ",
      "text/html": "<div>\n<style scoped>\n    .dataframe tbody tr th:only-of-type {\n        vertical-align: middle;\n    }\n\n    .dataframe tbody tr th {\n        vertical-align: top;\n    }\n\n    .dataframe thead th {\n        text-align: right;\n    }\n</style>\n<table border=\"1\" class=\"dataframe\">\n  <thead>\n    <tr style=\"text-align: right;\">\n      <th></th>\n      <th>songid</th>\n      <th>artist</th>\n      <th>track</th>\n      <th>danceability</th>\n      <th>energy</th>\n      <th>key</th>\n      <th>loudness</th>\n      <th>mode</th>\n      <th>speechiness</th>\n      <th>acousticness</th>\n      <th>instrumentalness</th>\n      <th>liveness</th>\n      <th>valence</th>\n      <th>tempo</th>\n      <th>duration_ms</th>\n      <th>time_signature</th>\n    </tr>\n  </thead>\n  <tbody>\n    <tr>\n      <th>0</th>\n      <td>5X4Qm0rVLcZeeO4tSDmBg3</td>\n      <td>Jack Bruce</td>\n      <td>Running Thro' Our Hands</td>\n      <td>0.456</td>\n      <td>0.255</td>\n      <td>9.0</td>\n      <td>-15.805</td>\n      <td>1.0</td>\n      <td>0.0480</td>\n      <td>0.94600</td>\n      <td>0.170000</td>\n      <td>0.951</td>\n      <td>0.0532</td>\n      <td>116.424</td>\n      <td>253067.0</td>\n      <td>4.0</td>\n    </tr>\n    <tr>\n      <th>1</th>\n      <td>1pNpt53PZPet9dvJN3RKGr</td>\n      <td>Prefuse 73</td>\n      <td>Parachute Panador</td>\n      <td>0.535</td>\n      <td>0.806</td>\n      <td>7.0</td>\n      <td>-10.289</td>\n      <td>1.0</td>\n      <td>0.0642</td>\n      <td>0.00436</td>\n      <td>0.019100</td>\n      <td>0.457</td>\n      <td>0.3760</td>\n      <td>90.089</td>\n      <td>63733.0</td>\n      <td>4.0</td>\n    </tr>\n    <tr>\n      <th>2</th>\n      <td>3oxz2oCzAWdPzA6In2zA5u</td>\n      <td>Pasion Vega</td>\n      <td>La Gata Bajo La Lluvia</td>\n      <td>0.294</td>\n      <td>0.482</td>\n      <td>5.0</td>\n      <td>-6.406</td>\n      <td>1.0</td>\n      <td>0.0430</td>\n      <td>0.46300</td>\n      <td>0.000000</td>\n      <td>0.335</td>\n      <td>0.2040</td>\n      <td>166.693</td>\n      <td>255280.0</td>\n      <td>3.0</td>\n    </tr>\n    <tr>\n      <th>3</th>\n      <td>05JGVUwt7XJk5FPqH0Wsch</td>\n      <td>Jonny Lang</td>\n      <td>Walking Away</td>\n      <td>0.563</td>\n      <td>0.631</td>\n      <td>0.0</td>\n      <td>-5.144</td>\n      <td>1.0</td>\n      <td>0.0324</td>\n      <td>0.06350</td>\n      <td>0.000008</td>\n      <td>0.163</td>\n      <td>0.5400</td>\n      <td>115.657</td>\n      <td>254827.0</td>\n      <td>4.0</td>\n    </tr>\n    <tr>\n      <th>4</th>\n      <td>3xdgCFMTn6ut8fZYxfAuR0</td>\n      <td>Skye</td>\n      <td>All the Promises</td>\n      <td>0.358</td>\n      <td>0.611</td>\n      <td>2.0</td>\n      <td>-9.752</td>\n      <td>0.0</td>\n      <td>0.0454</td>\n      <td>0.51500</td>\n      <td>0.000468</td>\n      <td>0.149</td>\n      <td>0.1640</td>\n      <td>171.596</td>\n      <td>256933.0</td>\n      <td>4.0</td>\n    </tr>\n  </tbody>\n</table>\n</div>"
     },
     "metadata": {},
     "execution_count": 3
    }
   ],
   "source": [
    "songs.head()"
   ]
  },
  {
   "cell_type": "code",
   "execution_count": 4,
   "metadata": {},
   "outputs": [],
   "source": [
    "# Filter the columns I want into a features variable\n",
    "features = songs[[\n",
    "    \"danceability\", \"energy\", \"key\", \"loudness\", \"mode\", \"speechiness\", \n",
    "    \"acousticness\", \"instrumentalness\", \"liveness\", \"valence\", \"tempo\", \n",
    "    \"duration_ms\"]].to_numpy()"
   ]
  },
  {
   "cell_type": "code",
   "execution_count": 5,
   "metadata": {
    "tags": []
   },
   "outputs": [
    {
     "output_type": "stream",
     "name": "stdout",
     "text": "(49985, 12)\narray([ 4.56000e-01,  2.55000e-01,  9.00000e+00, -1.58050e+01,\n        1.00000e+00,  4.80000e-02,  9.46000e-01,  1.70000e-01,\n        9.51000e-01,  5.32000e-02,  1.16424e+02,  2.53067e+05])\n"
    }
   ],
   "source": [
    "# View the feature data\n",
    "print(features.shape)\n",
    "pprint.pprint(features[0])"
   ]
  },
  {
   "cell_type": "code",
   "execution_count": 6,
   "metadata": {},
   "outputs": [],
   "source": [
    "# instantiate the Scaler\n",
    "scaler = StandardScaler()"
   ]
  },
  {
   "cell_type": "code",
   "execution_count": 7,
   "metadata": {},
   "outputs": [],
   "source": [
    "# fit transform the scaler on our feature data\n",
    "x_train = scaler.fit_transform(features)"
   ]
  },
  {
   "cell_type": "code",
   "execution_count": 8,
   "metadata": {},
   "outputs": [],
   "source": [
    "# Save the scaler to a new file\n",
    "# dump(scaler, open('scaler.pkl', 'wb'))"
   ]
  },
  {
   "cell_type": "code",
   "execution_count": 9,
   "metadata": {
    "tags": []
   },
   "outputs": [
    {
     "output_type": "stream",
     "name": "stdout",
     "text": "(49985, 12)\narray([-0.47695143, -1.43616823,  1.03467011, -1.32564479,  0.70711739,\n       -0.34028656,  1.91669133, -0.14321669,  3.87500921, -1.70714343,\n       -0.17066299,  0.03404049])\n"
    }
   ],
   "source": [
    "# View the Scaled data\n",
    "print(x_train.shape)\n",
    "pprint.pprint(x_train[0])"
   ]
  },
  {
   "cell_type": "code",
   "execution_count": 10,
   "metadata": {},
   "outputs": [],
   "source": [
    "# reparameterization method for lambda layer\n",
    "# check this link out for research\n",
    "# https://stats.stackexchange.com/questions/199605/how-does-the-reparameterization-trick-for-vaes-work-and-why-is-it-important\n",
    "def sampling(args):\n",
    "    z_mean, z_log_sigma = args\n",
    "    batch = K.shape(z_mean)[0]\n",
    "    dim = K.int_shape(z_mean)[1]\n",
    "    epsilon = K.random_normal(shape=(batch, dim))\n",
    "    return z_mean + K.exp(0.5 * z_log_sigma) * epsilon \n",
    "    #      z_mean + e^(.5 * z_log_sigma)     * ϵ\n",
    "    #                      φ"
   ]
  },
  {
   "cell_type": "markdown",
   "metadata": {},
   "source": [
    "## Build the model"
   ]
  },
  {
   "cell_type": "code",
   "execution_count": 11,
   "metadata": {
    "tags": []
   },
   "outputs": [
    {
     "output_type": "stream",
     "name": "stdout",
     "text": "Model: \"Encoder\"\n__________________________________________________________________________________________________\nLayer (type)                    Output Shape         Param #     Connected to                     \n==================================================================================================\nEncoder_Input (InputLayer)      (None, 12)           0                                            \n__________________________________________________________________________________________________\nEncoder_Dense1 (Dense)          (None, 512)          6656        Encoder_Input[0][0]              \n__________________________________________________________________________________________________\nEncoder_Dense2 (Dense)          (None, 256)          131328      Encoder_Dense1[0][0]             \n__________________________________________________________________________________________________\nEncoder_Dense3 (Dense)          (None, 128)          32896       Encoder_Dense2[0][0]             \n__________________________________________________________________________________________________\nz_mean (Dense)                  (None, 2)            258         Encoder_Dense3[0][0]             \n__________________________________________________________________________________________________\nz_log_sigma (Dense)             (None, 2)            258         Encoder_Dense3[0][0]             \n__________________________________________________________________________________________________\nz (Lambda)                      (None, 2)            0           z_mean[0][0]                     \n                                                                 z_log_sigma[0][0]                \n==================================================================================================\nTotal params: 171,396\nTrainable params: 171,396\nNon-trainable params: 0\n__________________________________________________________________________________________________\n"
    }
   ],
   "source": [
    "# build encoder model\n",
    "encoder_input = Input(shape=(12,), name='Encoder_Input')\n",
    "\n",
    "encoder_dense1 = Dense(512, activation='relu', name='Encoder_Dense1')(encoder_input)\n",
    "encoder_dense2 = Dense(256, activation='relu', name='Encoder_Dense2')(encoder_dense1)\n",
    "encoder_dense3 = Dense(128, activation='relu', name='Encoder_Dense3')(encoder_dense2)\n",
    "\n",
    "# we need 2 Latent Sized Dense Layers for reparameterization\n",
    "z_mean = Dense(2, name='z_mean')(encoder_dense3)\n",
    "z_log_sigma = Dense(2, name='z_log_sigma')(encoder_dense3)\n",
    "\n",
    "# Use Lambda layer to apply the sampling function (Reparameterization)\n",
    "z = Lambda(sampling, output_shape=(2,), name='z')([z_mean, z_log_sigma])\n",
    "\n",
    "# instantiate encoder model\n",
    "encoder = Model(encoder_input, [z_mean, z_log_sigma, z], name='Encoder')\n",
    "encoder.summary()\n",
    "# plot_model(encoder, to_file='vae_mlp_encoder.png', show_shapes=True)"
   ]
  },
  {
   "cell_type": "code",
   "execution_count": 12,
   "metadata": {
    "tags": []
   },
   "outputs": [
    {
     "output_type": "stream",
     "name": "stdout",
     "text": "Model: \"Decoder\"\n_________________________________________________________________\nLayer (type)                 Output Shape              Param #   \n=================================================================\nz_sampling (InputLayer)      (None, 2)                 0         \n_________________________________________________________________\nDecoder_Dense1 (Dense)       (None, 128)               384       \n_________________________________________________________________\nDecoder_Dense2 (Dense)       (None, 256)               33024     \n_________________________________________________________________\nDecoder_Dense3 (Dense)       (None, 512)               131584    \n_________________________________________________________________\nDecoder_Output (Dense)       (None, 12)                6156      \n=================================================================\nTotal params: 171,148\nTrainable params: 171,148\nNon-trainable params: 0\n_________________________________________________________________\n"
    }
   ],
   "source": [
    "# build decoder model\n",
    "latent_inputs = Input(shape=(2,), name='z_sampling')\n",
    "\n",
    "decoder_dense1 = Dense(128, activation='relu', name='Decoder_Dense1')(latent_inputs)\n",
    "decoder_dense2 = Dense(256, activation='relu', name='Decoder_Dense2')(decoder_dense1)\n",
    "decoder_dense3 = Dense(512, activation='relu', name='Decoder_Dense3')(decoder_dense2)\n",
    "\n",
    "decoder_output = Dense(12, name='Decoder_Output')(decoder_dense3)\n",
    "\n",
    "# instantiate decoder model\n",
    "decoder = Model(latent_inputs, decoder_output, name='Decoder')\n",
    "decoder.summary()\n",
    "# plot_model(decoder, to_file='vae_mlp_decoder.png', show_shapes=True)"
   ]
  },
  {
   "cell_type": "code",
   "execution_count": 13,
   "metadata": {
    "tags": []
   },
   "outputs": [
    {
     "output_type": "stream",
     "name": "stdout",
     "text": "Model: \"VAE_Model\"\n_________________________________________________________________\nLayer (type)                 Output Shape              Param #   \n=================================================================\nEncoder_Input (InputLayer)   (None, 12)                0         \n_________________________________________________________________\nEncoder (Model)              [(None, 2), (None, 2), (N 171396    \n_________________________________________________________________\nDecoder (Model)              (None, 12)                171148    \n=================================================================\nTotal params: 342,544\nTrainable params: 342,544\nNon-trainable params: 0\n_________________________________________________________________\n"
    }
   ],
   "source": [
    "# instantiate VAE model\n",
    "outputs = decoder(encoder(encoder_input)[2])\n",
    "vae = Model(encoder_input, outputs, name='VAE_Model')\n",
    "vae.summary()"
   ]
  },
  {
   "cell_type": "code",
   "execution_count": 14,
   "metadata": {
    "tags": []
   },
   "outputs": [
    {
     "output_type": "stream",
     "name": "stdout",
     "text": "Model: \"VAE_Model\"\n_________________________________________________________________\nLayer (type)                 Output Shape              Param #   \n=================================================================\nEncoder_Input (InputLayer)   (None, 12)                0         \n_________________________________________________________________\nEncoder (Model)              [(None, 2), (None, 2), (N 171396    \n_________________________________________________________________\nDecoder (Model)              (None, 12)                171148    \n=================================================================\nTotal params: 342,544\nTrainable params: 342,544\nNon-trainable params: 0\n_________________________________________________________________\n"
    }
   ],
   "source": [
    "# Reconstuction Loss Function\n",
    "reconstruction_loss = mse(encoder_input, outputs)\n",
    "reconstruction_loss *= 12\n",
    "# k1 Loss Function\n",
    "kl_loss = 1 + z_log_sigma - K.square(z_mean) - K.exp(z_log_sigma)\n",
    "kl_loss = K.sum(kl_loss, axis=-1)\n",
    "kl_loss *= -0.5\n",
    "vae_loss = K.mean(reconstruction_loss + kl_loss)\n",
    "\n",
    "vae.add_loss(vae_loss)\n",
    "vae.compile(optimizer='adam')\n",
    "vae.summary()\n",
    "# plot_model(vae,\n",
    "#             to_file='vae_mlp.png',\n",
    "#             show_shapes=True)"
   ]
  },
  {
   "cell_type": "code",
   "execution_count": 15,
   "metadata": {
    "tags": []
   },
   "outputs": [
    {
     "output_type": "stream",
     "name": "stdout",
     "text": "Epoch 1/20\n49985/49985 [==============================] - 6s 129us/step - loss: 9.4209\nEpoch 2/20\n49985/49985 [==============================] - 6s 124us/step - loss: 8.8753\nEpoch 3/20\n49985/49985 [==============================] - 6s 125us/step - loss: 8.7909\nEpoch 4/20\n49985/49985 [==============================] - 6s 124us/step - loss: 8.6716\nEpoch 5/20\n49985/49985 [==============================] - 6s 124us/step - loss: 8.6141\nEpoch 6/20\n49985/49985 [==============================] - 6s 124us/step - loss: 8.5671\nEpoch 7/20\n49985/49985 [==============================] - 6s 124us/step - loss: 8.5342\nEpoch 8/20\n49985/49985 [==============================] - 6s 124us/step - loss: 8.4853\nEpoch 9/20\n49985/49985 [==============================] - 6s 122us/step - loss: 8.5018\nEpoch 10/20\n49985/49985 [==============================] - 6s 120us/step - loss: 8.4725\nEpoch 11/20\n49985/49985 [==============================] - 6s 120us/step - loss: 8.4509\nEpoch 12/20\n49985/49985 [==============================] - 6s 120us/step - loss: 8.4690\nEpoch 13/20\n49985/49985 [==============================] - 6s 121us/step - loss: 8.4969\nEpoch 14/20\n49985/49985 [==============================] - 6s 120us/step - loss: 8.4657\nEpoch 15/20\n49985/49985 [==============================] - 6s 120us/step - loss: 8.3975\nEpoch 16/20\n49985/49985 [==============================] - 6s 123us/step - loss: 8.3792\nEpoch 17/20\n49985/49985 [==============================] - 6s 119us/step - loss: 8.3864\nEpoch 18/20\n49985/49985 [==============================] - 6s 121us/step - loss: 8.3818\nEpoch 19/20\n49985/49985 [==============================] - 6s 119us/step - loss: 8.3498\nEpoch 20/20\n49985/49985 [==============================] - 6s 124us/step - loss: 8.3412\n"
    },
    {
     "output_type": "execute_result",
     "data": {
      "text/plain": "<keras.callbacks.callbacks.History at 0x1ee4d266198>"
     },
     "metadata": {},
     "execution_count": 15
    }
   ],
   "source": [
    "vae.fit(x_train,\n",
    "        epochs=20, # Set down to 5 for Demo Purposes\n",
    "        batch_size=32)"
   ]
  },
  {
   "cell_type": "code",
   "execution_count": 24,
   "metadata": {},
   "outputs": [],
   "source": [
    "# Current Best Loss 8.3412\n",
    "# dump(encoder, open('VAE_Encoder.pkl', 'wb'))\n",
    "# encoder.save('VAE_Encoder.h5')"
   ]
  },
  {
   "cell_type": "markdown",
   "metadata": {},
   "source": []
  },
  {
   "cell_type": "markdown",
   "metadata": {},
   "source": []
  },
  {
   "cell_type": "markdown",
   "metadata": {},
   "source": []
  },
  {
   "cell_type": "markdown",
   "metadata": {},
   "source": [
    "# Making Predictions"
   ]
  },
  {
   "cell_type": "code",
   "execution_count": 17,
   "metadata": {},
   "outputs": [
    {
     "output_type": "error",
     "ename": "FileNotFoundError",
     "evalue": "[Errno 2] No such file or directory: 'VAE_Encoder.pkl'",
     "traceback": [
      "\u001b[1;31m---------------------------------------------------------------------------\u001b[0m",
      "\u001b[1;31mFileNotFoundError\u001b[0m                         Traceback (most recent call last)",
      "\u001b[1;32m<ipython-input-17-5b1daf394a79>\u001b[0m in \u001b[0;36m<module>\u001b[1;34m\u001b[0m\n\u001b[0;32m      1\u001b[0m \u001b[1;31m# Load in the model\u001b[0m\u001b[1;33m\u001b[0m\u001b[1;33m\u001b[0m\u001b[0m\n\u001b[1;32m----> 2\u001b[1;33m \u001b[0mencoder_test\u001b[0m \u001b[1;33m=\u001b[0m \u001b[0mload\u001b[0m\u001b[1;33m(\u001b[0m\u001b[0mopen\u001b[0m\u001b[1;33m(\u001b[0m\u001b[1;34m'VAE_Encoder.pkl'\u001b[0m\u001b[1;33m,\u001b[0m \u001b[1;34m'rb'\u001b[0m\u001b[1;33m)\u001b[0m\u001b[1;33m)\u001b[0m\u001b[1;33m\u001b[0m\u001b[0m\n\u001b[0m",
      "\u001b[1;31mFileNotFoundError\u001b[0m: [Errno 2] No such file or directory: 'VAE_Encoder.pkl'"
     ]
    }
   ],
   "source": [
    "# Load in the model\n",
    "encoder_test = load(open('VAE_Encoder.pkl', 'rb'))"
   ]
  },
  {
   "cell_type": "code",
   "execution_count": 18,
   "metadata": {},
   "outputs": [
    {
     "output_type": "error",
     "ename": "NameError",
     "evalue": "name 'encoder_test' is not defined",
     "traceback": [
      "\u001b[1;31m---------------------------------------------------------------------------\u001b[0m",
      "\u001b[1;31mNameError\u001b[0m                                 Traceback (most recent call last)",
      "\u001b[1;32m<ipython-input-18-490bea99f4cd>\u001b[0m in \u001b[0;36m<module>\u001b[1;34m\u001b[0m\n\u001b[0;32m      1\u001b[0m \u001b[1;31m# get our latent features\u001b[0m\u001b[1;33m\u001b[0m\u001b[1;33m\u001b[0m\u001b[0m\n\u001b[1;32m----> 2\u001b[1;33m \u001b[0mpreds\u001b[0m \u001b[1;33m=\u001b[0m \u001b[0mencoder_test\u001b[0m\u001b[1;33m.\u001b[0m\u001b[0mpredict\u001b[0m\u001b[1;33m(\u001b[0m\u001b[0mx_train\u001b[0m\u001b[1;33m)\u001b[0m\u001b[1;33m\u001b[0m\u001b[0m\n\u001b[0m\u001b[0;32m      3\u001b[0m \u001b[0mpreds\u001b[0m\u001b[1;33m[\u001b[0m\u001b[1;36m0\u001b[0m\u001b[1;33m]\u001b[0m\u001b[1;33m\u001b[0m\u001b[0m\n",
      "\u001b[1;31mNameError\u001b[0m: name 'encoder_test' is not defined"
     ]
    }
   ],
   "source": [
    "# get our latent features\n",
    "preds = encoder_test.predict(x_train)\n",
    "preds[0]"
   ]
  },
  {
   "cell_type": "code",
   "execution_count": 19,
   "metadata": {},
   "outputs": [
    {
     "output_type": "error",
     "ename": "NameError",
     "evalue": "name 'preds' is not defined",
     "traceback": [
      "\u001b[1;31m---------------------------------------------------------------------------\u001b[0m",
      "\u001b[1;31mNameError\u001b[0m                                 Traceback (most recent call last)",
      "\u001b[1;32m<ipython-input-19-870db32de072>\u001b[0m in \u001b[0;36m<module>\u001b[1;34m\u001b[0m\n\u001b[0;32m      1\u001b[0m \u001b[1;31m# Fit the nearest neighbors to our data\u001b[0m\u001b[1;33m\u001b[0m\u001b[1;33m\u001b[0m\u001b[0m\n\u001b[0;32m      2\u001b[0m \u001b[0mn_neighbors\u001b[0m \u001b[1;33m=\u001b[0m \u001b[1;36m5\u001b[0m\u001b[1;33m\u001b[0m\u001b[0m\n\u001b[1;32m----> 3\u001b[1;33m \u001b[0mnbrs\u001b[0m \u001b[1;33m=\u001b[0m \u001b[0mNearestNeighbors\u001b[0m\u001b[1;33m(\u001b[0m\u001b[0mn_neighbors\u001b[0m\u001b[1;33m=\u001b[0m\u001b[1;33m(\u001b[0m\u001b[0mn_neighbors\u001b[0m\u001b[1;33m+\u001b[0m\u001b[1;36m1\u001b[0m\u001b[1;33m)\u001b[0m\u001b[1;33m,\u001b[0m \u001b[0malgorithm\u001b[0m\u001b[1;33m=\u001b[0m\u001b[1;34m'ball_tree'\u001b[0m\u001b[1;33m)\u001b[0m\u001b[1;33m.\u001b[0m\u001b[0mfit\u001b[0m\u001b[1;33m(\u001b[0m\u001b[0mpreds\u001b[0m\u001b[1;33m[\u001b[0m\u001b[1;36m0\u001b[0m\u001b[1;33m]\u001b[0m\u001b[1;33m)\u001b[0m\u001b[1;33m\u001b[0m\u001b[0m\n\u001b[0m",
      "\u001b[1;31mNameError\u001b[0m: name 'preds' is not defined"
     ]
    }
   ],
   "source": [
    "# Fit the nearest neighbors to our data\n",
    "n_neighbors = 5\n",
    "nbrs = NearestNeighbors(n_neighbors=(n_neighbors+1), algorithm='ball_tree').fit(preds[0])"
   ]
  },
  {
   "cell_type": "code",
   "execution_count": 20,
   "metadata": {},
   "outputs": [
    {
     "output_type": "error",
     "ename": "NameError",
     "evalue": "name 'nbrs' is not defined",
     "traceback": [
      "\u001b[1;31m---------------------------------------------------------------------------\u001b[0m",
      "\u001b[1;31mNameError\u001b[0m                                 Traceback (most recent call last)",
      "\u001b[1;32m<ipython-input-20-9aa12455b240>\u001b[0m in \u001b[0;36m<module>\u001b[1;34m\u001b[0m\n\u001b[0;32m      1\u001b[0m \u001b[1;31m# Making our prediction\u001b[0m\u001b[1;33m\u001b[0m\u001b[1;33m\u001b[0m\u001b[0m\n\u001b[1;32m----> 2\u001b[1;33m \u001b[0mdistances\u001b[0m\u001b[1;33m,\u001b[0m \u001b[0mindices\u001b[0m \u001b[1;33m=\u001b[0m \u001b[0mnbrs\u001b[0m\u001b[1;33m.\u001b[0m\u001b[0mkneighbors\u001b[0m\u001b[1;33m(\u001b[0m\u001b[0mpreds\u001b[0m\u001b[1;33m[\u001b[0m\u001b[1;36m0\u001b[0m\u001b[1;33m]\u001b[0m\u001b[1;33m)\u001b[0m\u001b[1;33m\u001b[0m\u001b[0m\n\u001b[0m",
      "\u001b[1;31mNameError\u001b[0m: name 'nbrs' is not defined"
     ]
    }
   ],
   "source": [
    "# Making our prediction\n",
    "distances, indices = nbrs.kneighbors(preds[0])"
   ]
  },
  {
   "cell_type": "code",
   "execution_count": 21,
   "metadata": {
    "tags": []
   },
   "outputs": [
    {
     "output_type": "error",
     "ename": "NameError",
     "evalue": "name 'indices' is not defined",
     "traceback": [
      "\u001b[1;31m---------------------------------------------------------------------------\u001b[0m",
      "\u001b[1;31mNameError\u001b[0m                                 Traceback (most recent call last)",
      "\u001b[1;32m<ipython-input-21-125441aa92b8>\u001b[0m in \u001b[0;36m<module>\u001b[1;34m\u001b[0m\n\u001b[0;32m      1\u001b[0m \u001b[1;31m# Results\u001b[0m\u001b[1;33m\u001b[0m\u001b[1;33m\u001b[0m\u001b[0m\n\u001b[1;32m----> 2\u001b[1;33m \u001b[0msongs\u001b[0m\u001b[1;33m.\u001b[0m\u001b[0miloc\u001b[0m\u001b[1;33m[\u001b[0m\u001b[0mindices\u001b[0m\u001b[1;33m[\u001b[0m\u001b[1;36m0\u001b[0m\u001b[1;33m]\u001b[0m\u001b[1;33m]\u001b[0m\u001b[1;33m\u001b[0m\u001b[0m\n\u001b[0m",
      "\u001b[1;31mNameError\u001b[0m: name 'indices' is not defined"
     ]
    }
   ],
   "source": [
    "# Results\n",
    "songs.iloc[indices[0]]"
   ]
  },
  {
   "cell_type": "code",
   "execution_count": 22,
   "metadata": {},
   "outputs": [
    {
     "output_type": "error",
     "ename": "NameError",
     "evalue": "name 'preds' is not defined",
     "traceback": [
      "\u001b[1;31m---------------------------------------------------------------------------\u001b[0m",
      "\u001b[1;31mNameError\u001b[0m                                 Traceback (most recent call last)",
      "\u001b[1;32m<ipython-input-22-ba8d8659c884>\u001b[0m in \u001b[0;36m<module>\u001b[1;34m\u001b[0m\n\u001b[1;32m----> 1\u001b[1;33m \u001b[0mpredictions\u001b[0m \u001b[1;33m=\u001b[0m \u001b[0mpd\u001b[0m\u001b[1;33m.\u001b[0m\u001b[0mDataFrame\u001b[0m\u001b[1;33m(\u001b[0m\u001b[0mpreds\u001b[0m\u001b[1;33m[\u001b[0m\u001b[1;36m0\u001b[0m\u001b[1;33m]\u001b[0m\u001b[1;33m,\u001b[0m \u001b[0mcolumns\u001b[0m\u001b[1;33m=\u001b[0m\u001b[1;33m[\u001b[0m\u001b[1;34m\"Latent1\"\u001b[0m\u001b[1;33m,\u001b[0m \u001b[1;34m\"Latent2\"\u001b[0m\u001b[1;33m]\u001b[0m\u001b[1;33m)\u001b[0m\u001b[1;33m\u001b[0m\u001b[0m\n\u001b[0m\u001b[0;32m      2\u001b[0m \u001b[0mpredictions\u001b[0m\u001b[1;33m\u001b[0m\u001b[0m\n",
      "\u001b[1;31mNameError\u001b[0m: name 'preds' is not defined"
     ]
    }
   ],
   "source": [
    "predictions = pd.DataFrame(preds[0], columns=[\"Latent1\", \"Latent2\"])\n",
    "predictions"
   ]
  },
  {
   "cell_type": "code",
   "execution_count": 23,
   "metadata": {},
   "outputs": [
    {
     "output_type": "error",
     "ename": "NameError",
     "evalue": "name 'predictions' is not defined",
     "traceback": [
      "\u001b[1;31m---------------------------------------------------------------------------\u001b[0m",
      "\u001b[1;31mNameError\u001b[0m                                 Traceback (most recent call last)",
      "\u001b[1;32m<ipython-input-23-150d0eae2063>\u001b[0m in \u001b[0;36m<module>\u001b[1;34m\u001b[0m\n\u001b[1;32m----> 1\u001b[1;33m \u001b[0max\u001b[0m \u001b[1;33m=\u001b[0m \u001b[0msns\u001b[0m\u001b[1;33m.\u001b[0m\u001b[0mscatterplot\u001b[0m\u001b[1;33m(\u001b[0m\u001b[0mx\u001b[0m\u001b[1;33m=\u001b[0m\u001b[1;34m\"Latent1\"\u001b[0m\u001b[1;33m,\u001b[0m \u001b[0my\u001b[0m\u001b[1;33m=\u001b[0m\u001b[1;34m\"Latent2\"\u001b[0m\u001b[1;33m,\u001b[0m \u001b[0mdata\u001b[0m\u001b[1;33m=\u001b[0m\u001b[0mpredictions\u001b[0m\u001b[1;33m)\u001b[0m\u001b[1;33m\u001b[0m\u001b[0m\n\u001b[0m",
      "\u001b[1;31mNameError\u001b[0m: name 'predictions' is not defined"
     ]
    }
   ],
   "source": [
    "ax = sns.scatterplot(x=\"Latent1\", y=\"Latent2\", data=predictions)"
   ]
  }
 ],
 "metadata": {
  "language_info": {
   "codemirror_mode": {
    "name": "ipython",
    "version": 3
   },
   "file_extension": ".py",
   "mimetype": "text/x-python",
   "name": "python",
   "nbconvert_exporter": "python",
   "pygments_lexer": "ipython3",
   "version": "3.7.0-final"
  },
  "orig_nbformat": 2,
  "kernelspec": {
   "name": "unit4env",
   "display_name": "unit4env (Python3)"
  }
 },
 "nbformat": 4,
 "nbformat_minor": 2
}