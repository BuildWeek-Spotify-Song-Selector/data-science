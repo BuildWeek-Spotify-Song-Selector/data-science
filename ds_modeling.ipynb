{
 "cells": [
  {
   "cell_type": "markdown",
   "metadata": {},
   "source": [
    "# Imports"
   ]
  },
  {
   "cell_type": "code",
   "execution_count": 1,
   "metadata": {
    "tags": []
   },
   "outputs": [],
   "source": [
    "import pandas as pd\n",
    "import numpy as np\n",
    "from sklearn.preprocessing import StandardScaler\n",
    "import tensorflow as tf\n",
    "from tensorflow import keras\n",
    "from tensorflow.keras import layers\n",
    "from tensorflow.keras.layers import Input, Dense\n",
    "import pprint\n",
    "from pickle import dump\n",
    "import tensorflow as tf"
   ]
  },
  {
   "cell_type": "code",
   "execution_count": 2,
   "metadata": {},
   "outputs": [],
   "source": [
    "songs = pd.read_csv(\"song_list5.csv\")\n",
    "songs2 = pd.read_csv(\"mood.csv\")"
   ]
  },
  {
   "cell_type": "code",
   "execution_count": 3,
   "metadata": {},
   "outputs": [
    {
     "output_type": "execute_result",
     "data": {
      "text/plain": "                   songid       artist                    track  danceability  \\\n0  5X4Qm0rVLcZeeO4tSDmBg3   Jack Bruce  Running Thro' Our Hands         0.456   \n1  1pNpt53PZPet9dvJN3RKGr   Prefuse 73        Parachute Panador         0.535   \n2  3oxz2oCzAWdPzA6In2zA5u  Pasion Vega   La Gata Bajo La Lluvia         0.294   \n3  05JGVUwt7XJk5FPqH0Wsch   Jonny Lang             Walking Away         0.563   \n4  3xdgCFMTn6ut8fZYxfAuR0         Skye         All the Promises         0.358   \n\n   energy  key  loudness  mode  speechiness  acousticness  instrumentalness  \\\n0   0.255  9.0   -15.805   1.0       0.0480       0.94600          0.170000   \n1   0.806  7.0   -10.289   1.0       0.0642       0.00436          0.019100   \n2   0.482  5.0    -6.406   1.0       0.0430       0.46300          0.000000   \n3   0.631  0.0    -5.144   1.0       0.0324       0.06350          0.000008   \n4   0.611  2.0    -9.752   0.0       0.0454       0.51500          0.000468   \n\n   liveness  valence    tempo  duration_ms  time_signature  \n0     0.951   0.0532  116.424     253067.0             4.0  \n1     0.457   0.3760   90.089      63733.0             4.0  \n2     0.335   0.2040  166.693     255280.0             3.0  \n3     0.163   0.5400  115.657     254827.0             4.0  \n4     0.149   0.1640  171.596     256933.0             4.0  ",
      "text/html": "<div>\n<style scoped>\n    .dataframe tbody tr th:only-of-type {\n        vertical-align: middle;\n    }\n\n    .dataframe tbody tr th {\n        vertical-align: top;\n    }\n\n    .dataframe thead th {\n        text-align: right;\n    }\n</style>\n<table border=\"1\" class=\"dataframe\">\n  <thead>\n    <tr style=\"text-align: right;\">\n      <th></th>\n      <th>songid</th>\n      <th>artist</th>\n      <th>track</th>\n      <th>danceability</th>\n      <th>energy</th>\n      <th>key</th>\n      <th>loudness</th>\n      <th>mode</th>\n      <th>speechiness</th>\n      <th>acousticness</th>\n      <th>instrumentalness</th>\n      <th>liveness</th>\n      <th>valence</th>\n      <th>tempo</th>\n      <th>duration_ms</th>\n      <th>time_signature</th>\n    </tr>\n  </thead>\n  <tbody>\n    <tr>\n      <th>0</th>\n      <td>5X4Qm0rVLcZeeO4tSDmBg3</td>\n      <td>Jack Bruce</td>\n      <td>Running Thro' Our Hands</td>\n      <td>0.456</td>\n      <td>0.255</td>\n      <td>9.0</td>\n      <td>-15.805</td>\n      <td>1.0</td>\n      <td>0.0480</td>\n      <td>0.94600</td>\n      <td>0.170000</td>\n      <td>0.951</td>\n      <td>0.0532</td>\n      <td>116.424</td>\n      <td>253067.0</td>\n      <td>4.0</td>\n    </tr>\n    <tr>\n      <th>1</th>\n      <td>1pNpt53PZPet9dvJN3RKGr</td>\n      <td>Prefuse 73</td>\n      <td>Parachute Panador</td>\n      <td>0.535</td>\n      <td>0.806</td>\n      <td>7.0</td>\n      <td>-10.289</td>\n      <td>1.0</td>\n      <td>0.0642</td>\n      <td>0.00436</td>\n      <td>0.019100</td>\n      <td>0.457</td>\n      <td>0.3760</td>\n      <td>90.089</td>\n      <td>63733.0</td>\n      <td>4.0</td>\n    </tr>\n    <tr>\n      <th>2</th>\n      <td>3oxz2oCzAWdPzA6In2zA5u</td>\n      <td>Pasion Vega</td>\n      <td>La Gata Bajo La Lluvia</td>\n      <td>0.294</td>\n      <td>0.482</td>\n      <td>5.0</td>\n      <td>-6.406</td>\n      <td>1.0</td>\n      <td>0.0430</td>\n      <td>0.46300</td>\n      <td>0.000000</td>\n      <td>0.335</td>\n      <td>0.2040</td>\n      <td>166.693</td>\n      <td>255280.0</td>\n      <td>3.0</td>\n    </tr>\n    <tr>\n      <th>3</th>\n      <td>05JGVUwt7XJk5FPqH0Wsch</td>\n      <td>Jonny Lang</td>\n      <td>Walking Away</td>\n      <td>0.563</td>\n      <td>0.631</td>\n      <td>0.0</td>\n      <td>-5.144</td>\n      <td>1.0</td>\n      <td>0.0324</td>\n      <td>0.06350</td>\n      <td>0.000008</td>\n      <td>0.163</td>\n      <td>0.5400</td>\n      <td>115.657</td>\n      <td>254827.0</td>\n      <td>4.0</td>\n    </tr>\n    <tr>\n      <th>4</th>\n      <td>3xdgCFMTn6ut8fZYxfAuR0</td>\n      <td>Skye</td>\n      <td>All the Promises</td>\n      <td>0.358</td>\n      <td>0.611</td>\n      <td>2.0</td>\n      <td>-9.752</td>\n      <td>0.0</td>\n      <td>0.0454</td>\n      <td>0.51500</td>\n      <td>0.000468</td>\n      <td>0.149</td>\n      <td>0.1640</td>\n      <td>171.596</td>\n      <td>256933.0</td>\n      <td>4.0</td>\n    </tr>\n  </tbody>\n</table>\n</div>"
     },
     "metadata": {},
     "execution_count": 3
    }
   ],
   "source": [
    "songs.head()"
   ]
  },
  {
   "cell_type": "code",
   "execution_count": 4,
   "metadata": {},
   "outputs": [
    {
     "output_type": "execute_result",
     "data": {
      "text/plain": "         artist                        album                   track_name  \\\n0   Rajiv Dhall                           84                           84   \n1   Niall Horan      Put A Little Love On Me      Put A Little Love On Me   \n2    Jake Scott  Favorite T-Shirt (Acoustic)  Favorite T-Shirt (Acoustic)   \n3  Jaymes Young                Happiest Year                Happiest Year   \n4           CAL          Dressed Up In White          Dressed Up In White   \n\n                 track_id  danceability  energy  key  loudness  mode  \\\n0  3qePCADpvWQ38YCLxXBrdU         0.448   0.413    5    -7.411     1   \n1  1hCTxutVVYvggAQcUUUZAT         0.584   0.465   10    -4.880     1   \n2  0sem2PTbwYJdCHoDn487TE         0.823   0.399    9    -8.608     1   \n3  5kcvBnt6DPX3AMEsCx1qDh         0.501   0.167    1   -14.061     1   \n4  0MoupiG0cMvbfPV1nwZAry         0.735   0.422    3    -8.208     1   \n\n   speechiness  instrumentalness  liveness  valence    tempo  duration_ms  \\\n0       0.0511               0.0     0.121    0.406  169.319       155729   \n1       0.0262               0.0     0.106    0.299   95.969       224586   \n2       0.0571               0.0     0.123    0.607  114.999       188442   \n3       0.0484               0.0     0.111    0.356  112.275       228443   \n4       0.0733               0.0     0.208    0.399  146.062       203836   \n\n   time_signature            playlist  \n0               4  warm_fuzzy_feeling  \n1               4  warm_fuzzy_feeling  \n2               4  warm_fuzzy_feeling  \n3               3  warm_fuzzy_feeling  \n4               4  warm_fuzzy_feeling  ",
      "text/html": "<div>\n<style scoped>\n    .dataframe tbody tr th:only-of-type {\n        vertical-align: middle;\n    }\n\n    .dataframe tbody tr th {\n        vertical-align: top;\n    }\n\n    .dataframe thead th {\n        text-align: right;\n    }\n</style>\n<table border=\"1\" class=\"dataframe\">\n  <thead>\n    <tr style=\"text-align: right;\">\n      <th></th>\n      <th>artist</th>\n      <th>album</th>\n      <th>track_name</th>\n      <th>track_id</th>\n      <th>danceability</th>\n      <th>energy</th>\n      <th>key</th>\n      <th>loudness</th>\n      <th>mode</th>\n      <th>speechiness</th>\n      <th>instrumentalness</th>\n      <th>liveness</th>\n      <th>valence</th>\n      <th>tempo</th>\n      <th>duration_ms</th>\n      <th>time_signature</th>\n      <th>playlist</th>\n    </tr>\n  </thead>\n  <tbody>\n    <tr>\n      <th>0</th>\n      <td>Rajiv Dhall</td>\n      <td>84</td>\n      <td>84</td>\n      <td>3qePCADpvWQ38YCLxXBrdU</td>\n      <td>0.448</td>\n      <td>0.413</td>\n      <td>5</td>\n      <td>-7.411</td>\n      <td>1</td>\n      <td>0.0511</td>\n      <td>0.0</td>\n      <td>0.121</td>\n      <td>0.406</td>\n      <td>169.319</td>\n      <td>155729</td>\n      <td>4</td>\n      <td>warm_fuzzy_feeling</td>\n    </tr>\n    <tr>\n      <th>1</th>\n      <td>Niall Horan</td>\n      <td>Put A Little Love On Me</td>\n      <td>Put A Little Love On Me</td>\n      <td>1hCTxutVVYvggAQcUUUZAT</td>\n      <td>0.584</td>\n      <td>0.465</td>\n      <td>10</td>\n      <td>-4.880</td>\n      <td>1</td>\n      <td>0.0262</td>\n      <td>0.0</td>\n      <td>0.106</td>\n      <td>0.299</td>\n      <td>95.969</td>\n      <td>224586</td>\n      <td>4</td>\n      <td>warm_fuzzy_feeling</td>\n    </tr>\n    <tr>\n      <th>2</th>\n      <td>Jake Scott</td>\n      <td>Favorite T-Shirt (Acoustic)</td>\n      <td>Favorite T-Shirt (Acoustic)</td>\n      <td>0sem2PTbwYJdCHoDn487TE</td>\n      <td>0.823</td>\n      <td>0.399</td>\n      <td>9</td>\n      <td>-8.608</td>\n      <td>1</td>\n      <td>0.0571</td>\n      <td>0.0</td>\n      <td>0.123</td>\n      <td>0.607</td>\n      <td>114.999</td>\n      <td>188442</td>\n      <td>4</td>\n      <td>warm_fuzzy_feeling</td>\n    </tr>\n    <tr>\n      <th>3</th>\n      <td>Jaymes Young</td>\n      <td>Happiest Year</td>\n      <td>Happiest Year</td>\n      <td>5kcvBnt6DPX3AMEsCx1qDh</td>\n      <td>0.501</td>\n      <td>0.167</td>\n      <td>1</td>\n      <td>-14.061</td>\n      <td>1</td>\n      <td>0.0484</td>\n      <td>0.0</td>\n      <td>0.111</td>\n      <td>0.356</td>\n      <td>112.275</td>\n      <td>228443</td>\n      <td>3</td>\n      <td>warm_fuzzy_feeling</td>\n    </tr>\n    <tr>\n      <th>4</th>\n      <td>CAL</td>\n      <td>Dressed Up In White</td>\n      <td>Dressed Up In White</td>\n      <td>0MoupiG0cMvbfPV1nwZAry</td>\n      <td>0.735</td>\n      <td>0.422</td>\n      <td>3</td>\n      <td>-8.208</td>\n      <td>1</td>\n      <td>0.0733</td>\n      <td>0.0</td>\n      <td>0.208</td>\n      <td>0.399</td>\n      <td>146.062</td>\n      <td>203836</td>\n      <td>4</td>\n      <td>warm_fuzzy_feeling</td>\n    </tr>\n  </tbody>\n</table>\n</div>"
     },
     "metadata": {},
     "execution_count": 4
    }
   ],
   "source": [
    "songs2.head()"
   ]
  },
  {
   "cell_type": "code",
   "execution_count": 5,
   "metadata": {},
   "outputs": [],
   "source": [
    "features = songs[[\n",
    "    \"danceability\", \"energy\", \"key\", \"loudness\", \"mode\", \"speechiness\", \n",
    "    \"acousticness\", \"instrumentalness\", \"liveness\", \"valence\", \"tempo\", \n",
    "    \"duration_ms\", \"time_signature\"]].to_numpy()"
   ]
  },
  {
   "cell_type": "code",
   "execution_count": 6,
   "metadata": {},
   "outputs": [
    {
     "output_type": "execute_result",
     "data": {
      "text/plain": "array([ 4.56000e-01,  2.55000e-01,  9.00000e+00, -1.58050e+01,\n        1.00000e+00,  4.80000e-02,  9.46000e-01,  1.70000e-01,\n        9.51000e-01,  5.32000e-02,  1.16424e+02,  2.53067e+05,\n        4.00000e+00])"
     },
     "metadata": {},
     "execution_count": 6
    }
   ],
   "source": [
    "features[0]"
   ]
  },
  {
   "cell_type": "code",
   "execution_count": 7,
   "metadata": {},
   "outputs": [],
   "source": [
    "scaler = StandardScaler()"
   ]
  },
  {
   "cell_type": "code",
   "execution_count": 8,
   "metadata": {},
   "outputs": [],
   "source": [
    "x_train = scaler.fit_transform(features)\n",
    "# x_train = features"
   ]
  },
  {
   "cell_type": "code",
   "execution_count": 9,
   "metadata": {},
   "outputs": [],
   "source": [
    "dump(scaler, open('scaler.pkl', 'wb'))"
   ]
  },
  {
   "cell_type": "code",
   "execution_count": 10,
   "metadata": {
    "tags": []
   },
   "outputs": [
    {
     "output_type": "stream",
     "name": "stdout",
     "text": "[-0.47695143 -1.43616823  1.03467011 -1.32564479  0.70711739 -0.34028656\n  1.91669133 -0.14321669  3.87500921 -1.70714343 -0.17066299  0.03404049\n  0.24368604]\n(13,)\n"
    }
   ],
   "source": [
    "print(x_train[0])\n",
    "print(x_train[0].shape)"
   ]
  },
  {
   "cell_type": "code",
   "execution_count": 11,
   "metadata": {
    "tags": []
   },
   "outputs": [],
   "source": [
    "# encoder_input = Input(shape=(13,))\n",
    "\n",
    "# encoder_dense1 = Dense(10, activation='relu')(encoder_input)\n",
    "# encoder_dense2 = Dense(8, activation='relu')(encoder_dense1)\n",
    "# encoder_dense3 = Dense(6, activation='relu')(encoder_dense2)\n",
    "# encoder_output = Dense(4, activation='relu')(encoder_dense3)\n",
    "\n",
    "# encoder = keras.Model(encoder_input, encoder_output)\n",
    "\n",
    "\n",
    "\n",
    "# decoder_dense1 = Dense(6, activation='relu')(encoder_output)\n",
    "# decoder_dense2 = Dense(8, activation='relu')(decoder_dense1)\n",
    "# decoder_dense3 = Dense(10, activation='relu')(decoder_dense2)\n",
    "# decoder_output = Dense(13)(decoder_dense3)\n",
    "\n",
    "# auto_encoder = keras.Model(encoder_input, decoder_output)\n",
    "\n",
    "# auto_encoder.summary()"
   ]
  },
  {
   "cell_type": "code",
   "execution_count": 12,
   "metadata": {
    "tags": []
   },
   "outputs": [
    {
     "output_type": "stream",
     "name": "stdout",
     "text": "Model: \"model_1\"\n_________________________________________________________________\nLayer (type)                 Output Shape              Param #   \n=================================================================\ninput_1 (InputLayer)         [(None, 13)]              0         \n_________________________________________________________________\ndense (Dense)                (None, 12)                168       \n_________________________________________________________________\ndense_1 (Dense)              (None, 10)                130       \n_________________________________________________________________\ndense_2 (Dense)              (None, 8)                 88        \n_________________________________________________________________\ndense_3 (Dense)              (None, 6)                 54        \n_________________________________________________________________\ndense_4 (Dense)              (None, 2)                 14        \n_________________________________________________________________\ndense_5 (Dense)              (None, 6)                 18        \n_________________________________________________________________\ndense_6 (Dense)              (None, 8)                 56        \n_________________________________________________________________\ndense_7 (Dense)              (None, 10)                90        \n_________________________________________________________________\ndense_8 (Dense)              (None, 12)                132       \n_________________________________________________________________\ndense_9 (Dense)              (None, 13)                169       \n=================================================================\nTotal params: 919\nTrainable params: 919\nNon-trainable params: 0\n_________________________________________________________________\n"
    }
   ],
   "source": [
    "# Model Version 2\n",
    "\n",
    "encoder_input = Input(shape=(13,))\n",
    "\n",
    "encoder_dense1 = Dense(12, activation='relu')(encoder_input)\n",
    "encoder_dense2 = Dense(10, activation='relu')(encoder_dense1)\n",
    "encoder_dense3 = Dense(8, activation='relu')(encoder_dense2)\n",
    "encoder_dense4 = Dense(6, activation='relu')(encoder_dense3)\n",
    "encoder_output = Dense(2, activation='relu')(encoder_dense4)\n",
    "\n",
    "encoder = keras.Model(encoder_input, encoder_output)\n",
    "encoder.compile()\n",
    "\n",
    "decoder_dense2 = Dense(6, activation='relu')(encoder_output)\n",
    "decoder_dense3 = Dense(8, activation='relu')(decoder_dense2)\n",
    "decoder_dense4 = Dense(10, activation='relu')(decoder_dense3)\n",
    "decoder_dense5 = Dense(12, activation='relu')(decoder_dense4)\n",
    "decoder_output = Dense(13)(decoder_dense5)\n",
    "# decoder_output = Dense(13, activation='softplus')(decoder_dense5)\n",
    "\n",
    "auto_encoder = keras.Model(encoder_input, decoder_output)\n",
    "\n",
    "auto_encoder.summary()"
   ]
  },
  {
   "cell_type": "code",
   "execution_count": 13,
   "metadata": {},
   "outputs": [],
   "source": [
    "auto_encoder.compile(optimizer='nadam',\n",
    "                    loss='mean_absolute_error',\n",
    "                    metrics='mean_absolute_percentage_error')"
   ]
  },
  {
   "cell_type": "code",
   "execution_count": 14,
   "metadata": {
    "tags": []
   },
   "outputs": [
    {
     "output_type": "stream",
     "name": "stdout",
     "text": "Epoch 1/5\n1563/1563 [==============================] - 3s 2ms/step - loss: 0.5844 - mean_absolute_percentage_error: 178.8770\nEpoch 2/5\n1563/1563 [==============================] - 2s 1ms/step - loss: 0.5127 - mean_absolute_percentage_error: 183.6284\nEpoch 3/5\n1563/1563 [==============================] - 2s 2ms/step - loss: 0.4802 - mean_absolute_percentage_error: 185.5531\nEpoch 4/5\n1563/1563 [==============================] - 2s 2ms/step - loss: 0.4688 - mean_absolute_percentage_error: 187.8470\nEpoch 5/5\n1563/1563 [==============================] - 2s 1ms/step - loss: 0.4630 - mean_absolute_percentage_error: 188.6069\n"
    },
    {
     "output_type": "execute_result",
     "data": {
      "text/plain": "<tensorflow.python.keras.callbacks.History at 0x2196b51ae48>"
     },
     "metadata": {},
     "execution_count": 14
    }
   ],
   "source": [
    "auto_encoder.fit(x_train, x_train,\n",
    "                epochs=5,\n",
    "                batch_size=32,\n",
    "                shuffle=True)"
   ]
  },
  {
   "cell_type": "code",
   "execution_count": 15,
   "metadata": {
    "tags": []
   },
   "outputs": [],
   "source": [
    "preds = auto_encoder.predict(x_train)"
   ]
  },
  {
   "cell_type": "code",
   "execution_count": 16,
   "metadata": {
    "tags": []
   },
   "outputs": [
    {
     "output_type": "stream",
     "name": "stdout",
     "text": "array([-1.1171317 , -1.8356392 ,  1.0730016 , -1.479594  ,  0.7007265 ,\n       -0.42651197,  1.9171674 , -0.17966518, -0.45103863, -1.2271085 ,\n       -0.5789978 , -0.4186229 ,  0.2492581 ], dtype=float32)\narray([-0.47695143, -1.43616823,  1.03467011, -1.32564479,  0.70711739,\n       -0.34028656,  1.91669133, -0.14321669,  3.87500921, -1.70714343,\n       -0.17066299,  0.03404049,  0.24368604])\n=======================================================================\narray([-0.05321953,  0.7792116 ,  0.513899  ,  0.6474677 ,  0.73548454,\n       -0.29950082, -0.78845435, -0.6003849 , -0.28535685,  0.18957484,\n        0.22055459, -0.13439628,  0.22119108], dtype=float32)\narray([-0.03739907,  0.69843612,  0.47428756, -0.17173186,  0.70711739,\n       -0.1963104 , -0.87635746, -0.58458172,  1.27879637, -0.49117162,\n       -1.06220066, -1.51723037,  0.24368604])\n=======================================================================\narray([ 0.8985118 ,  0.09850469,  0.10858285,  0.23108318,  0.72001404,\n       -0.37826705, -0.28191358, -0.62897974, -0.521139  ,  0.7529552 ,\n       -0.11813417, -0.13006148,  0.23077178], dtype=float32)\narray([-1.37831198, -0.55675773, -0.08609498,  0.64056762,  0.70711739,\n       -0.38472365,  0.48403919, -0.64044701,  0.6376264 , -1.13908721,\n        1.53112958,  0.05217227, -1.94432308])\n"
    }
   ],
   "source": [
    "pprint.pprint(preds[0])\n",
    "pprint.pprint(x_train[0])\n",
    "print(\"=======================================================================\")\n",
    "pprint.pprint(preds[1])\n",
    "pprint.pprint(x_train[1])\n",
    "print(\"=======================================================================\")\n",
    "pprint.pprint(preds[2])\n",
    "pprint.pprint(x_train[2])"
   ]
  },
  {
   "cell_type": "code",
   "execution_count": 17,
   "metadata": {
    "tags": []
   },
   "outputs": [],
   "source": [
    "encoder.save('encoder', save_format='h5')"
   ]
  },
  {
   "cell_type": "code",
   "execution_count": 21,
   "metadata": {},
   "outputs": [],
   "source": [
    "encoder.save('encoder.h5')"
   ]
  },
  {
   "cell_type": "code",
   "execution_count": 18,
   "metadata": {
    "tags": []
   },
   "outputs": [],
   "source": [
    "# # auto_encoder.save(\"/nnmodels/auto_encoder\")\n",
    "\n",
    "# filepath = \"/nnmodels/auto_encoder\"\n",
    "\n",
    "# tf.keras.models.save_model(\n",
    "#     auto_encoder, filepath, overwrite=True, include_optimizer=True, save_format=None,\n",
    "#     signatures=None, options=None\n",
    "# )"
   ]
  },
  {
   "cell_type": "code",
   "execution_count": 19,
   "metadata": {},
   "outputs": [],
   "source": [
    "# from tensorflow import keras\n",
    "# model = keras.models.load_model('path/to/location')"
   ]
  }
 ],
 "metadata": {
  "language_info": {
   "codemirror_mode": {
    "name": "ipython",
    "version": 3
   },
   "file_extension": ".py",
   "mimetype": "text/x-python",
   "name": "python",
   "nbconvert_exporter": "python",
   "pygments_lexer": "ipython3",
   "version": "3.7.0-final"
  },
  "orig_nbformat": 2,
  "kernelspec": {
   "name": "unit4env",
   "display_name": "unit4env (Python3)"
  }
 },
 "nbformat": 4,
 "nbformat_minor": 2
}