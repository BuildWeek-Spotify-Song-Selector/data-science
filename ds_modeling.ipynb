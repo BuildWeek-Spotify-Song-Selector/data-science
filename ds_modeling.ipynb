{
 "cells": [
  {
   "cell_type": "markdown",
   "metadata": {},
   "source": [
    "# Imports"
   ]
  },
  {
   "cell_type": "code",
   "execution_count": 1,
   "metadata": {},
   "outputs": [],
   "source": [
    "import pandas as pd\n",
    "import numpy as np\n",
    "from sklearn.preprocessing import StandardScaler\n",
    "import tensorflow as tf\n",
    "from tensorflow import keras\n",
    "from tensorflow.keras import layers\n",
    "from tensorflow.keras.layers import Input, Dense"
   ]
  },
  {
   "cell_type": "code",
   "execution_count": 2,
   "metadata": {},
   "outputs": [],
   "source": [
    "songs = pd.read_csv(\"song_list5.csv\")"
   ]
  },
  {
   "cell_type": "code",
   "execution_count": 3,
   "metadata": {},
   "outputs": [
    {
     "output_type": "execute_result",
     "data": {
      "text/plain": "                   songid       artist                    track  danceability  \\\n0  5X4Qm0rVLcZeeO4tSDmBg3   Jack Bruce  Running Thro' Our Hands         0.456   \n1  1pNpt53PZPet9dvJN3RKGr   Prefuse 73        Parachute Panador         0.535   \n2  3oxz2oCzAWdPzA6In2zA5u  Pasion Vega   La Gata Bajo La Lluvia         0.294   \n3  05JGVUwt7XJk5FPqH0Wsch   Jonny Lang             Walking Away         0.563   \n4  3xdgCFMTn6ut8fZYxfAuR0         Skye         All the Promises         0.358   \n\n   energy  key  loudness  mode  speechiness  acousticness  instrumentalness  \\\n0   0.255  9.0   -15.805   1.0       0.0480       0.94600          0.170000   \n1   0.806  7.0   -10.289   1.0       0.0642       0.00436          0.019100   \n2   0.482  5.0    -6.406   1.0       0.0430       0.46300          0.000000   \n3   0.631  0.0    -5.144   1.0       0.0324       0.06350          0.000008   \n4   0.611  2.0    -9.752   0.0       0.0454       0.51500          0.000468   \n\n   liveness  valence    tempo  duration_ms  time_signature  \n0     0.951   0.0532  116.424     253067.0             4.0  \n1     0.457   0.3760   90.089      63733.0             4.0  \n2     0.335   0.2040  166.693     255280.0             3.0  \n3     0.163   0.5400  115.657     254827.0             4.0  \n4     0.149   0.1640  171.596     256933.0             4.0  ",
      "text/html": "<div>\n<style scoped>\n    .dataframe tbody tr th:only-of-type {\n        vertical-align: middle;\n    }\n\n    .dataframe tbody tr th {\n        vertical-align: top;\n    }\n\n    .dataframe thead th {\n        text-align: right;\n    }\n</style>\n<table border=\"1\" class=\"dataframe\">\n  <thead>\n    <tr style=\"text-align: right;\">\n      <th></th>\n      <th>songid</th>\n      <th>artist</th>\n      <th>track</th>\n      <th>danceability</th>\n      <th>energy</th>\n      <th>key</th>\n      <th>loudness</th>\n      <th>mode</th>\n      <th>speechiness</th>\n      <th>acousticness</th>\n      <th>instrumentalness</th>\n      <th>liveness</th>\n      <th>valence</th>\n      <th>tempo</th>\n      <th>duration_ms</th>\n      <th>time_signature</th>\n    </tr>\n  </thead>\n  <tbody>\n    <tr>\n      <th>0</th>\n      <td>5X4Qm0rVLcZeeO4tSDmBg3</td>\n      <td>Jack Bruce</td>\n      <td>Running Thro' Our Hands</td>\n      <td>0.456</td>\n      <td>0.255</td>\n      <td>9.0</td>\n      <td>-15.805</td>\n      <td>1.0</td>\n      <td>0.0480</td>\n      <td>0.94600</td>\n      <td>0.170000</td>\n      <td>0.951</td>\n      <td>0.0532</td>\n      <td>116.424</td>\n      <td>253067.0</td>\n      <td>4.0</td>\n    </tr>\n    <tr>\n      <th>1</th>\n      <td>1pNpt53PZPet9dvJN3RKGr</td>\n      <td>Prefuse 73</td>\n      <td>Parachute Panador</td>\n      <td>0.535</td>\n      <td>0.806</td>\n      <td>7.0</td>\n      <td>-10.289</td>\n      <td>1.0</td>\n      <td>0.0642</td>\n      <td>0.00436</td>\n      <td>0.019100</td>\n      <td>0.457</td>\n      <td>0.3760</td>\n      <td>90.089</td>\n      <td>63733.0</td>\n      <td>4.0</td>\n    </tr>\n    <tr>\n      <th>2</th>\n      <td>3oxz2oCzAWdPzA6In2zA5u</td>\n      <td>Pasion Vega</td>\n      <td>La Gata Bajo La Lluvia</td>\n      <td>0.294</td>\n      <td>0.482</td>\n      <td>5.0</td>\n      <td>-6.406</td>\n      <td>1.0</td>\n      <td>0.0430</td>\n      <td>0.46300</td>\n      <td>0.000000</td>\n      <td>0.335</td>\n      <td>0.2040</td>\n      <td>166.693</td>\n      <td>255280.0</td>\n      <td>3.0</td>\n    </tr>\n    <tr>\n      <th>3</th>\n      <td>05JGVUwt7XJk5FPqH0Wsch</td>\n      <td>Jonny Lang</td>\n      <td>Walking Away</td>\n      <td>0.563</td>\n      <td>0.631</td>\n      <td>0.0</td>\n      <td>-5.144</td>\n      <td>1.0</td>\n      <td>0.0324</td>\n      <td>0.06350</td>\n      <td>0.000008</td>\n      <td>0.163</td>\n      <td>0.5400</td>\n      <td>115.657</td>\n      <td>254827.0</td>\n      <td>4.0</td>\n    </tr>\n    <tr>\n      <th>4</th>\n      <td>3xdgCFMTn6ut8fZYxfAuR0</td>\n      <td>Skye</td>\n      <td>All the Promises</td>\n      <td>0.358</td>\n      <td>0.611</td>\n      <td>2.0</td>\n      <td>-9.752</td>\n      <td>0.0</td>\n      <td>0.0454</td>\n      <td>0.51500</td>\n      <td>0.000468</td>\n      <td>0.149</td>\n      <td>0.1640</td>\n      <td>171.596</td>\n      <td>256933.0</td>\n      <td>4.0</td>\n    </tr>\n  </tbody>\n</table>\n</div>"
     },
     "metadata": {},
     "execution_count": 3
    }
   ],
   "source": [
    "songs.head()"
   ]
  },
  {
   "cell_type": "code",
   "execution_count": 4,
   "metadata": {},
   "outputs": [
    {
     "output_type": "execute_result",
     "data": {
      "text/plain": "songid               object\nartist               object\ntrack                object\ndanceability        float64\nenergy              float64\nkey                 float64\nloudness            float64\nmode                float64\nspeechiness         float64\nacousticness        float64\ninstrumentalness    float64\nliveness            float64\nvalence             float64\ntempo               float64\nduration_ms         float64\ntime_signature      float64\ndtype: object"
     },
     "metadata": {},
     "execution_count": 4
    }
   ],
   "source": [
    "songs.dtypes"
   ]
  },
  {
   "cell_type": "code",
   "execution_count": 7,
   "metadata": {},
   "outputs": [],
   "source": [
    "features = songs[[\n",
    "    \"danceability\", \"energy\", \"key\", \"loudness\", \"mode\", \"speechiness\", \n",
    "    \"acousticness\", \"instrumentalness\", \"liveness\", \"valence\", \"tempo\", \n",
    "    \"duration_ms\", \"time_signature\"]].to_numpy()"
   ]
  },
  {
   "cell_type": "code",
   "execution_count": 8,
   "metadata": {},
   "outputs": [
    {
     "output_type": "execute_result",
     "data": {
      "text/plain": "array([ 4.56000e-01,  2.55000e-01,  9.00000e+00, -1.58050e+01,\n        1.00000e+00,  4.80000e-02,  9.46000e-01,  1.70000e-01,\n        9.51000e-01,  5.32000e-02,  1.16424e+02,  2.53067e+05,\n        4.00000e+00])"
     },
     "metadata": {},
     "execution_count": 8
    }
   ],
   "source": [
    "features[0]"
   ]
  },
  {
   "cell_type": "code",
   "execution_count": 10,
   "metadata": {},
   "outputs": [],
   "source": [
    "scaler = StandardScaler()"
   ]
  },
  {
   "cell_type": "code",
   "execution_count": 11,
   "metadata": {},
   "outputs": [],
   "source": [
    "x_train = scaler.fit_transform(features)"
   ]
  },
  {
   "cell_type": "code",
   "execution_count": 13,
   "metadata": {
    "tags": []
   },
   "outputs": [
    {
     "output_type": "stream",
     "name": "stdout",
     "text": "[-0.47695143 -1.43616823  1.03467011 -1.32564479  0.70711739 -0.34028656\n  1.91669133 -0.14321669  3.87500921 -1.70714343 -0.17066299  0.03404049\n  0.24368604]\n(13,)\n"
    }
   ],
   "source": [
    "print(x_train[0])\n",
    "print(x_train[0].shape)"
   ]
  },
  {
   "cell_type": "code",
   "execution_count": 33,
   "metadata": {
    "tags": []
   },
   "outputs": [
    {
     "output_type": "stream",
     "name": "stdout",
     "text": "Model: \"model_7\"\n_________________________________________________________________\nLayer (type)                 Output Shape              Param #   \n=================================================================\ninput_5 (InputLayer)         [(None, 13)]              0         \n_________________________________________________________________\ndense_18 (Dense)             (None, 10)                140       \n_________________________________________________________________\ndense_19 (Dense)             (None, 8)                 88        \n_________________________________________________________________\ndense_20 (Dense)             (None, 6)                 54        \n_________________________________________________________________\ndense_21 (Dense)             (None, 4)                 28        \n_________________________________________________________________\ndense_22 (Dense)             (None, 6)                 30        \n_________________________________________________________________\ndense_23 (Dense)             (None, 8)                 56        \n_________________________________________________________________\ndense_24 (Dense)             (None, 10)                90        \n_________________________________________________________________\ndense_25 (Dense)             (None, 13)                143       \n=================================================================\nTotal params: 629\nTrainable params: 629\nNon-trainable params: 0\n_________________________________________________________________\n"
    }
   ],
   "source": [
    "encoder_input = Input(shape=(13,))\n",
    "\n",
    "encoder_dense1 = Dense(10, activation='relu')(encoder_input)\n",
    "encoder_dense2 = Dense(8, activation='relu')(encoder_dense1)\n",
    "encoder_dense3 = Dense(6, activation='relu')(encoder_dense2)\n",
    "encoder_output = Dense(4, activation='relu')(encoder_dense3)\n",
    "\n",
    "encoder = keras.Model(encoder_input, encoder_output)\n",
    "\n",
    "\n",
    "\n",
    "decoder_dense1 = Dense(6, activation='relu')(encoder_output)\n",
    "decoder_dense2 = Dense(8, activation='relu')(decoder_dense1)\n",
    "decoder_dense3 = Dense(10, activation='relu')(decoder_dense2)\n",
    "decoder_output = Dense(13, activation='sigmoid')(decoder_dense3)\n",
    "\n",
    "auto_encoder = keras.Model(encoder_input, decoder_output)\n",
    "\n",
    "auto_encoder.summary()"
   ]
  },
  {
   "cell_type": "code",
   "execution_count": 34,
   "metadata": {},
   "outputs": [],
   "source": [
    "auto_encoder.compile(optimizer='nadam',\n",
    "                    loss='mean_squared_error',\n",
    "                    metrics=['accuracy'])"
   ]
  },
  {
   "cell_type": "code",
   "execution_count": 35,
   "metadata": {
    "tags": []
   },
   "outputs": [
    {
     "output_type": "stream",
     "name": "stdout",
     "text": "Epoch 1/100\n1563/1563 [==============================] - 2s 1ms/step - loss: 0.9406 - accuracy: 0.1116\nEpoch 2/100\n1563/1563 [==============================] - 2s 1ms/step - loss: 0.8377 - accuracy: 0.2696\nEpoch 3/100\n1563/1563 [==============================] - 2s 1ms/step - loss: 0.8110 - accuracy: 0.3038\nEpoch 4/100\n1563/1563 [==============================] - 2s 1ms/step - loss: 0.7952 - accuracy: 0.3394\nEpoch 5/100\n1563/1563 [==============================] - 2s 1ms/step - loss: 0.7843 - accuracy: 0.3913\nEpoch 6/100\n1563/1563 [==============================] - 2s 1ms/step - loss: 0.7747 - accuracy: 0.4106\nEpoch 7/100\n1563/1563 [==============================] - 2s 1ms/step - loss: 0.7692 - accuracy: 0.4255\nEpoch 8/100\n1563/1563 [==============================] - 2s 1ms/step - loss: 0.7657 - accuracy: 0.4333\nEpoch 9/100\n1563/1563 [==============================] - 2s 1ms/step - loss: 0.7637 - accuracy: 0.4346\nEpoch 10/100\n1563/1563 [==============================] - 2s 1ms/step - loss: 0.7619 - accuracy: 0.4344\nEpoch 11/100\n1563/1563 [==============================] - 2s 1ms/step - loss: 0.7604 - accuracy: 0.4361\nEpoch 12/100\n1563/1563 [==============================] - 2s 1ms/step - loss: 0.7590 - accuracy: 0.4351\nEpoch 13/100\n1563/1563 [==============================] - 2s 1ms/step - loss: 0.7557 - accuracy: 0.4443\nEpoch 14/100\n1563/1563 [==============================] - 2s 1ms/step - loss: 0.7501 - accuracy: 0.4573\nEpoch 15/100\n1563/1563 [==============================] - 2s 1ms/step - loss: 0.7457 - accuracy: 0.4733\nEpoch 16/100\n1563/1563 [==============================] - 2s 1ms/step - loss: 0.7428 - accuracy: 0.4865\nEpoch 17/100\n1563/1563 [==============================] - 2s 1ms/step - loss: 0.7408 - accuracy: 0.4931\nEpoch 18/100\n1563/1563 [==============================] - 2s 1ms/step - loss: 0.7386 - accuracy: 0.4913\nEpoch 19/100\n1563/1563 [==============================] - 2s 1ms/step - loss: 0.7369 - accuracy: 0.4922\nEpoch 20/100\n1563/1563 [==============================] - 2s 1ms/step - loss: 0.7354 - accuracy: 0.4935\nEpoch 21/100\n1563/1563 [==============================] - 2s 1ms/step - loss: 0.7343 - accuracy: 0.4942\nEpoch 22/100\n1563/1563 [==============================] - 2s 1ms/step - loss: 0.7335 - accuracy: 0.4941\nEpoch 23/100\n1563/1563 [==============================] - 2s 1ms/step - loss: 0.7329 - accuracy: 0.4916\nEpoch 24/100\n1563/1563 [==============================] - 2s 1ms/step - loss: 0.7326 - accuracy: 0.4929\nEpoch 25/100\n1563/1563 [==============================] - 2s 1ms/step - loss: 0.7323 - accuracy: 0.4925\nEpoch 26/100\n1563/1563 [==============================] - 2s 1ms/step - loss: 0.7320 - accuracy: 0.4938\nEpoch 27/100\n1563/1563 [==============================] - 2s 1ms/step - loss: 0.7317 - accuracy: 0.4913\nEpoch 28/100\n1563/1563 [==============================] - 2s 1ms/step - loss: 0.7316 - accuracy: 0.4882\nEpoch 29/100\n1563/1563 [==============================] - 2s 1ms/step - loss: 0.7315 - accuracy: 0.4891\nEpoch 30/100\n1563/1563 [==============================] - 2s 1ms/step - loss: 0.7313 - accuracy: 0.4907\nEpoch 31/100\n1563/1563 [==============================] - 2s 1ms/step - loss: 0.7308 - accuracy: 0.4889\nEpoch 32/100\n1563/1563 [==============================] - 2s 1ms/step - loss: 0.7306 - accuracy: 0.4902\nEpoch 33/100\n1563/1563 [==============================] - 2s 1ms/step - loss: 0.7303 - accuracy: 0.4914\nEpoch 34/100\n1563/1563 [==============================] - 2s 1ms/step - loss: 0.7310 - accuracy: 0.4900\nEpoch 35/100\n1563/1563 [==============================] - 2s 1ms/step - loss: 0.7303 - accuracy: 0.4913\nEpoch 36/100\n1563/1563 [==============================] - 2s 1ms/step - loss: 0.7299 - accuracy: 0.4916\nEpoch 37/100\n1563/1563 [==============================] - 2s 1ms/step - loss: 0.7299 - accuracy: 0.4915\nEpoch 38/100\n1563/1563 [==============================] - 2s 1ms/step - loss: 0.7296 - accuracy: 0.4888\nEpoch 39/100\n1563/1563 [==============================] - 2s 1ms/step - loss: 0.7298 - accuracy: 0.4880\nEpoch 40/100\n1563/1563 [==============================] - 2s 1ms/step - loss: 0.7295 - accuracy: 0.4866\nEpoch 41/100\n1563/1563 [==============================] - 2s 1ms/step - loss: 0.7295 - accuracy: 0.4906\nEpoch 42/100\n1563/1563 [==============================] - 2s 1ms/step - loss: 0.7296 - accuracy: 0.4943\nEpoch 43/100\n1563/1563 [==============================] - 2s 1ms/step - loss: 0.7295 - accuracy: 0.4938\nEpoch 44/100\n1563/1563 [==============================] - 2s 1ms/step - loss: 0.7294 - accuracy: 0.4960\nEpoch 45/100\n1563/1563 [==============================] - 2s 1ms/step - loss: 0.7295 - accuracy: 0.4975\nEpoch 46/100\n1563/1563 [==============================] - 2s 1ms/step - loss: 0.7293 - accuracy: 0.4985\nEpoch 47/100\n1563/1563 [==============================] - 2s 1ms/step - loss: 0.7292 - accuracy: 0.4972\nEpoch 48/100\n1563/1563 [==============================] - 2s 1ms/step - loss: 0.7291 - accuracy: 0.4966\nEpoch 49/100\n1563/1563 [==============================] - 2s 1ms/step - loss: 0.7289 - accuracy: 0.5031\nEpoch 50/100\n1563/1563 [==============================] - 2s 1ms/step - loss: 0.7289 - accuracy: 0.5007\nEpoch 51/100\n1563/1563 [==============================] - 2s 1ms/step - loss: 0.7291 - accuracy: 0.5029\nEpoch 52/100\n1563/1563 [==============================] - 3s 2ms/step - loss: 0.7289 - accuracy: 0.5010\nEpoch 53/100\n1563/1563 [==============================] - 2s 1ms/step - loss: 0.7285 - accuracy: 0.4972\nEpoch 54/100\n1563/1563 [==============================] - 2s 1ms/step - loss: 0.7283 - accuracy: 0.4990\nEpoch 55/100\n1563/1563 [==============================] - 2s 1ms/step - loss: 0.7283 - accuracy: 0.5019\nEpoch 56/100\n1563/1563 [==============================] - 2s 1ms/step - loss: 0.7282 - accuracy: 0.4977\nEpoch 57/100\n1563/1563 [==============================] - 2s 1ms/step - loss: 0.7284 - accuracy: 0.4933\nEpoch 58/100\n1563/1563 [==============================] - 2s 1ms/step - loss: 0.7282 - accuracy: 0.4938\nEpoch 59/100\n1563/1563 [==============================] - 2s 1ms/step - loss: 0.7280 - accuracy: 0.4933\nEpoch 60/100\n1563/1563 [==============================] - 2s 1ms/step - loss: 0.7278 - accuracy: 0.4922\nEpoch 61/100\n1563/1563 [==============================] - 2s 1ms/step - loss: 0.7278 - accuracy: 0.4957\nEpoch 62/100\n1563/1563 [==============================] - 2s 1ms/step - loss: 0.7277 - accuracy: 0.4959\nEpoch 63/100\n1563/1563 [==============================] - 2s 1ms/step - loss: 0.7278 - accuracy: 0.4893\nEpoch 64/100\n1563/1563 [==============================] - 2s 1ms/step - loss: 0.7275 - accuracy: 0.4906\nEpoch 65/100\n1563/1563 [==============================] - 2s 1ms/step - loss: 0.7274 - accuracy: 0.4882\nEpoch 66/100\n1563/1563 [==============================] - 2s 1ms/step - loss: 0.7275 - accuracy: 0.4841\nEpoch 67/100\n1563/1563 [==============================] - 2s 1ms/step - loss: 0.7272 - accuracy: 0.4888\nEpoch 68/100\n1563/1563 [==============================] - 2s 1ms/step - loss: 0.7273 - accuracy: 0.4916\nEpoch 69/100\n1563/1563 [==============================] - 2s 1ms/step - loss: 0.7275 - accuracy: 0.4890\nEpoch 70/100\n1563/1563 [==============================] - 2s 1ms/step - loss: 0.7273 - accuracy: 0.4895\nEpoch 71/100\n1563/1563 [==============================] - 2s 1ms/step - loss: 0.7270 - accuracy: 0.4914\nEpoch 72/100\n1563/1563 [==============================] - 2s 1ms/step - loss: 0.7272 - accuracy: 0.4904\nEpoch 73/100\n1563/1563 [==============================] - 2s 1ms/step - loss: 0.7277 - accuracy: 0.4886\nEpoch 74/100\n1563/1563 [==============================] - 2s 1ms/step - loss: 0.7281 - accuracy: 0.4871\nEpoch 75/100\n1563/1563 [==============================] - 2s 1ms/step - loss: 0.7283 - accuracy: 0.4877\nEpoch 76/100\n1563/1563 [==============================] - 2s 1ms/step - loss: 0.7282 - accuracy: 0.4848\nEpoch 77/100\n1563/1563 [==============================] - 2s 1ms/step - loss: 0.7285 - accuracy: 0.4832\nEpoch 78/100\n1563/1563 [==============================] - 2s 1ms/step - loss: 0.7284 - accuracy: 0.4855\nEpoch 79/100\n1563/1563 [==============================] - 2s 1ms/step - loss: 0.7279 - accuracy: 0.4909\nEpoch 80/100\n1563/1563 [==============================] - 2s 1ms/step - loss: 0.7276 - accuracy: 0.4871\nEpoch 81/100\n1563/1563 [==============================] - 2s 1ms/step - loss: 0.7275 - accuracy: 0.4872\nEpoch 82/100\n1563/1563 [==============================] - 2s 1ms/step - loss: 0.7280 - accuracy: 0.4874\nEpoch 83/100\n1563/1563 [==============================] - 2s 1ms/step - loss: 0.7280 - accuracy: 0.4866\nEpoch 84/100\n1563/1563 [==============================] - 2s 1ms/step - loss: 0.7281 - accuracy: 0.4842\nEpoch 85/100\n1563/1563 [==============================] - 2s 1ms/step - loss: 0.7278 - accuracy: 0.4849\nEpoch 86/100\n1563/1563 [==============================] - 2s 1ms/step - loss: 0.7272 - accuracy: 0.4904\nEpoch 87/100\n1563/1563 [==============================] - 2s 1ms/step - loss: 0.7271 - accuracy: 0.4937\nEpoch 88/100\n1563/1563 [==============================] - 2s 1ms/step - loss: 0.7273 - accuracy: 0.4944\nEpoch 89/100\n1563/1563 [==============================] - 2s 1ms/step - loss: 0.7272 - accuracy: 0.4969\nEpoch 90/100\n1563/1563 [==============================] - 2s 1ms/step - loss: 0.7270 - accuracy: 0.4944\nEpoch 91/100\n1563/1563 [==============================] - 2s 1ms/step - loss: 0.7268 - accuracy: 0.4946\nEpoch 92/100\n1563/1563 [==============================] - 2s 1ms/step - loss: 0.7262 - accuracy: 0.4949\nEpoch 93/100\n1563/1563 [==============================] - 2s 1ms/step - loss: 0.7264 - accuracy: 0.4964\nEpoch 94/100\n1563/1563 [==============================] - 2s 1ms/step - loss: 0.7266 - accuracy: 0.4909\nEpoch 95/100\n1563/1563 [==============================] - 2s 1ms/step - loss: 0.7261 - accuracy: 0.4944\nEpoch 96/100\n1563/1563 [==============================] - 2s 2ms/step - loss: 0.7260 - accuracy: 0.4953\nEpoch 97/100\n1563/1563 [==============================] - 2s 1ms/step - loss: 0.7261 - accuracy: 0.4928\nEpoch 98/100\n1563/1563 [==============================] - 2s 1ms/step - loss: 0.7259 - accuracy: 0.4949\nEpoch 99/100\n1563/1563 [==============================] - 2s 1ms/step - loss: 0.7270 - accuracy: 0.4931\nEpoch 100/100\n1563/1563 [==============================] - 2s 1ms/step - loss: 0.7260 - accuracy: 0.4924\n"
    },
    {
     "output_type": "execute_result",
     "data": {
      "text/plain": "<tensorflow.python.keras.callbacks.History at 0x22d645c47b8>"
     },
     "metadata": {},
     "execution_count": 35
    }
   ],
   "source": [
    "auto_encoder.fit(x_train, x_train,\n",
    "                epochs=100,\n",
    "                batch_size=32,\n",
    "                shuffle=True)"
   ]
  },
  {
   "cell_type": "code",
   "execution_count": 42,
   "metadata": {
    "tags": []
   },
   "outputs": [
    {
     "output_type": "stream",
     "name": "stdout",
     "text": "INFO:tensorflow:Assets written to: auto_encoder\\assets\n"
    }
   ],
   "source": [
    "auto_encoder.save('auto_encoder')"
   ]
  },
  {
   "cell_type": "code",
   "execution_count": 38,
   "metadata": {
    "tags": []
   },
   "outputs": [
    {
     "output_type": "stream",
     "name": "stdout",
     "text": "INFO:tensorflow:Assets written to: /nnmodels/auto_encoder\\assets\n"
    }
   ],
   "source": [
    "# auto_encoder.save(\"/nnmodels/auto_encoder\")\n",
    "\n",
    "filepath = \"/nnmodels/auto_encoder\"\n",
    "\n",
    "tf.keras.models.save_model(\n",
    "    auto_encoder, filepath, overwrite=True, include_optimizer=True, save_format=None,\n",
    "    signatures=None, options=None\n",
    ")"
   ]
  },
  {
   "cell_type": "code",
   "execution_count": null,
   "metadata": {},
   "outputs": [],
   "source": [
    "# from tensorflow import keras\n",
    "# model = keras.models.load_model('path/to/location')"
   ]
  }
 ],
 "metadata": {
  "language_info": {
   "codemirror_mode": {
    "name": "ipython",
    "version": 3
   },
   "file_extension": ".py",
   "mimetype": "text/x-python",
   "name": "python",
   "nbconvert_exporter": "python",
   "pygments_lexer": "ipython3",
   "version": "3.7.0-final"
  },
  "orig_nbformat": 2,
  "kernelspec": {
   "name": "unit4env",
   "display_name": "unit4env (Python3)"
  }
 },
 "nbformat": 4,
 "nbformat_minor": 2
}