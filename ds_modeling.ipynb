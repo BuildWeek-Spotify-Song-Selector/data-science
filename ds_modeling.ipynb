{
 "cells": [
  {
   "cell_type": "markdown",
   "metadata": {},
   "source": [
    "# Imports"
   ]
  },
  {
   "cell_type": "code",
   "execution_count": 1,
   "metadata": {},
   "outputs": [],
   "source": [
    "import pandas as pd\n",
    "import numpy as np\n",
    "from sklearn.preprocessing import StandardScaler\n",
    "import tensorflow as tf\n",
    "from tensorflow import keras\n",
    "from tensorflow.keras import layers\n",
    "from tensorflow.keras.layers import Input, Dense\n",
    "import pprint"
   ]
  },
  {
   "cell_type": "code",
   "execution_count": 2,
   "metadata": {},
   "outputs": [],
   "source": [
    "songs = pd.read_csv(\"song_list5.csv\")"
   ]
  },
  {
   "cell_type": "code",
   "execution_count": 3,
   "metadata": {},
   "outputs": [
    {
     "output_type": "execute_result",
     "data": {
      "text/plain": "                   songid       artist                    track  danceability  \\\n0  5X4Qm0rVLcZeeO4tSDmBg3   Jack Bruce  Running Thro' Our Hands         0.456   \n1  1pNpt53PZPet9dvJN3RKGr   Prefuse 73        Parachute Panador         0.535   \n2  3oxz2oCzAWdPzA6In2zA5u  Pasion Vega   La Gata Bajo La Lluvia         0.294   \n3  05JGVUwt7XJk5FPqH0Wsch   Jonny Lang             Walking Away         0.563   \n4  3xdgCFMTn6ut8fZYxfAuR0         Skye         All the Promises         0.358   \n\n   energy  key  loudness  mode  speechiness  acousticness  instrumentalness  \\\n0   0.255  9.0   -15.805   1.0       0.0480       0.94600          0.170000   \n1   0.806  7.0   -10.289   1.0       0.0642       0.00436          0.019100   \n2   0.482  5.0    -6.406   1.0       0.0430       0.46300          0.000000   \n3   0.631  0.0    -5.144   1.0       0.0324       0.06350          0.000008   \n4   0.611  2.0    -9.752   0.0       0.0454       0.51500          0.000468   \n\n   liveness  valence    tempo  duration_ms  time_signature  \n0     0.951   0.0532  116.424     253067.0             4.0  \n1     0.457   0.3760   90.089      63733.0             4.0  \n2     0.335   0.2040  166.693     255280.0             3.0  \n3     0.163   0.5400  115.657     254827.0             4.0  \n4     0.149   0.1640  171.596     256933.0             4.0  ",
      "text/html": "<div>\n<style scoped>\n    .dataframe tbody tr th:only-of-type {\n        vertical-align: middle;\n    }\n\n    .dataframe tbody tr th {\n        vertical-align: top;\n    }\n\n    .dataframe thead th {\n        text-align: right;\n    }\n</style>\n<table border=\"1\" class=\"dataframe\">\n  <thead>\n    <tr style=\"text-align: right;\">\n      <th></th>\n      <th>songid</th>\n      <th>artist</th>\n      <th>track</th>\n      <th>danceability</th>\n      <th>energy</th>\n      <th>key</th>\n      <th>loudness</th>\n      <th>mode</th>\n      <th>speechiness</th>\n      <th>acousticness</th>\n      <th>instrumentalness</th>\n      <th>liveness</th>\n      <th>valence</th>\n      <th>tempo</th>\n      <th>duration_ms</th>\n      <th>time_signature</th>\n    </tr>\n  </thead>\n  <tbody>\n    <tr>\n      <th>0</th>\n      <td>5X4Qm0rVLcZeeO4tSDmBg3</td>\n      <td>Jack Bruce</td>\n      <td>Running Thro' Our Hands</td>\n      <td>0.456</td>\n      <td>0.255</td>\n      <td>9.0</td>\n      <td>-15.805</td>\n      <td>1.0</td>\n      <td>0.0480</td>\n      <td>0.94600</td>\n      <td>0.170000</td>\n      <td>0.951</td>\n      <td>0.0532</td>\n      <td>116.424</td>\n      <td>253067.0</td>\n      <td>4.0</td>\n    </tr>\n    <tr>\n      <th>1</th>\n      <td>1pNpt53PZPet9dvJN3RKGr</td>\n      <td>Prefuse 73</td>\n      <td>Parachute Panador</td>\n      <td>0.535</td>\n      <td>0.806</td>\n      <td>7.0</td>\n      <td>-10.289</td>\n      <td>1.0</td>\n      <td>0.0642</td>\n      <td>0.00436</td>\n      <td>0.019100</td>\n      <td>0.457</td>\n      <td>0.3760</td>\n      <td>90.089</td>\n      <td>63733.0</td>\n      <td>4.0</td>\n    </tr>\n    <tr>\n      <th>2</th>\n      <td>3oxz2oCzAWdPzA6In2zA5u</td>\n      <td>Pasion Vega</td>\n      <td>La Gata Bajo La Lluvia</td>\n      <td>0.294</td>\n      <td>0.482</td>\n      <td>5.0</td>\n      <td>-6.406</td>\n      <td>1.0</td>\n      <td>0.0430</td>\n      <td>0.46300</td>\n      <td>0.000000</td>\n      <td>0.335</td>\n      <td>0.2040</td>\n      <td>166.693</td>\n      <td>255280.0</td>\n      <td>3.0</td>\n    </tr>\n    <tr>\n      <th>3</th>\n      <td>05JGVUwt7XJk5FPqH0Wsch</td>\n      <td>Jonny Lang</td>\n      <td>Walking Away</td>\n      <td>0.563</td>\n      <td>0.631</td>\n      <td>0.0</td>\n      <td>-5.144</td>\n      <td>1.0</td>\n      <td>0.0324</td>\n      <td>0.06350</td>\n      <td>0.000008</td>\n      <td>0.163</td>\n      <td>0.5400</td>\n      <td>115.657</td>\n      <td>254827.0</td>\n      <td>4.0</td>\n    </tr>\n    <tr>\n      <th>4</th>\n      <td>3xdgCFMTn6ut8fZYxfAuR0</td>\n      <td>Skye</td>\n      <td>All the Promises</td>\n      <td>0.358</td>\n      <td>0.611</td>\n      <td>2.0</td>\n      <td>-9.752</td>\n      <td>0.0</td>\n      <td>0.0454</td>\n      <td>0.51500</td>\n      <td>0.000468</td>\n      <td>0.149</td>\n      <td>0.1640</td>\n      <td>171.596</td>\n      <td>256933.0</td>\n      <td>4.0</td>\n    </tr>\n  </tbody>\n</table>\n</div>"
     },
     "metadata": {},
     "execution_count": 3
    }
   ],
   "source": [
    "songs.head()"
   ]
  },
  {
   "cell_type": "code",
   "execution_count": 4,
   "metadata": {},
   "outputs": [
    {
     "output_type": "execute_result",
     "data": {
      "text/plain": "songid               object\nartist               object\ntrack                object\ndanceability        float64\nenergy              float64\nkey                 float64\nloudness            float64\nmode                float64\nspeechiness         float64\nacousticness        float64\ninstrumentalness    float64\nliveness            float64\nvalence             float64\ntempo               float64\nduration_ms         float64\ntime_signature      float64\ndtype: object"
     },
     "metadata": {},
     "execution_count": 4
    }
   ],
   "source": [
    "songs.dtypes"
   ]
  },
  {
   "cell_type": "code",
   "execution_count": 5,
   "metadata": {},
   "outputs": [],
   "source": [
    "features = songs[[\n",
    "    \"danceability\", \"energy\", \"key\", \"loudness\", \"mode\", \"speechiness\", \n",
    "    \"acousticness\", \"instrumentalness\", \"liveness\", \"valence\", \"tempo\", \n",
    "    \"duration_ms\", \"time_signature\"]].to_numpy()"
   ]
  },
  {
   "cell_type": "code",
   "execution_count": 6,
   "metadata": {},
   "outputs": [
    {
     "output_type": "execute_result",
     "data": {
      "text/plain": "array([ 4.56000e-01,  2.55000e-01,  9.00000e+00, -1.58050e+01,\n        1.00000e+00,  4.80000e-02,  9.46000e-01,  1.70000e-01,\n        9.51000e-01,  5.32000e-02,  1.16424e+02,  2.53067e+05,\n        4.00000e+00])"
     },
     "metadata": {},
     "execution_count": 6
    }
   ],
   "source": [
    "features[0]"
   ]
  },
  {
   "cell_type": "code",
   "execution_count": 7,
   "metadata": {},
   "outputs": [],
   "source": [
    "scaler = StandardScaler()"
   ]
  },
  {
   "cell_type": "code",
   "execution_count": 8,
   "metadata": {},
   "outputs": [],
   "source": [
    "x_train = scaler.fit_transform(features)\n",
    "# x_train = features"
   ]
  },
  {
   "cell_type": "code",
   "execution_count": 9,
   "metadata": {
    "tags": []
   },
   "outputs": [
    {
     "output_type": "stream",
     "name": "stdout",
     "text": "[-0.47695143 -1.43616823  1.03467011 -1.32564479  0.70711739 -0.34028656\n  1.91669133 -0.14321669  3.87500921 -1.70714343 -0.17066299  0.03404049\n  0.24368604]\n(13,)\n"
    }
   ],
   "source": [
    "print(x_train[0])\n",
    "print(x_train[0].shape)"
   ]
  },
  {
   "cell_type": "code",
   "execution_count": 10,
   "metadata": {
    "tags": []
   },
   "outputs": [],
   "source": [
    "# encoder_input = Input(shape=(13,))\n",
    "\n",
    "# encoder_dense1 = Dense(10, activation='relu')(encoder_input)\n",
    "# encoder_dense2 = Dense(8, activation='relu')(encoder_dense1)\n",
    "# encoder_dense3 = Dense(6, activation='relu')(encoder_dense2)\n",
    "# encoder_output = Dense(4, activation='relu')(encoder_dense3)\n",
    "\n",
    "# encoder = keras.Model(encoder_input, encoder_output)\n",
    "\n",
    "\n",
    "\n",
    "# decoder_dense1 = Dense(6, activation='relu')(encoder_output)\n",
    "# decoder_dense2 = Dense(8, activation='relu')(decoder_dense1)\n",
    "# decoder_dense3 = Dense(10, activation='relu')(decoder_dense2)\n",
    "# decoder_output = Dense(13)(decoder_dense3)\n",
    "\n",
    "# auto_encoder = keras.Model(encoder_input, decoder_output)\n",
    "\n",
    "# auto_encoder.summary()"
   ]
  },
  {
   "cell_type": "code",
   "execution_count": 11,
   "metadata": {
    "tags": []
   },
   "outputs": [
    {
     "output_type": "stream",
     "name": "stdout",
     "text": "Model: \"model_1\"\n_________________________________________________________________\nLayer (type)                 Output Shape              Param #   \n=================================================================\ninput_1 (InputLayer)         [(None, 13)]              0         \n_________________________________________________________________\ndense (Dense)                (None, 12)                168       \n_________________________________________________________________\ndense_1 (Dense)              (None, 10)                130       \n_________________________________________________________________\ndense_2 (Dense)              (None, 8)                 88        \n_________________________________________________________________\ndense_3 (Dense)              (None, 6)                 54        \n_________________________________________________________________\ndense_4 (Dense)              (None, 2)                 14        \n_________________________________________________________________\ndense_5 (Dense)              (None, 6)                 18        \n_________________________________________________________________\ndense_6 (Dense)              (None, 8)                 56        \n_________________________________________________________________\ndense_7 (Dense)              (None, 10)                90        \n_________________________________________________________________\ndense_8 (Dense)              (None, 12)                132       \n_________________________________________________________________\ndense_9 (Dense)              (None, 13)                169       \n=================================================================\nTotal params: 919\nTrainable params: 919\nNon-trainable params: 0\n_________________________________________________________________\n"
    }
   ],
   "source": [
    "# Model Version 2\n",
    "\n",
    "encoder_input = Input(shape=(13,))\n",
    "\n",
    "encoder_dense1 = Dense(12, activation='relu')(encoder_input)\n",
    "encoder_dense2 = Dense(10, activation='relu')(encoder_dense1)\n",
    "encoder_dense3 = Dense(8, activation='relu')(encoder_dense2)\n",
    "encoder_dense4 = Dense(6, activation='relu')(encoder_dense3)\n",
    "encoder_output = Dense(2, activation='relu')(encoder_dense4)\n",
    "\n",
    "encoder = keras.Model(encoder_input, encoder_output)\n",
    "\n",
    "decoder_dense2 = Dense(6, activation='relu')(encoder_output)\n",
    "decoder_dense3 = Dense(8, activation='relu')(decoder_dense2)\n",
    "decoder_dense4 = Dense(10, activation='relu')(decoder_dense3)\n",
    "decoder_dense5 = Dense(12, activation='relu')(decoder_dense4)\n",
    "decoder_output = Dense(13)(decoder_dense5)\n",
    "# decoder_output = Dense(13, activation='softplus')(decoder_dense5)\n",
    "\n",
    "auto_encoder = keras.Model(encoder_input, decoder_output)\n",
    "\n",
    "auto_encoder.summary()"
   ]
  },
  {
   "cell_type": "code",
   "execution_count": 12,
   "metadata": {},
   "outputs": [],
   "source": [
    "auto_encoder.compile(optimizer='nadam',\n",
    "                    loss='mean_absolute_error',\n",
    "                    metrics='mean_absolute_percentage_error')"
   ]
  },
  {
   "cell_type": "code",
   "execution_count": 13,
   "metadata": {
    "tags": []
   },
   "outputs": [
    {
     "output_type": "stream",
     "name": "stdout",
     "text": "Epoch 1/100\n1563/1563 [==============================] - 3s 2ms/step - loss: 0.5882 - mean_absolute_percentage_error: 179.9081\nEpoch 2/100\n1563/1563 [==============================] - 2s 1ms/step - loss: 0.5080 - mean_absolute_percentage_error: 184.2152\nEpoch 3/100\n1563/1563 [==============================] - 2s 1ms/step - loss: 0.4926 - mean_absolute_percentage_error: 185.0478\nEpoch 4/100\n1563/1563 [==============================] - 2s 1ms/step - loss: 0.4808 - mean_absolute_percentage_error: 191.8038\nEpoch 5/100\n1563/1563 [==============================] - 2s 1ms/step - loss: 0.4722 - mean_absolute_percentage_error: 186.1577\nEpoch 6/100\n1563/1563 [==============================] - 2s 1ms/step - loss: 0.4672 - mean_absolute_percentage_error: 186.0746\nEpoch 7/100\n1563/1563 [==============================] - 2s 1ms/step - loss: 0.4649 - mean_absolute_percentage_error: 187.4635\nEpoch 8/100\n1563/1563 [==============================] - 2s 1ms/step - loss: 0.4633 - mean_absolute_percentage_error: 185.2238\nEpoch 9/100\n1563/1563 [==============================] - 3s 2ms/step - loss: 0.4619 - mean_absolute_percentage_error: 185.6275\nEpoch 10/100\n1563/1563 [==============================] - 3s 2ms/step - loss: 0.4606 - mean_absolute_percentage_error: 183.6964\nEpoch 11/100\n1563/1563 [==============================] - 2s 2ms/step - loss: 0.4595 - mean_absolute_percentage_error: 181.2451\nEpoch 12/100\n1563/1563 [==============================] - 3s 2ms/step - loss: 0.4586 - mean_absolute_percentage_error: 179.0373\nEpoch 13/100\n1563/1563 [==============================] - 3s 2ms/step - loss: 0.4578 - mean_absolute_percentage_error: 174.7664\nEpoch 14/100\n1563/1563 [==============================] - 3s 2ms/step - loss: 0.4569 - mean_absolute_percentage_error: 173.0755\nEpoch 15/100\n1563/1563 [==============================] - 2s 1ms/step - loss: 0.4561 - mean_absolute_percentage_error: 170.9423\nEpoch 16/100\n1563/1563 [==============================] - 2s 1ms/step - loss: 0.4552 - mean_absolute_percentage_error: 170.4400\nEpoch 17/100\n1563/1563 [==============================] - 2s 2ms/step - loss: 0.4544 - mean_absolute_percentage_error: 172.6192\nEpoch 18/100\n1563/1563 [==============================] - 2s 1ms/step - loss: 0.4535 - mean_absolute_percentage_error: 171.2077\nEpoch 19/100\n1563/1563 [==============================] - 2s 1ms/step - loss: 0.4530 - mean_absolute_percentage_error: 170.2892\nEpoch 20/100\n1563/1563 [==============================] - 2s 1ms/step - loss: 0.4523 - mean_absolute_percentage_error: 171.1145\nEpoch 21/100\n1563/1563 [==============================] - 2s 1ms/step - loss: 0.4518 - mean_absolute_percentage_error: 171.4042\nEpoch 22/100\n1563/1563 [==============================] - 2s 1ms/step - loss: 0.4514 - mean_absolute_percentage_error: 172.3672\nEpoch 23/100\n1563/1563 [==============================] - 2s 1ms/step - loss: 0.4510 - mean_absolute_percentage_error: 173.0096\nEpoch 24/100\n1563/1563 [==============================] - 2s 1ms/step - loss: 0.4504 - mean_absolute_percentage_error: 170.8492\nEpoch 25/100\n1563/1563 [==============================] - 2s 1ms/step - loss: 0.4501 - mean_absolute_percentage_error: 169.3840\nEpoch 26/100\n1563/1563 [==============================] - 2s 1ms/step - loss: 0.4498 - mean_absolute_percentage_error: 175.1057\nEpoch 27/100\n1563/1563 [==============================] - 2s 1ms/step - loss: 0.4494 - mean_absolute_percentage_error: 172.7424\nEpoch 28/100\n1563/1563 [==============================] - 2s 1ms/step - loss: 0.4492 - mean_absolute_percentage_error: 171.2570\nEpoch 29/100\n1563/1563 [==============================] - 2s 1ms/step - loss: 0.4487 - mean_absolute_percentage_error: 170.6173\nEpoch 30/100\n1563/1563 [==============================] - 2s 1ms/step - loss: 0.4483 - mean_absolute_percentage_error: 171.6701\nEpoch 31/100\n1563/1563 [==============================] - 2s 1ms/step - loss: 0.4480 - mean_absolute_percentage_error: 169.5777\nEpoch 32/100\n1563/1563 [==============================] - 2s 1ms/step - loss: 0.4476 - mean_absolute_percentage_error: 167.2210\nEpoch 33/100\n1563/1563 [==============================] - 2s 1ms/step - loss: 0.4473 - mean_absolute_percentage_error: 166.6417\nEpoch 34/100\n1563/1563 [==============================] - 3s 2ms/step - loss: 0.4474 - mean_absolute_percentage_error: 170.2254\nEpoch 35/100\n1563/1563 [==============================] - 2s 2ms/step - loss: 0.4467 - mean_absolute_percentage_error: 167.7208\nEpoch 36/100\n1563/1563 [==============================] - 2s 1ms/step - loss: 0.4465 - mean_absolute_percentage_error: 167.4801\nEpoch 37/100\n1563/1563 [==============================] - 2s 1ms/step - loss: 0.4464 - mean_absolute_percentage_error: 172.8503\nEpoch 38/100\n1563/1563 [==============================] - 2s 1ms/step - loss: 0.4466 - mean_absolute_percentage_error: 167.3730\nEpoch 39/100\n1563/1563 [==============================] - 2s 2ms/step - loss: 0.4462 - mean_absolute_percentage_error: 169.1175\nEpoch 40/100\n1563/1563 [==============================] - 2s 1ms/step - loss: 0.4461 - mean_absolute_percentage_error: 166.7210\nEpoch 41/100\n1563/1563 [==============================] - 2s 1ms/step - loss: 0.4458 - mean_absolute_percentage_error: 164.9803\nEpoch 42/100\n1563/1563 [==============================] - 2s 1ms/step - loss: 0.4457 - mean_absolute_percentage_error: 166.3559\nEpoch 43/100\n1563/1563 [==============================] - 2s 2ms/step - loss: 0.4458 - mean_absolute_percentage_error: 164.9921\nEpoch 44/100\n1563/1563 [==============================] - 2s 2ms/step - loss: 0.4458 - mean_absolute_percentage_error: 166.0571\nEpoch 45/100\n1563/1563 [==============================] - 2s 2ms/step - loss: 0.4455 - mean_absolute_percentage_error: 167.9140\nEpoch 46/100\n1563/1563 [==============================] - 2s 2ms/step - loss: 0.4453 - mean_absolute_percentage_error: 164.3079\nEpoch 47/100\n1563/1563 [==============================] - 2s 2ms/step - loss: 0.4452 - mean_absolute_percentage_error: 162.9840\nEpoch 48/100\n1563/1563 [==============================] - 2s 2ms/step - loss: 0.4453 - mean_absolute_percentage_error: 160.0565\nEpoch 49/100\n1563/1563 [==============================] - 2s 1ms/step - loss: 0.4467 - mean_absolute_percentage_error: 163.5713\nEpoch 50/100\n1563/1563 [==============================] - 3s 2ms/step - loss: 0.4451 - mean_absolute_percentage_error: 162.7270\nEpoch 51/100\n1563/1563 [==============================] - 2s 1ms/step - loss: 0.4454 - mean_absolute_percentage_error: 163.2389\nEpoch 52/100\n1563/1563 [==============================] - 2s 1ms/step - loss: 0.4455 - mean_absolute_percentage_error: 163.9734\nEpoch 53/100\n1563/1563 [==============================] - 3s 2ms/step - loss: 0.4451 - mean_absolute_percentage_error: 155.6815\nEpoch 54/100\n1563/1563 [==============================] - 2s 2ms/step - loss: 0.4448 - mean_absolute_percentage_error: 163.2983\nEpoch 55/100\n1563/1563 [==============================] - 2s 2ms/step - loss: 0.4450 - mean_absolute_percentage_error: 161.9722\nEpoch 56/100\n1563/1563 [==============================] - 2s 2ms/step - loss: 0.4449 - mean_absolute_percentage_error: 165.1800\nEpoch 57/100\n1563/1563 [==============================] - 2s 1ms/step - loss: 0.4450 - mean_absolute_percentage_error: 164.9706\nEpoch 58/100\n1563/1563 [==============================] - 2s 2ms/step - loss: 0.4454 - mean_absolute_percentage_error: 162.6336\nEpoch 59/100\n1563/1563 [==============================] - 2s 1ms/step - loss: 0.4450 - mean_absolute_percentage_error: 156.2445\nEpoch 60/100\n1563/1563 [==============================] - 2s 1ms/step - loss: 0.4448 - mean_absolute_percentage_error: 156.0699\nEpoch 61/100\n1563/1563 [==============================] - 2s 1ms/step - loss: 0.4445 - mean_absolute_percentage_error: 160.3276\nEpoch 62/100\n1563/1563 [==============================] - 2s 1ms/step - loss: 0.4444 - mean_absolute_percentage_error: 160.5638\nEpoch 63/100\n1563/1563 [==============================] - 2s 1ms/step - loss: 0.4443 - mean_absolute_percentage_error: 161.3815\nEpoch 64/100\n1563/1563 [==============================] - 2s 1ms/step - loss: 0.4442 - mean_absolute_percentage_error: 159.6769\nEpoch 65/100\n1563/1563 [==============================] - 2s 1ms/step - loss: 0.4443 - mean_absolute_percentage_error: 169.2651\nEpoch 66/100\n1563/1563 [==============================] - 2s 2ms/step - loss: 0.4444 - mean_absolute_percentage_error: 166.3276\nEpoch 67/100\n1563/1563 [==============================] - 2s 1ms/step - loss: 0.4445 - mean_absolute_percentage_error: 166.7400\nEpoch 68/100\n1563/1563 [==============================] - 2s 1ms/step - loss: 0.4445 - mean_absolute_percentage_error: 169.5423\nEpoch 69/100\n1563/1563 [==============================] - 2s 1ms/step - loss: 0.4443 - mean_absolute_percentage_error: 167.6171\nEpoch 70/100\n1563/1563 [==============================] - 2s 1ms/step - loss: 0.4444 - mean_absolute_percentage_error: 168.5809\nEpoch 71/100\n1563/1563 [==============================] - 2s 1ms/step - loss: 0.4447 - mean_absolute_percentage_error: 165.9218\nEpoch 72/100\n1563/1563 [==============================] - 2s 1ms/step - loss: 0.4439 - mean_absolute_percentage_error: 168.4585\nEpoch 73/100\n1563/1563 [==============================] - 2s 2ms/step - loss: 0.4439 - mean_absolute_percentage_error: 166.3877\nEpoch 74/100\n1563/1563 [==============================] - 2s 1ms/step - loss: 0.4437 - mean_absolute_percentage_error: 166.1664\nEpoch 75/100\n1563/1563 [==============================] - 2s 2ms/step - loss: 0.4435 - mean_absolute_percentage_error: 169.8283\nEpoch 76/100\n1563/1563 [==============================] - 2s 1ms/step - loss: 0.4434 - mean_absolute_percentage_error: 169.6976\nEpoch 77/100\n1563/1563 [==============================] - 2s 1ms/step - loss: 0.4435 - mean_absolute_percentage_error: 168.7797\nEpoch 78/100\n1563/1563 [==============================] - 2s 1ms/step - loss: 0.4437 - mean_absolute_percentage_error: 168.8573\nEpoch 79/100\n1563/1563 [==============================] - 2s 1ms/step - loss: 0.4435 - mean_absolute_percentage_error: 171.3381\nEpoch 80/100\n1563/1563 [==============================] - 2s 1ms/step - loss: 0.4431 - mean_absolute_percentage_error: 167.9124\nEpoch 81/100\n1563/1563 [==============================] - 2s 1ms/step - loss: 0.4433 - mean_absolute_percentage_error: 171.2773\nEpoch 82/100\n1563/1563 [==============================] - 2s 1ms/step - loss: 0.4431 - mean_absolute_percentage_error: 172.0588\nEpoch 83/100\n1563/1563 [==============================] - 2s 1ms/step - loss: 0.4437 - mean_absolute_percentage_error: 173.0784\nEpoch 84/100\n1563/1563 [==============================] - 2s 1ms/step - loss: 0.4436 - mean_absolute_percentage_error: 174.7427\nEpoch 85/100\n1563/1563 [==============================] - 2s 1ms/step - loss: 0.4436 - mean_absolute_percentage_error: 172.9992\nEpoch 86/100\n1563/1563 [==============================] - 2s 2ms/step - loss: 0.4431 - mean_absolute_percentage_error: 173.4765\nEpoch 87/100\n1563/1563 [==============================] - 2s 1ms/step - loss: 0.4431 - mean_absolute_percentage_error: 174.3409\nEpoch 88/100\n1563/1563 [==============================] - 2s 1ms/step - loss: 0.4433 - mean_absolute_percentage_error: 173.7340\nEpoch 89/100\n1563/1563 [==============================] - 2s 1ms/step - loss: 0.4441 - mean_absolute_percentage_error: 171.9680\nEpoch 90/100\n1563/1563 [==============================] - 2s 1ms/step - loss: 0.4439 - mean_absolute_percentage_error: 173.8084\nEpoch 91/100\n1563/1563 [==============================] - 2s 2ms/step - loss: 0.4437 - mean_absolute_percentage_error: 174.5122\nEpoch 92/100\n1563/1563 [==============================] - 2s 2ms/step - loss: 0.4433 - mean_absolute_percentage_error: 173.6095\nEpoch 93/100\n1563/1563 [==============================] - 2s 2ms/step - loss: 0.4426 - mean_absolute_percentage_error: 173.5800\nEpoch 94/100\n1563/1563 [==============================] - 2s 2ms/step - loss: 0.4426 - mean_absolute_percentage_error: 173.8837\nEpoch 95/100\n1563/1563 [==============================] - 2s 2ms/step - loss: 0.4437 - mean_absolute_percentage_error: 175.0640\nEpoch 96/100\n1563/1563 [==============================] - 2s 2ms/step - loss: 0.4424 - mean_absolute_percentage_error: 174.1981\nEpoch 97/100\n1563/1563 [==============================] - 2s 1ms/step - loss: 0.4421 - mean_absolute_percentage_error: 174.2786\nEpoch 98/100\n1563/1563 [==============================] - 2s 1ms/step - loss: 0.4420 - mean_absolute_percentage_error: 175.5999\nEpoch 99/100\n1563/1563 [==============================] - 2s 2ms/step - loss: 0.4419 - mean_absolute_percentage_error: 174.6586\nEpoch 100/100\n1563/1563 [==============================] - 2s 2ms/step - loss: 0.4419 - mean_absolute_percentage_error: 172.7661\n"
    },
    {
     "output_type": "execute_result",
     "data": {
      "text/plain": "<tensorflow.python.keras.callbacks.History at 0x222b80d0400>"
     },
     "metadata": {},
     "execution_count": 13
    }
   ],
   "source": [
    "auto_encoder.fit(x_train, x_train,\n",
    "                epochs=100,\n",
    "                batch_size=32,\n",
    "                shuffle=True)"
   ]
  },
  {
   "cell_type": "code",
   "execution_count": 14,
   "metadata": {
    "tags": []
   },
   "outputs": [],
   "source": [
    "preds = auto_encoder.predict(x_train)"
   ]
  },
  {
   "cell_type": "code",
   "execution_count": 15,
   "metadata": {
    "tags": []
   },
   "outputs": [
    {
     "output_type": "stream",
     "name": "stdout",
     "text": "array([-0.8798475 , -1.7275432 , -0.18597168, -1.1995802 ,  0.70768386,\n       -0.41527253,  1.6717181 , -0.5876498 , -0.47801736, -1.6586576 ,\n       -0.55115545, -0.33200756,  0.24512994], dtype=float32)\narray([-0.47695143, -1.43616823,  1.03467011, -1.32564479,  0.70711739,\n       -0.34028656,  1.91669133, -0.14321669,  3.87500921, -1.70714343,\n       -0.17066299,  0.03404049,  0.24368604])\n============================================================\narray([ 0.44521952, -0.2880424 , -0.1336196 , -0.06228232,  0.7082029 ,\n       -0.31183374, -0.7158272 , -0.6356993 , -0.4974471 , -0.49354   ,\n       -0.26810828,  0.03757627,  0.24511549], dtype=float32)\narray([-0.03739907,  0.69843612,  0.47428756, -0.17173186,  0.70711739,\n       -0.1963104 , -0.87635746, -0.58458172,  1.27879637, -0.49117162,\n       -1.06220066, -1.51723037,  0.24368604])\n============================================================\narray([-0.45992905, -0.64994824, -0.1795414 ,  0.68798745,  0.707829  ,\n       -0.4516239 ,  0.9742821 , -0.63741523, -0.43464142, -1.1445893 ,\n       -0.35879743, -0.14266393,  0.24527666], dtype=float32)\narray([-1.37831198, -0.55675773, -0.08609498,  0.64056762,  0.70711739,\n       -0.38472365,  0.48403919, -0.64044701,  0.6376264 , -1.13908721,\n        1.53112958,  0.05217227, -1.94432308])\n"
    }
   ],
   "source": [
    "pprint.pprint(preds[0])\n",
    "pprint.pprint(x_train[0])\n",
    "print(\"============================================================\")\n",
    "pprint.pprint(preds[1])\n",
    "pprint.pprint(x_train[1])\n",
    "print(\"============================================================\")\n",
    "pprint.pprint(preds[2])\n",
    "pprint.pprint(x_train[2])"
   ]
  },
  {
   "cell_type": "code",
   "execution_count": 19,
   "metadata": {
    "tags": []
   },
   "outputs": [
    {
     "output_type": "stream",
     "name": "stdout",
     "text": "WARNING:tensorflow:From C:\\Programming\\Anaconda3\\envs\\unit4env\\lib\\site-packages\\tensorflow\\python\\ops\\resource_variable_ops.py:1817: calling BaseResourceVariable.__init__ (from tensorflow.python.ops.resource_variable_ops) with constraint is deprecated and will be removed in a future version.\nInstructions for updating:\nIf using Keras pass *_constraint arguments to layers.\nINFO:tensorflow:Assets written to: encoder\\assets\n"
    }
   ],
   "source": [
    "encoder.save('encoder')"
   ]
  },
  {
   "cell_type": "code",
   "execution_count": 17,
   "metadata": {
    "tags": []
   },
   "outputs": [],
   "source": [
    "# # auto_encoder.save(\"/nnmodels/auto_encoder\")\n",
    "\n",
    "# filepath = \"/nnmodels/auto_encoder\"\n",
    "\n",
    "# tf.keras.models.save_model(\n",
    "#     auto_encoder, filepath, overwrite=True, include_optimizer=True, save_format=None,\n",
    "#     signatures=None, options=None\n",
    "# )"
   ]
  },
  {
   "cell_type": "code",
   "execution_count": 18,
   "metadata": {},
   "outputs": [],
   "source": [
    "# from tensorflow import keras\n",
    "# model = keras.models.load_model('path/to/location')"
   ]
  }
 ],
 "metadata": {
  "language_info": {
   "codemirror_mode": {
    "name": "ipython",
    "version": 3
   },
   "file_extension": ".py",
   "mimetype": "text/x-python",
   "name": "python",
   "nbconvert_exporter": "python",
   "pygments_lexer": "ipython3",
   "version": "3.7.0-final"
  },
  "orig_nbformat": 2,
  "kernelspec": {
   "name": "unit4env",
   "display_name": "unit4env (Python3)"
  }
 },
 "nbformat": 4,
 "nbformat_minor": 2
}