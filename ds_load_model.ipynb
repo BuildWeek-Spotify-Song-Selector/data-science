{
 "cells": [
  {
   "cell_type": "code",
   "execution_count": 1,
   "metadata": {
    "tags": []
   },
   "outputs": [
    {
     "output_type": "stream",
     "name": "stderr",
     "text": "Using TensorFlow backend.\n"
    }
   ],
   "source": [
    "# These are all the imports I used in this notebook\n",
    "import pandas as pd\n",
    "import numpy as np\n",
    "from tensorflow.keras.models import load_model\n",
    "from pickle import load\n",
    "import keras"
   ]
  },
  {
   "cell_type": "code",
   "execution_count": 2,
   "metadata": {},
   "outputs": [],
   "source": [
    "# this is just to test the model by loading in data. the API is where the information will actually come from\n",
    "songs = pd.read_csv(\"song_list5.csv\")"
   ]
  },
  {
   "cell_type": "code",
   "execution_count": 3,
   "metadata": {},
   "outputs": [],
   "source": [
    "# These are the features and in this order\n",
    "# this is the information you will need from the \n",
    "features = songs[[\n",
    "    \"danceability\", \"energy\", \"key\", \"loudness\", \"mode\", \"speechiness\", \n",
    "    \"acousticness\", \"instrumentalness\", \"liveness\", \"valence\", \"tempo\", \n",
    "    \"duration_ms\", \"time_signature\"]].to_numpy()"
   ]
  },
  {
   "cell_type": "code",
   "execution_count": 4,
   "metadata": {},
   "outputs": [
    {
     "output_type": "execute_result",
     "data": {
      "text/plain": "array([ 4.56000e-01,  2.55000e-01,  9.00000e+00, -1.58050e+01,\n        1.00000e+00,  4.80000e-02,  9.46000e-01,  1.70000e-01,\n        9.51000e-01,  5.32000e-02,  1.16424e+02,  2.53067e+05,\n        4.00000e+00])"
     },
     "metadata": {},
     "execution_count": 4
    }
   ],
   "source": [
    "# this is what the data will look like\n",
    "# notice here that the data has one only one set of brackets around the vector\n",
    "features[0]"
   ]
  },
  {
   "cell_type": "code",
   "execution_count": 5,
   "metadata": {},
   "outputs": [],
   "source": [
    "# The takes the data and turns it into a 2 dimentional numpy array\n",
    "new_df = np.atleast_2d(features[0])"
   ]
  },
  {
   "cell_type": "code",
   "execution_count": 6,
   "metadata": {},
   "outputs": [
    {
     "output_type": "execute_result",
     "data": {
      "text/plain": "array([[ 4.56000e-01,  2.55000e-01,  9.00000e+00, -1.58050e+01,\n         1.00000e+00,  4.80000e-02,  9.46000e-01,  1.70000e-01,\n         9.51000e-01,  5.32000e-02,  1.16424e+02,  2.53067e+05,\n         4.00000e+00]])"
     },
     "metadata": {},
     "execution_count": 6
    }
   ],
   "source": [
    "# It will Look like this\n",
    "# now there are 2 sets of brackets around the vector\n",
    "new_df"
   ]
  },
  {
   "cell_type": "code",
   "execution_count": 7,
   "metadata": {},
   "outputs": [
    {
     "output_type": "execute_result",
     "data": {
      "text/plain": "(1, 13)"
     },
     "metadata": {},
     "execution_count": 7
    }
   ],
   "source": [
    "# The 13 has to be the second number in order to be fed into the model\n",
    "new_df.shape"
   ]
  },
  {
   "cell_type": "code",
   "execution_count": 8,
   "metadata": {},
   "outputs": [],
   "source": [
    "# This is how to load in the scaler\n",
    "scaler = load(open('scaler.pkl', 'rb'))"
   ]
  },
  {
   "cell_type": "code",
   "execution_count": 9,
   "metadata": {},
   "outputs": [],
   "source": [
    "# Using the scaler to transform the data\n",
    "x_train = scaler.transform(new_df)"
   ]
  },
  {
   "cell_type": "code",
   "execution_count": 10,
   "metadata": {},
   "outputs": [
    {
     "output_type": "execute_result",
     "data": {
      "text/plain": "array([[-0.47695143, -1.43616823,  1.03467011, -1.32564479,  0.70711739,\n        -0.34028656,  1.91669133, -0.14321669,  3.87500921, -1.70714343,\n        -0.17066299,  0.03404049,  0.24368604]])"
     },
     "metadata": {},
     "execution_count": 10
    }
   ],
   "source": [
    "# after the information is scaled it will look like this rather than the scientific notation\n",
    "# it will still have 2 sets of brackets around the vector\n",
    "# its shape will still have 13 as the second number\n",
    "x_train"
   ]
  },
  {
   "cell_type": "code",
   "execution_count": 11,
   "metadata": {},
   "outputs": [],
   "source": [
    "# this is how to load in the model\n",
    "encoder = load_model('encoder.h5')"
   ]
  },
  {
   "cell_type": "code",
   "execution_count": 12,
   "metadata": {},
   "outputs": [],
   "source": [
    "# this is how to make the predictions with the model\n",
    "preds = encoder.predict(x_train)"
   ]
  },
  {
   "cell_type": "code",
   "execution_count": 13,
   "metadata": {},
   "outputs": [
    {
     "output_type": "execute_result",
     "data": {
      "text/plain": "array([[1.181608 , 1.7670343]], dtype=float32)"
     },
     "metadata": {},
     "execution_count": 13
    }
   ],
   "source": [
    "# the predictions will be a vector containing 2 numbers in it\n",
    "# these 2 numbers will then be saved into a database along with the track_id\n",
    "preds"
   ]
  },
  {
   "cell_type": "code",
   "execution_count": 14,
   "metadata": {},
   "outputs": [],
   "source": [
    "# from here a K nearest neighbors will be preformed on the data base to find the x number of songs closest to our song in the database.\n",
    "# x is the number of songs requested by the user and will be given to us by the back end\n",
    "# if a number isn't given to us by the back end than default the number to 5"
   ]
  },
  {
   "cell_type": "code",
   "execution_count": null,
   "metadata": {},
   "outputs": [],
   "source": []
  }
 ],
 "metadata": {
  "language_info": {
   "codemirror_mode": {
    "name": "ipython",
    "version": 3
   },
   "file_extension": ".py",
   "mimetype": "text/x-python",
   "name": "python",
   "nbconvert_exporter": "python",
   "pygments_lexer": "ipython3",
   "version": "3.7.6-final"
  },
  "orig_nbformat": 2,
  "kernelspec": {
   "name": "unit4env",
   "display_name": "unit4env (Python3)"
  }
 },
 "nbformat": 4,
 "nbformat_minor": 2
}