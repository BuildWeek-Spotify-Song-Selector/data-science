{
 "cells": [
  {
   "cell_type": "code",
   "execution_count": 1,
   "metadata": {
    "tags": []
   },
   "outputs": [],
   "source": [
    "# These are all the imports I used in this notebook\n",
    "import pandas as pd\n",
    "import numpy as np\n",
    "from pickle import load\n",
    "import pprint"
   ]
  },
  {
   "cell_type": "code",
   "execution_count": 2,
   "metadata": {},
   "outputs": [],
   "source": [
    "# this is just to test the model by loading in data. the API is where the information will actually come from\n",
    "songs = pd.read_csv(\"song_list5.csv\")"
   ]
  },
  {
   "cell_type": "code",
   "execution_count": 3,
   "metadata": {},
   "outputs": [],
   "source": [
    "# These are the features and in this order\n",
    "# this is the information you will need from the \n",
    "features = songs[[\n",
    "    \"danceability\", \"energy\", \"key\", \"loudness\", \"mode\", \"speechiness\", \n",
    "    \"acousticness\", \"instrumentalness\", \"liveness\", \"valence\", \"tempo\", \n",
    "    \"duration_ms\"]].to_numpy()"
   ]
  },
  {
   "cell_type": "code",
   "execution_count": 4,
   "metadata": {},
   "outputs": [
    {
     "output_type": "execute_result",
     "data": {
      "text/plain": "array([ 4.56000e-01,  2.55000e-01,  9.00000e+00, -1.58050e+01,\n        1.00000e+00,  4.80000e-02,  9.46000e-01,  1.70000e-01,\n        9.51000e-01,  5.32000e-02,  1.16424e+02,  2.53067e+05])"
     },
     "metadata": {},
     "execution_count": 4
    }
   ],
   "source": [
    "# this is what the data will look like\n",
    "# notice here that the data has one only one set of brackets around the vector\n",
    "features[0]"
   ]
  },
  {
   "cell_type": "code",
   "execution_count": 5,
   "metadata": {},
   "outputs": [],
   "source": [
    "# The takes the data and turns it into a 2 dimentional numpy array\n",
    "new_df = np.atleast_2d(features[0])"
   ]
  },
  {
   "cell_type": "code",
   "execution_count": 6,
   "metadata": {},
   "outputs": [
    {
     "output_type": "execute_result",
     "data": {
      "text/plain": "array([[ 4.56000e-01,  2.55000e-01,  9.00000e+00, -1.58050e+01,\n         1.00000e+00,  4.80000e-02,  9.46000e-01,  1.70000e-01,\n         9.51000e-01,  5.32000e-02,  1.16424e+02,  2.53067e+05]])"
     },
     "metadata": {},
     "execution_count": 6
    }
   ],
   "source": [
    "# It will Look like this\n",
    "# now there are 2 sets of brackets around the vector\n",
    "new_df"
   ]
  },
  {
   "cell_type": "code",
   "execution_count": 7,
   "metadata": {},
   "outputs": [
    {
     "output_type": "execute_result",
     "data": {
      "text/plain": "(1, 12)"
     },
     "metadata": {},
     "execution_count": 7
    }
   ],
   "source": [
    "# The 12 has to be the second number in order to be fed into the model\n",
    "new_df.shape"
   ]
  },
  {
   "cell_type": "code",
   "execution_count": 8,
   "metadata": {},
   "outputs": [],
   "source": [
    "# This is how to load in the scaler\n",
    "scaler = load(open('scaler2.pkl', 'rb'))"
   ]
  },
  {
   "cell_type": "code",
   "execution_count": 9,
   "metadata": {},
   "outputs": [
    {
     "output_type": "execute_result",
     "data": {
      "text/plain": "sklearn.preprocessing._data.StandardScaler"
     },
     "metadata": {},
     "execution_count": 9
    }
   ],
   "source": [
    "type(scaler)"
   ]
  },
  {
   "cell_type": "code",
   "execution_count": 10,
   "metadata": {},
   "outputs": [],
   "source": [
    "# Using the scaler to transform the data\n",
    "x_train = scaler.transform(new_df)"
   ]
  },
  {
   "cell_type": "code",
   "execution_count": 11,
   "metadata": {
    "tags": []
   },
   "outputs": [
    {
     "output_type": "stream",
     "name": "stdout",
     "text": "(1, 12)\n[[-0.47695143 -1.43616823  1.03467011 -1.32564479  0.70711739 -0.34028656\n   1.91669133 -0.14321669  3.87500921 -1.70714343 -0.17066299  0.03404049]]\n"
    }
   ],
   "source": [
    "# after the information is scaled it will look like this rather than the scientific notation\n",
    "# it will still have 2 sets of brackets around the vector\n",
    "# its shape will still have 12 as the second number\n",
    "print(x_train.shape)\n",
    "print(x_train)"
   ]
  },
  {
   "cell_type": "code",
   "execution_count": 12,
   "metadata": {
    "tags": []
   },
   "outputs": [
    {
     "output_type": "stream",
     "name": "stderr",
     "text": "Using TensorFlow backend.\n"
    }
   ],
   "source": [
    "# this is how to load in the model\n",
    "# encoder = load_model('encoder.h5')\n",
    "encoder = load(open('VAE_Encoder.pkl', 'rb'))"
   ]
  },
  {
   "cell_type": "code",
   "execution_count": 13,
   "metadata": {},
   "outputs": [],
   "source": [
    "# this is how to make the predictions with the model\n",
    "preds = encoder.predict(x_train)"
   ]
  },
  {
   "cell_type": "code",
   "execution_count": 14,
   "metadata": {},
   "outputs": [
    {
     "output_type": "execute_result",
     "data": {
      "text/plain": "[array([[ 0.56023014, -1.7370206 ]], dtype=float32),\n array([[-1.6997617, -1.9096086]], dtype=float32),\n array([[ 0.80455625, -1.7457287 ]], dtype=float32)]"
     },
     "metadata": {},
     "execution_count": 14
    }
   ],
   "source": [
    "# the predictions will be an array of 3 vectors containing 2 numbers in each\n",
    "# the first set of 2 numbers are the ones we want\n",
    "# these 2 numbers will then be saved into a database along with the track_id\n",
    "preds = encoder.predict(x_train)\n",
    "# But now when we make predictions it gives us 3 sets of predictions\n",
    "preds"
   ]
  },
  {
   "cell_type": "code",
   "execution_count": 15,
   "metadata": {},
   "outputs": [
    {
     "output_type": "execute_result",
     "data": {
      "text/plain": "array([[ 0.56023014, -1.7370206 ]], dtype=float32)"
     },
     "metadata": {},
     "execution_count": 15
    }
   ],
   "source": [
    "# the way to fix this is to add \"[0]\" to the end of preds\n",
    "preds[0]"
   ]
  },
  {
   "cell_type": "code",
   "execution_count": 16,
   "metadata": {},
   "outputs": [],
   "source": [
    "# from here a K nearest neighbors will be preformed on the data base to find the x number of songs closest to our song in the database.\n",
    "# x is the number of songs requested by the user and will be given to us by the back end\n",
    "# if a number isn't given to us by the back end than default the number to 5"
   ]
  },
  {
   "cell_type": "markdown",
   "metadata": {},
   "source": []
  },
  {
   "cell_type": "markdown",
   "metadata": {},
   "source": []
  },
  {
   "cell_type": "markdown",
   "metadata": {},
   "source": []
  },
  {
   "cell_type": "markdown",
   "metadata": {},
   "source": []
  },
  {
   "cell_type": "markdown",
   "metadata": {},
   "source": []
  },
  {
   "cell_type": "code",
   "execution_count": 17,
   "metadata": {},
   "outputs": [
    {
     "output_type": "execute_result",
     "data": {
      "text/plain": "array([[ 4.56000e-01,  2.55000e-01,  9.00000e+00, -1.58050e+01,\n         1.00000e+00,  4.80000e-02,  9.46000e-01,  1.70000e-01,\n         9.51000e-01,  5.32000e-02,  1.16424e+02,  2.53067e+05],\n       [ 5.35000e-01,  8.06000e-01,  7.00000e+00, -1.02890e+01,\n         1.00000e+00,  6.42000e-02,  4.36000e-03,  1.91000e-02,\n         4.57000e-01,  3.76000e-01,  9.00890e+01,  6.37330e+04],\n       [ 2.94000e-01,  4.82000e-01,  5.00000e+00, -6.40600e+00,\n         1.00000e+00,  4.30000e-02,  4.63000e-01,  0.00000e+00,\n         3.35000e-01,  2.04000e-01,  1.66693e+02,  2.55280e+05],\n       [ 5.63000e-01,  6.31000e-01,  0.00000e+00, -5.14400e+00,\n         1.00000e+00,  3.24000e-02,  6.35000e-02,  8.46000e-06,\n         1.63000e-01,  5.40000e-01,  1.15657e+02,  2.54827e+05],\n       [ 3.58000e-01,  6.11000e-01,  2.00000e+00, -9.75200e+00,\n         0.00000e+00,  4.54000e-02,  5.15000e-01,  4.68000e-04,\n         1.49000e-01,  1.64000e-01,  1.71596e+02,  2.56933e+05]])"
     },
     "metadata": {},
     "execution_count": 17
    }
   ],
   "source": [
    "# Now lets say we have multiple predictions we want to make\n",
    "new_df = features[0:5]\n",
    "new_df"
   ]
  },
  {
   "cell_type": "code",
   "execution_count": 18,
   "metadata": {},
   "outputs": [],
   "source": [
    "# Scale the data\n",
    "new_df = scaler.transform(new_df)"
   ]
  },
  {
   "cell_type": "code",
   "execution_count": 19,
   "metadata": {},
   "outputs": [
    {
     "output_type": "execute_result",
     "data": {
      "text/plain": "array([[-0.47695143, -1.43616823,  1.03467011, -1.32564479,  0.70711739,\n        -0.34028656,  1.91669133, -0.14321669,  3.87500921, -1.70714343,\n        -0.17066299,  0.03404049],\n       [-0.03739907,  0.69843612,  0.47428756, -0.17173186,  0.70711739,\n        -0.1963104 , -0.87635746, -0.58458172,  1.27879637, -0.49117162,\n        -1.06220066, -1.51723037],\n       [-1.37831198, -0.55675773, -0.08609498,  0.64056762,  0.70711739,\n        -0.38472365,  0.48403919, -0.64044701,  0.6376264 , -1.13908721,\n         1.53112958,  0.05217227],\n       [ 0.11839165,  0.02047648, -1.48705135,  0.90457018,  0.70711739,\n        -0.47893027, -0.70093914, -0.64042226, -0.26631816,  0.12660836,\n        -0.19662879,  0.04846071],\n       [-1.02221893, -0.05700462, -0.9266688 , -0.05939479, -1.41419234,\n        -0.36339385,  0.63827917, -0.63907816, -0.33989504, -1.28976525,\n         1.69711436,  0.0657158 ]])"
     },
     "metadata": {},
     "execution_count": 19
    }
   ],
   "source": [
    "# we dont need at_least2D anymore for multiple predictions\n",
    "new_df"
   ]
  },
  {
   "cell_type": "code",
   "execution_count": 20,
   "metadata": {},
   "outputs": [],
   "source": [
    "# predicting is just like normal\n",
    "preds2 = encoder.predict(new_df)"
   ]
  },
  {
   "cell_type": "code",
   "execution_count": 21,
   "metadata": {},
   "outputs": [
    {
     "output_type": "execute_result",
     "data": {
      "text/plain": "array([[ 0.5602303 , -1.7370207 ],\n       [ 0.0436189 ,  0.97871184],\n       [-0.2970995 ,  0.13700697],\n       [-0.16146967, -0.02508018],\n       [-0.05932711, -0.77811337]], dtype=float32)"
     },
     "metadata": {},
     "execution_count": 21
    }
   ],
   "source": [
    "# adding \"[0]\" to the end still gives all the correct predictions\n",
    "preds2[0]"
   ]
  },
  {
   "cell_type": "code",
   "execution_count": null,
   "metadata": {},
   "outputs": [],
   "source": []
  }
 ],
 "metadata": {
  "language_info": {
   "codemirror_mode": {
    "name": "ipython",
    "version": 3
   },
   "file_extension": ".py",
   "mimetype": "text/x-python",
   "name": "python",
   "nbconvert_exporter": "python",
   "pygments_lexer": "ipython3",
   "version": "3.7.0-final"
  },
  "orig_nbformat": 2,
  "kernelspec": {
   "name": "unit4env",
   "display_name": "unit4env (Python3)"
  }
 },
 "nbformat": 4,
 "nbformat_minor": 2
}