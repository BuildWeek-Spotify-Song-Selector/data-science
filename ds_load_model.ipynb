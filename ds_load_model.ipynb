{
 "cells": [
  {
   "cell_type": "code",
   "execution_count": 1,
   "metadata": {
    "tags": []
   },
   "outputs": [
    {
     "output_type": "stream",
     "name": "stderr",
     "text": "Using TensorFlow backend.\n"
    }
   ],
   "source": [
    "import pandas as pd\n",
    "import numpy as np\n",
    "from tensorflow.keras.models import load_model\n",
    "from pickle import load\n",
    "import keras"
   ]
  },
  {
   "cell_type": "code",
   "execution_count": 2,
   "metadata": {},
   "outputs": [],
   "source": [
    "songs = pd.read_csv(\"song_list5.csv\")"
   ]
  },
  {
   "cell_type": "code",
   "execution_count": 3,
   "metadata": {},
   "outputs": [
    {
     "output_type": "execute_result",
     "data": {
      "text/plain": "                   songid       artist                    track  danceability  \\\n0  5X4Qm0rVLcZeeO4tSDmBg3   Jack Bruce  Running Thro' Our Hands         0.456   \n1  1pNpt53PZPet9dvJN3RKGr   Prefuse 73        Parachute Panador         0.535   \n2  3oxz2oCzAWdPzA6In2zA5u  Pasion Vega   La Gata Bajo La Lluvia         0.294   \n3  05JGVUwt7XJk5FPqH0Wsch   Jonny Lang             Walking Away         0.563   \n4  3xdgCFMTn6ut8fZYxfAuR0         Skye         All the Promises         0.358   \n\n   energy  key  loudness  mode  speechiness  acousticness  instrumentalness  \\\n0   0.255  9.0   -15.805   1.0       0.0480       0.94600          0.170000   \n1   0.806  7.0   -10.289   1.0       0.0642       0.00436          0.019100   \n2   0.482  5.0    -6.406   1.0       0.0430       0.46300          0.000000   \n3   0.631  0.0    -5.144   1.0       0.0324       0.06350          0.000008   \n4   0.611  2.0    -9.752   0.0       0.0454       0.51500          0.000468   \n\n   liveness  valence    tempo  duration_ms  time_signature  \n0     0.951   0.0532  116.424     253067.0             4.0  \n1     0.457   0.3760   90.089      63733.0             4.0  \n2     0.335   0.2040  166.693     255280.0             3.0  \n3     0.163   0.5400  115.657     254827.0             4.0  \n4     0.149   0.1640  171.596     256933.0             4.0  ",
      "text/html": "<div>\n<style scoped>\n    .dataframe tbody tr th:only-of-type {\n        vertical-align: middle;\n    }\n\n    .dataframe tbody tr th {\n        vertical-align: top;\n    }\n\n    .dataframe thead th {\n        text-align: right;\n    }\n</style>\n<table border=\"1\" class=\"dataframe\">\n  <thead>\n    <tr style=\"text-align: right;\">\n      <th></th>\n      <th>songid</th>\n      <th>artist</th>\n      <th>track</th>\n      <th>danceability</th>\n      <th>energy</th>\n      <th>key</th>\n      <th>loudness</th>\n      <th>mode</th>\n      <th>speechiness</th>\n      <th>acousticness</th>\n      <th>instrumentalness</th>\n      <th>liveness</th>\n      <th>valence</th>\n      <th>tempo</th>\n      <th>duration_ms</th>\n      <th>time_signature</th>\n    </tr>\n  </thead>\n  <tbody>\n    <tr>\n      <th>0</th>\n      <td>5X4Qm0rVLcZeeO4tSDmBg3</td>\n      <td>Jack Bruce</td>\n      <td>Running Thro' Our Hands</td>\n      <td>0.456</td>\n      <td>0.255</td>\n      <td>9.0</td>\n      <td>-15.805</td>\n      <td>1.0</td>\n      <td>0.0480</td>\n      <td>0.94600</td>\n      <td>0.170000</td>\n      <td>0.951</td>\n      <td>0.0532</td>\n      <td>116.424</td>\n      <td>253067.0</td>\n      <td>4.0</td>\n    </tr>\n    <tr>\n      <th>1</th>\n      <td>1pNpt53PZPet9dvJN3RKGr</td>\n      <td>Prefuse 73</td>\n      <td>Parachute Panador</td>\n      <td>0.535</td>\n      <td>0.806</td>\n      <td>7.0</td>\n      <td>-10.289</td>\n      <td>1.0</td>\n      <td>0.0642</td>\n      <td>0.00436</td>\n      <td>0.019100</td>\n      <td>0.457</td>\n      <td>0.3760</td>\n      <td>90.089</td>\n      <td>63733.0</td>\n      <td>4.0</td>\n    </tr>\n    <tr>\n      <th>2</th>\n      <td>3oxz2oCzAWdPzA6In2zA5u</td>\n      <td>Pasion Vega</td>\n      <td>La Gata Bajo La Lluvia</td>\n      <td>0.294</td>\n      <td>0.482</td>\n      <td>5.0</td>\n      <td>-6.406</td>\n      <td>1.0</td>\n      <td>0.0430</td>\n      <td>0.46300</td>\n      <td>0.000000</td>\n      <td>0.335</td>\n      <td>0.2040</td>\n      <td>166.693</td>\n      <td>255280.0</td>\n      <td>3.0</td>\n    </tr>\n    <tr>\n      <th>3</th>\n      <td>05JGVUwt7XJk5FPqH0Wsch</td>\n      <td>Jonny Lang</td>\n      <td>Walking Away</td>\n      <td>0.563</td>\n      <td>0.631</td>\n      <td>0.0</td>\n      <td>-5.144</td>\n      <td>1.0</td>\n      <td>0.0324</td>\n      <td>0.06350</td>\n      <td>0.000008</td>\n      <td>0.163</td>\n      <td>0.5400</td>\n      <td>115.657</td>\n      <td>254827.0</td>\n      <td>4.0</td>\n    </tr>\n    <tr>\n      <th>4</th>\n      <td>3xdgCFMTn6ut8fZYxfAuR0</td>\n      <td>Skye</td>\n      <td>All the Promises</td>\n      <td>0.358</td>\n      <td>0.611</td>\n      <td>2.0</td>\n      <td>-9.752</td>\n      <td>0.0</td>\n      <td>0.0454</td>\n      <td>0.51500</td>\n      <td>0.000468</td>\n      <td>0.149</td>\n      <td>0.1640</td>\n      <td>171.596</td>\n      <td>256933.0</td>\n      <td>4.0</td>\n    </tr>\n  </tbody>\n</table>\n</div>"
     },
     "metadata": {},
     "execution_count": 3
    }
   ],
   "source": [
    "songs.head()"
   ]
  },
  {
   "cell_type": "code",
   "execution_count": 4,
   "metadata": {},
   "outputs": [],
   "source": [
    "features = songs[[\n",
    "    \"danceability\", \"energy\", \"key\", \"loudness\", \"mode\", \"speechiness\", \n",
    "    \"acousticness\", \"instrumentalness\", \"liveness\", \"valence\", \"tempo\", \n",
    "    \"duration_ms\", \"time_signature\"]].to_numpy()"
   ]
  },
  {
   "cell_type": "code",
   "execution_count": 5,
   "metadata": {},
   "outputs": [
    {
     "output_type": "execute_result",
     "data": {
      "text/plain": "array([ 4.56000e-01,  2.55000e-01,  9.00000e+00, -1.58050e+01,\n        1.00000e+00,  4.80000e-02,  9.46000e-01,  1.70000e-01,\n        9.51000e-01,  5.32000e-02,  1.16424e+02,  2.53067e+05,\n        4.00000e+00])"
     },
     "metadata": {},
     "execution_count": 5
    }
   ],
   "source": [
    "features[0]"
   ]
  },
  {
   "cell_type": "code",
   "execution_count": 6,
   "metadata": {},
   "outputs": [],
   "source": [
    "scaler = load(open('scaler.pkl', 'rb'))"
   ]
  },
  {
   "cell_type": "code",
   "execution_count": 7,
   "metadata": {},
   "outputs": [],
   "source": [
    "x_train = scaler.transform(features)"
   ]
  },
  {
   "cell_type": "code",
   "execution_count": 8,
   "metadata": {},
   "outputs": [
    {
     "output_type": "execute_result",
     "data": {
      "text/plain": "array([[-0.47695143, -1.43616823,  1.03467011, -1.32564479,  0.70711739,\n        -0.34028656,  1.91669133, -0.14321669,  3.87500921, -1.70714343,\n        -0.17066299,  0.03404049,  0.24368604],\n       [-0.03739907,  0.69843612,  0.47428756, -0.17173186,  0.70711739,\n        -0.1963104 , -0.87635746, -0.58458172,  1.27879637, -0.49117162,\n        -1.06220066, -1.51723037,  0.24368604],\n       [-1.37831198, -0.55675773, -0.08609498,  0.64056762,  0.70711739,\n        -0.38472365,  0.48403919, -0.64044701,  0.6376264 , -1.13908721,\n         1.53112958,  0.05217227, -1.94432308],\n       [ 0.11839165,  0.02047648, -1.48705135,  0.90457018,  0.70711739,\n        -0.47893027, -0.70093914, -0.64042226, -0.26631816,  0.12660836,\n        -0.19662879,  0.04846071,  0.24368604],\n       [-1.02221893, -0.05700462, -0.9266688 , -0.05939479, -1.41419234,\n        -0.36339385,  0.63827917, -0.63907816, -0.33989504, -1.28976525,\n         1.69711436,  0.0657158 ,  0.24368604]])"
     },
     "metadata": {},
     "execution_count": 8
    }
   ],
   "source": [
    "x_train[0:5]"
   ]
  },
  {
   "cell_type": "code",
   "execution_count": 9,
   "metadata": {},
   "outputs": [],
   "source": [
    "encoder = load_model('encoder.h5')"
   ]
  },
  {
   "cell_type": "code",
   "execution_count": 10,
   "metadata": {},
   "outputs": [],
   "source": [
    "preds = encoder.predict(x_train)"
   ]
  },
  {
   "cell_type": "code",
   "execution_count": 11,
   "metadata": {},
   "outputs": [
    {
     "output_type": "execute_result",
     "data": {
      "text/plain": "array([[1.1816081, 1.7670339],\n       [4.655777 , 3.1689727],\n       [2.9014647, 1.7386702],\n       [4.1706915, 1.6202143],\n       [4.307556 , 7.3538566]], dtype=float32)"
     },
     "metadata": {},
     "execution_count": 11
    }
   ],
   "source": [
    "preds[0:5]"
   ]
  },
  {
   "cell_type": "code",
   "execution_count": null,
   "metadata": {},
   "outputs": [],
   "source": []
  }
 ],
 "metadata": {
  "language_info": {
   "codemirror_mode": {
    "name": "ipython",
    "version": 3
   },
   "file_extension": ".py",
   "mimetype": "text/x-python",
   "name": "python",
   "nbconvert_exporter": "python",
   "pygments_lexer": "ipython3",
   "version": "3.7.0-final"
  },
  "orig_nbformat": 2,
  "kernelspec": {
   "name": "unit4env",
   "display_name": "unit4env (Python3)"
  }
 },
 "nbformat": 4,
 "nbformat_minor": 2
}