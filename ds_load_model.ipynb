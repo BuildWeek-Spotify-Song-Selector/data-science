{
 "cells": [
  {
   "cell_type": "code",
   "execution_count": 1,
   "metadata": {
    "tags": []
   },
   "outputs": [
    {
     "output_type": "stream",
     "name": "stderr",
     "text": "Using TensorFlow backend.\n"
    }
   ],
   "source": [
    "import pandas as pd\n",
    "import numpy as np\n",
    "from tensorflow.keras.models import load_model\n",
    "from pickle import load\n",
    "import keras"
   ]
  },
  {
   "cell_type": "code",
   "execution_count": 2,
   "metadata": {},
   "outputs": [],
   "source": [
    "songs = pd.read_csv(\"song_list5.csv\")"
   ]
  },
  {
   "cell_type": "code",
   "execution_count": 3,
   "metadata": {},
   "outputs": [],
   "source": [
    "features = songs[[\n",
    "    \"danceability\", \"energy\", \"key\", \"loudness\", \"mode\", \"speechiness\", \n",
    "    \"acousticness\", \"instrumentalness\", \"liveness\", \"valence\", \"tempo\", \n",
    "    \"duration_ms\", \"time_signature\"]].to_numpy()"
   ]
  },
  {
   "cell_type": "code",
   "execution_count": 4,
   "metadata": {},
   "outputs": [
    {
     "output_type": "execute_result",
     "data": {
      "text/plain": "array([ 4.56000e-01,  2.55000e-01,  9.00000e+00, -1.58050e+01,\n        1.00000e+00,  4.80000e-02,  9.46000e-01,  1.70000e-01,\n        9.51000e-01,  5.32000e-02,  1.16424e+02,  2.53067e+05,\n        4.00000e+00])"
     },
     "metadata": {},
     "execution_count": 4
    }
   ],
   "source": [
    "features[0]"
   ]
  },
  {
   "cell_type": "code",
   "execution_count": 5,
   "metadata": {},
   "outputs": [],
   "source": [
    "scaler = load(open('scaler.pkl', 'rb'))"
   ]
  },
  {
   "cell_type": "code",
   "execution_count": 6,
   "metadata": {},
   "outputs": [],
   "source": [
    "x_train = scaler.transform(features)"
   ]
  },
  {
   "cell_type": "code",
   "execution_count": 7,
   "metadata": {},
   "outputs": [
    {
     "output_type": "execute_result",
     "data": {
      "text/plain": "array([[-0.47695143, -1.43616823,  1.03467011, -1.32564479,  0.70711739,\n        -0.34028656,  1.91669133, -0.14321669,  3.87500921, -1.70714343,\n        -0.17066299,  0.03404049,  0.24368604],\n       [-0.03739907,  0.69843612,  0.47428756, -0.17173186,  0.70711739,\n        -0.1963104 , -0.87635746, -0.58458172,  1.27879637, -0.49117162,\n        -1.06220066, -1.51723037,  0.24368604],\n       [-1.37831198, -0.55675773, -0.08609498,  0.64056762,  0.70711739,\n        -0.38472365,  0.48403919, -0.64044701,  0.6376264 , -1.13908721,\n         1.53112958,  0.05217227, -1.94432308],\n       [ 0.11839165,  0.02047648, -1.48705135,  0.90457018,  0.70711739,\n        -0.47893027, -0.70093914, -0.64042226, -0.26631816,  0.12660836,\n        -0.19662879,  0.04846071,  0.24368604],\n       [-1.02221893, -0.05700462, -0.9266688 , -0.05939479, -1.41419234,\n        -0.36339385,  0.63827917, -0.63907816, -0.33989504, -1.28976525,\n         1.69711436,  0.0657158 ,  0.24368604]])"
     },
     "metadata": {},
     "execution_count": 7
    }
   ],
   "source": [
    "x_train[0:5]"
   ]
  },
  {
   "cell_type": "code",
   "execution_count": 9,
   "metadata": {},
   "outputs": [],
   "source": [
    "encoder = load_model('encoder.h5')"
   ]
  },
  {
   "cell_type": "code",
   "execution_count": 12,
   "metadata": {},
   "outputs": [],
   "source": [
    "preds = encoder.predict(x_train)"
   ]
  },
  {
   "cell_type": "code",
   "execution_count": 13,
   "metadata": {},
   "outputs": [
    {
     "output_type": "execute_result",
     "data": {
      "text/plain": "array([[1.1816081, 1.7670339],\n       [4.655777 , 3.1689727],\n       [2.9014647, 1.7386702],\n       [4.1706915, 1.6202143],\n       [4.307556 , 7.3538566]], dtype=float32)"
     },
     "metadata": {},
     "execution_count": 13
    }
   ],
   "source": [
    "preds[0:5]"
   ]
  },
  {
   "cell_type": "code",
   "execution_count": null,
   "metadata": {},
   "outputs": [],
   "source": []
  }
 ],
 "metadata": {
  "language_info": {
   "codemirror_mode": {
    "name": "ipython",
    "version": 3
   },
   "file_extension": ".py",
   "mimetype": "text/x-python",
   "name": "python",
   "nbconvert_exporter": "python",
   "pygments_lexer": "ipython3",
   "version": "3.7.6-final"
  },
  "orig_nbformat": 2,
  "kernelspec": {
   "name": "unit4env",
   "display_name": "unit4env (Python3)"
  }
 },
 "nbformat": 4,
 "nbformat_minor": 2
}