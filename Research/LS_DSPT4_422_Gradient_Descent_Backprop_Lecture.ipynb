{
 "cells": [
  {
   "cell_type": "markdown",
   "metadata": {},
   "source": [
    "Lambda School Data Science\n",
    "\n",
    "*Unit 4, Sprint 2, Module 2*\n",
    "\n",
    "---"
   ]
  },
  {
   "cell_type": "markdown",
   "metadata": {
    "toc-hr-collapsed": true
   },
   "source": [
    "# Backpropagation & Gradient Descent (Prepare)"
   ]
  },
  {
   "cell_type": "markdown",
   "metadata": {},
   "source": [
    "## Learning Objectives\n",
    "* <a href=\"#p1\">Part 1</a>: Explain the intutition behind backproprogation\n",
    "* <a href=\"#p2\">Part 2</a>: Implement gradient descent + backpropagation on a feedforward neural network. "
   ]
  },
  {
   "cell_type": "markdown",
   "metadata": {},
   "source": [
    "## Summary of Yesterday\n",
    "\n",
    "Yesterday, we learned about some of the principal components of Neural Networks: Neurons, Weights, Activation Functions, and layers (input, output, & hidden). Today, we will reinforce our understanding of those components and introduce the mechanics of training a neural network. Feed-forward neural networks, such as multi-layer perceptrons (MLPs), are almost always trained using some variation of gradient descent where the gradient has been calculated by backpropagation.\n",
    "\n",
    "<center><img src=\"https://cdn-images-1.medium.com/max/1600/1*_M4bZyuwaGby6KMiYVYXvg.jpeg\" width=\"400\"></center>\n",
    "\n",
    "- There are three kinds of layers: input, hidden, and output layers.\n",
    "- Each layer is made up of **n** individual neurons (aka activation units) which have a corresponding weight and bias.\n",
    "- Signal is passed from layer to layer through a network by:\n",
    " - Taking in inputs from the training data (or previous layer)\n",
    " - Multiplying each input by its corresponding weight (think arrow/connecting line)\n",
    " - Adding a bias to this weighted some of inputs and weights\n",
    " - Activating this weighted sum + bias by squishifying it with sigmoid or some other activation function. With a single perceptron with three inputs, calculating the output from the node is done like so:\n",
    "\\begin{align}\n",
    " y = sigmoid(\\sum(weight_{1}input_{1} + weight_{2}input_{2} + weight_{3}input_{3}) + bias)\n",
    "\\end{align}\n",
    " - this final activated value is the signal that gets passed onto the next layer of the network.\n",
    " \n",
    " "
   ]
  },
  {
   "cell_type": "markdown",
   "metadata": {},
   "source": [
    "## Training a Neural Network: *Formal Summary*\n",
    "\n",
    "0. Pick a network architecture\n",
    "   - No. of input units = No. of features\n",
    "   - No. of output units = Number of Classes (or expected targets)\n",
    "   - Select the number of hidden layers and number of neurons within each hidden layer\n",
    "1. Randomly initialize weights\n",
    "2. Implement forward propagation to get $h_{\\theta}(x^{(i)})$ for any $x^{(i)}$\n",
    "3. Implement code to compute a cost function $J(\\theta)$\n",
    "4. Implement backpropagation to compute partial derivatives $\\frac{\\delta}{\\delta\\theta_{jk}^{l}}{J(\\theta)}$\n",
    "5. Use gradient descent (or other advanced optimizer) with backpropagation to minimize $J(\\theta)$ as a function of parameters $\\theta\\$\n",
    "6. Repeat steps 2 - 5 until cost function is 'minimized' or some other stopping criteria is met. One pass over steps 2 - 5 is called an iteration or epoch."
   ]
  },
  {
   "cell_type": "markdown",
   "metadata": {
    "toc-hr-collapsed": false
   },
   "source": [
    "## Calculating *\"cost\"*, *\"loss\"* or *\"error\"*\n",
    "\n",
    "We've talked about how in order to evaluate a network's performance, the data is \"fed forward\" until predictions are obtained and then the \"loss\" or \"error\" for a given observation is ascertained by looking at what the network predicted for that observation and comparing it to what it *should* have predicted. \n",
    "\n",
    "The error for a given observation is calculated by taking the square of the difference between the predicted value and the actual value. \n",
    "\n",
    "We can summarize the overall quality of a network's predictions by finding the average error across all observations. This gives us the \"Mean Squared Error.\" which hopefully is a fairly familiar model evaluation metric by now. Graphing the MSE over each epoch (training cycle) is a common practice with Neural Networks. This is what you're seeing in the top right corner of the Tensorflow Playground website as the number of \"epochs\" climbs higher and higher."
   ]
  },
  {
   "cell_type": "markdown",
   "metadata": {},
   "source": [
    "## What is an \"Epoch\"?\n",
    "\n",
    "An \"Epoch\" is one cycle of passing our data forward through the network, measuring error given our specified cost function, and then -via gradient descent- updating weights within our network to hopefully improve the quality of our predictions on the next iteration."
   ]
  },
  {
   "cell_type": "markdown",
   "metadata": {},
   "source": [
    "### Batch vs Minibatch vs Stochastic Gradient Descent Epochs\n",
    "\n",
    "You may have heard these variations on the training process referenced in the 3Blue1Brown videos about backpropagation. \"Minibatch\" Gradient Descent means that instead of passing all of our data through the network for a given epoch (Batch GD), we just pass a randomized portion of our data through the network for each epoch. \n",
    "\n",
    "Stochastic Gradient Descent is when we make updates to our weights after forward propagating each individual training observation."
   ]
  },
  {
   "cell_type": "markdown",
   "metadata": {},
   "source": [
    "### A note about Hyperparameters\n",
    "\n",
    "Neural Networks have many more hyperparameters than other machine learning algorithms which is part of what makes them a beast to train.\n",
    "\n",
    "1. You need more data to train them on. \n",
    "2. They're complex so they take longer to train. \n",
    "3. They have lots and lots of hyperparameters which we need to find the most optimal combination of, so we might end up training our model dozens or hundreds of times with different combinations of hyperparameters in order to try and squeeze out a few more tenths of a percent of accuracy. "
   ]
  },
  {
   "cell_type": "markdown",
   "metadata": {
    "colab_type": "text",
    "id": "aM4CK1IarId4",
    "toc-hr-collapsed": false
   },
   "source": [
    "# Backpropagation (Learn)\n",
    "<a id=\"p1\"></a>"
   ]
  },
  {
   "cell_type": "markdown",
   "metadata": {
    "colab_type": "text",
    "id": "aM4CK1IarId4",
    "toc-hr-collapsed": false
   },
   "source": [
    "## Overview\n",
    "\n",
    "Backpropagation is short for [\"Backwards Propagation of errors\"](https://en.wikipedia.org/wiki/Backpropagation) and refers to a specific (rather calculus intensive) algorithm for how weights in a neural network are updated in reverse order at the end of each training epoch. Our purpose today is to demonstrate the backpropagation algorithm on a simple Feedforward Neural Network and in so doing help you get a grasp on the main process. If you want to understand all of the underlying calculus of how the gradients are calculated then you'll need to dive into it yourself, [3Blue1Brown's video is a great starting place](https://www.youtube.com/watch?v=tIeHLnjs5U8). I also highly recommend this Welch Labs series [Neural Networks Demystified](https://www.youtube.com/watch?v=bxe2T-V8XRs) if you want a rapid yet orderly walkthrough of the main intuitions and math behind the backpropagation algorithm. "
   ]
  },
  {
   "cell_type": "markdown",
   "metadata": {},
   "source": [
    "### What is a Gradient?\n",
    "\n",
    "> In vector calculus, the gradient is a multi-variable generalization of the derivative. \n",
    "\n",
    "The gradients that we will deal with today will be vector representations of the derivative of the activation function. "
   ]
  },
  {
   "cell_type": "markdown",
   "metadata": {
    "toc-hr-collapsed": false
   },
   "source": [
    "## Follow Along\n",
    "\n",
    "In this section, we will again implement a multi-layer perceptron using numpy. We'll focus on using a __Feed Forward Neural Network__ to predict test scores. "
   ]
  },
  {
   "cell_type": "markdown",
   "metadata": {
    "colab_type": "text",
    "id": "Dm2HPETcrgy6",
    "toc-hr-collapsed": true
   },
   "source": [
    "![231 Neural Network](https://cdn-images-1.medium.com/max/1600/1*IjY3wFF24sK9UhiOlf36Bw.png)"
   ]
  },
  {
   "cell_type": "markdown",
   "metadata": {
    "colab_type": "text",
    "id": "4d4tzpwO6B47"
   },
   "source": [
    "### Generate some Fake Data"
   ]
  },
  {
   "cell_type": "code",
   "execution_count": 1,
   "metadata": {
    "colab": {},
    "colab_type": "code",
    "id": "ERyVgeO_IWyV"
   },
   "outputs": [],
   "source": [
    "import numpy as np\n",
    "\n",
    "np.random.seed(812)\n",
    "\n",
    "# hours studying, hours sleep\n",
    "X = np.array(([2,9],\n",
    "              [1,5],\n",
    "              [3,6]), dtype=float)\n",
    "\n",
    "# Exam Scores\n",
    "y = np.array(([90],\n",
    "              [72],\n",
    "              [80]), dtype=float)\n",
    "\n",
    "# y = 2*hours_studying + 4*hours_sleeping + 50\n",
    "# ^ what the network is trying to learn"
   ]
  },
  {
   "cell_type": "markdown",
   "metadata": {},
   "source": [
    "### Feature Normalization"
   ]
  },
  {
   "cell_type": "code",
   "execution_count": 2,
   "metadata": {
    "colab": {},
    "colab_type": "code",
    "id": "cDeUBW6k4Ri4"
   },
   "outputs": [
    {
     "output_type": "stream",
     "name": "stdout",
     "text": "Studying, Sleeping \n [[0.66666667 1.        ]\n [0.33333333 0.55555556]\n [1.         0.66666667]]\nTest Score \n [[0.9 ]\n [0.72]\n [0.8 ]]\n"
    }
   ],
   "source": [
    "# Normalizing Data on feature \n",
    "# Neural Network would probably do this on its own, but it will help us converge on a solution faster\n",
    "X = X / np.amax(X, axis=0)\n",
    "y = y / 100\n",
    "\n",
    "print(\"Studying, Sleeping \\n\", X)\n",
    "print(\"Test Score \\n\", y)"
   ]
  },
  {
   "cell_type": "markdown",
   "metadata": {
    "colab_type": "text",
    "id": "bgTf6vTS69Sw"
   },
   "source": [
    "### Neural Network Architecture\n",
    "Lets create a Neural_Network class to contain this functionality"
   ]
  },
  {
   "cell_type": "code",
   "execution_count": 3,
   "metadata": {
    "colab": {},
    "colab_type": "code",
    "id": "RUI8VSR5zyBv"
   },
   "outputs": [],
   "source": [
    "class NeuralNetwork: \n",
    "    \n",
    "    def __init__(self):\n",
    "        # Setup Arch\n",
    "        self.inputs = 2\n",
    "        self.hiddenNodes = 3 \n",
    "        self.outputNodes = 1\n",
    "        \n",
    "        # Initialize Weights\n",
    "        # 2x3\n",
    "        self.weights1 = np.random.randn(self.inputs, self.hiddenNodes)\n",
    "        \n",
    "        # 3x1\n",
    "        self.weights2 = np.random.randn(self.hiddenNodes, self.outputNodes)"
   ]
  },
  {
   "cell_type": "markdown",
   "metadata": {
    "colab_type": "text",
    "id": "gbyT_FJ88IlK"
   },
   "source": [
    "### Randomly Initialize Weights\n",
    "How many random weights do we need to initialize? \"Fully-connected Layers\""
   ]
  },
  {
   "cell_type": "code",
   "execution_count": 4,
   "metadata": {
    "colab": {},
    "colab_type": "code",
    "id": "IreIDe6P8H0H"
   },
   "outputs": [],
   "source": [
    "nn = NeuralNetwork()"
   ]
  },
  {
   "cell_type": "code",
   "execution_count": 5,
   "metadata": {},
   "outputs": [
    {
     "output_type": "stream",
     "name": "stdout",
     "text": "Layer 1 weights: \n [[ 2.48783189  0.11697987 -1.97118428]\n [-0.48325593 -1.50361209  0.57515126]]\nLayer 2 weights: \n [[-0.20672583]\n [ 0.41271104]\n [-0.57757999]]\n"
    }
   ],
   "source": [
    "print(\"Layer 1 weights: \\n\", nn.weights1)\n",
    "print(\"Layer 2 weights: \\n\", nn.weights2)"
   ]
  },
  {
   "cell_type": "markdown",
   "metadata": {
    "colab_type": "text",
    "id": "hbxDhyjQ-RwS"
   },
   "source": [
    "### Implement Feedforward Functionality\n",
    "\n",
    "After this step our neural network should be able to generate an output even though it has not been trained."
   ]
  },
  {
   "cell_type": "code",
   "execution_count": 6,
   "metadata": {
    "colab": {},
    "colab_type": "code",
    "id": "0gGivpEk-VdP"
   },
   "outputs": [],
   "source": [
    "class NeuralNetwork: \n",
    "    \n",
    "    def __init__(self):\n",
    "        # Setup Arch\n",
    "        self.inputs = 2\n",
    "        self.hiddenNodes = 3 \n",
    "        self.outputNodes = 1\n",
    "        \n",
    "        # Initialize Weights\n",
    "        # 2x3\n",
    "        self.weights1 = np.random.randn(self.inputs, self.hiddenNodes)\n",
    "        \n",
    "        # 3x1\n",
    "        self.weights2 = np.random.randn(self.hiddenNodes, self.outputNodes)\n",
    "        \n",
    "    def sigmoid(self, s):\n",
    "        return 1 / (1+np.exp(-s))\n",
    "    \n",
    "    def feed_forward(self, X):\n",
    "        \"\"\"\n",
    "        Calculate the NN inference using feed forward.\n",
    "        \"\"\"\n",
    "        \n",
    "        # Weight Sum\n",
    "        self.hidden_sum = np.dot(X, self.weights1)\n",
    "        \n",
    "        # Activation\n",
    "        self.activated_hidden = self.sigmoid(self.hidden_sum)\n",
    "        \n",
    "        # Weighted Sum 2\n",
    "        self.output_sum = np.dot(self.activated_hidden, self.weights2)\n",
    "        \n",
    "        # Final Output\n",
    "        self.activated_output = self.sigmoid(self.output_sum)\n",
    "        \n",
    "        return self.activated_output"
   ]
  },
  {
   "cell_type": "code",
   "execution_count": 7,
   "metadata": {},
   "outputs": [
    {
     "output_type": "execute_result",
     "data": {
      "text/plain": "array([[0.66666667, 1.        ],\n       [0.33333333, 0.55555556],\n       [1.        , 0.66666667]])"
     },
     "metadata": {},
     "execution_count": 7
    }
   ],
   "source": [
    "X"
   ]
  },
  {
   "cell_type": "markdown",
   "metadata": {
    "colab_type": "text",
    "id": "a1pxdfmDAaJg"
   },
   "source": [
    "### Make a Prediction"
   ]
  },
  {
   "cell_type": "code",
   "execution_count": 8,
   "metadata": {},
   "outputs": [
    {
     "output_type": "stream",
     "name": "stdout",
     "text": "intput [0.66666667 1.        ]\noutput [0.25814933]\n"
    }
   ],
   "source": [
    "# Try to make a prediction with our updated 'net\n",
    "\n",
    "nn = NeuralNetwork()\n",
    "output = nn.feed_forward(X[0])\n",
    "print(\"intput\", X[0])\n",
    "print(\"output\", output)"
   ]
  },
  {
   "cell_type": "markdown",
   "metadata": {
    "colab_type": "text",
    "id": "3V61yNmAB2T5"
   },
   "source": [
    "### Calculate Error"
   ]
  },
  {
   "cell_type": "code",
   "execution_count": 9,
   "metadata": {},
   "outputs": [
    {
     "output_type": "stream",
     "name": "stdout",
     "text": "[0.64185067]\n"
    }
   ],
   "source": [
    "error = y[0] - output\n",
    "print(error)"
   ]
  },
  {
   "cell_type": "code",
   "execution_count": 10,
   "metadata": {},
   "outputs": [
    {
     "output_type": "stream",
     "name": "stdout",
     "text": "[[0.25814933]\n [0.33067192]\n [0.22642076]]\n[[0.64185067]\n [0.38932808]\n [0.57357924]]\n"
    }
   ],
   "source": [
    "output_all = nn.feed_forward(X)\n",
    "error_all = y - output_all\n",
    "print(output_all)\n",
    "print(error_all)"
   ]
  },
  {
   "cell_type": "markdown",
   "metadata": {
    "colab_type": "text",
    "id": "26wgCLU0TLvy"
   },
   "source": [
    "Why is my error so big?\n",
    "\n",
    "My error is so big because my prediction is low.\n",
    "\n",
    "Why are my prediction low?\n",
    "\n",
    "Because either:\n",
    "\n",
    "  1) Second layer **weights** are low\n",
    "  \n",
    "  (or)\n",
    "  \n",
    "  2) Activations coming from the first layer are low\n",
    "  \n",
    "How are activations from the first layer determined? \n",
    "\n",
    "  1) By inputs - fixed\n",
    "  \n",
    "  2) by **weights** - variable\n",
    "  \n",
    "The only thing that I have control over throughout this process in order to increase the value of my final predictions is to either increase weights in layer 2 or increase weights in layer 1. \n",
    "\n",
    "Imagine that you could only change your weights by a fixed amount. Say you have .3 and you have to split that up and disperse it over your weights so as to increase your predictions as much as possible. (This isn't actually what happens, but it will help us identify which weights we would benefit the most from moving.)\n",
    "\n",
    "I need to increase weights of my model somewhere, I'll get the biggest bang for my buck if I increase weights in places where I'm already seeing high activation values -because they end up getting multiplied together before being passed to the sigmoid function. \n",
    "\n",
    "> \"Neurons that fire together, wire together\""
   ]
  },
  {
   "cell_type": "markdown",
   "metadata": {
    "colab_type": "text",
    "id": "j_eyzItYIxgm"
   },
   "source": [
    "### Implement Backpropagation \n",
    "\n",
    "> *Assigning blame for bad predictions and delivering justice - repeatedly and a little bit at a time*\n",
    "\n",
    "What in our model could be causing our predictions to suck so bad? \n",
    "\n",
    "Well, we know that our inputs (X) and outputs (y) are correct, if they weren't then we would have bigger problems than understanding backpropagation.\n",
    "\n",
    "We also know that our activation function (sigmoid) is working correctly. It can't be blamed because it just does whatever we tell it to and transforms the data in a known way.\n",
    "\n",
    "So what are the potential culprits for these terrible predictions? The **weights** of our model. Here's the problem though. I have weights that exist in both layers of my model. How do I know if the weights in the first layer are to blame, or the second layer, or both? \n",
    "\n",
    "Lets investigate. And see if we can just eyeball what should be updated."
   ]
  },
  {
   "cell_type": "code",
   "execution_count": 11,
   "metadata": {},
   "outputs": [
    {
     "output_type": "stream",
     "name": "stdout",
     "text": "weights1\n [[-1.75351135  1.23279898  0.24464757]\n [-0.06568225  0.30190098  0.79723428]] \n---------\nhidden_sum\n [[-1.23468981  1.12376697  0.96033266]\n [-0.62099392  0.57865576  0.52445712]\n [-1.79729952  1.4340663   0.77613709]] \n---------\nactivated_hidden\n [[0.22536165 0.75468678 0.7231884 ]\n [0.34955543 0.64075804 0.6281894 ]\n [0.14218011 0.8075341  0.68484697]] \n---------\nweights2\n [[ 1.23073545]\n [-1.52187331]\n [-0.25502715]] \n---------\nactivated_output\n [[0.25814933]\n [0.33067192]\n [0.22642076]] \n---------\n"
    },
    {
     "output_type": "execute_result",
     "data": {
      "text/plain": "[None, None, None, None, None]"
     },
     "metadata": {},
     "execution_count": 11
    }
   ],
   "source": [
    "attributes = ['weights1', 'hidden_sum', 'activated_hidden', 'weights2', 'activated_output']\n",
    "[print(i+'\\n', getattr(nn,i), '\\n'+'---'*3) for i in attributes if i[:2]!= '__'] "
   ]
  },
  {
   "cell_type": "markdown",
   "metadata": {
    "colab_type": "text",
    "id": "16Ujj6vNYQyX"
   },
   "source": [
    "### Backpropagation (Simple Overview)\n",
    "\n",
    "Our model has 9 total weights (6 in the first layer, 3 in the last layer) that could be off.\n",
    "\n",
    "1) Calculate Error for a given each observation\n",
    "\n",
    "2) Does the error indicate that I'm overestimating or underestimating in my prediction?\n",
    "\n",
    "3) Look at final layer weights to get an idea for which weights are helping pass desirable signals and which are stifling desirable signals\n",
    "\n",
    "4) Also go to the previous layer and see what can be done to boost activations that are associated with helpful weights, and limit activations that are associated with unhelpful weights."
   ]
  },
  {
   "cell_type": "markdown",
   "metadata": {
    "colab_type": "text",
    "id": "16Ujj6vNYQyX",
    "toc-hr-collapsed": true
   },
   "source": [
    "### Update Weights Based on Gradient\n",
    "\n",
    "Repeat steps 1-4 for every observation in a given batch, and then given the network's cost function, calculate its gradient using calculus and update weights associated with the (negative) gradient of the cost function. \n",
    "\n",
    "Remember that we have 9 weights in our network therefore the gradient that comes from our gradient descent calculation will be the vector that takes us in the most downward direction along some function in 9-dimensional hyperspace.\n",
    "\n",
    "\\begin{align}\n",
    "C(w1, w2, w3, w4, w5, w6, w7, w8, w9)\n",
    "\\end{align}\n",
    "\n",
    "You should also know that with neural networks it is common to have gradients that are not convex (like what we saw when we applied gradient descent to linear regression). Due to the high complexity of these models and their nonlinearity, it is common for gradient descent to get stuck in a local minimum, but there are ways to combat this:\n",
    "\n",
    "1) Stochastic Gradient Descent\n",
    "\n",
    "2) More advanced Gradient-Descent-based \"Optimizers\" - See Stretch Goals on assignment."
   ]
  },
  {
   "cell_type": "code",
   "execution_count": 12,
   "metadata": {},
   "outputs": [],
   "source": [
    "# I want activations that correspond to negative weights to be lower\n",
    "# and activations that correspond to positive weights to be higher\n",
    "\n",
    "class NeuralNetwork: \n",
    "    \n",
    "    def __init__(self):\n",
    "        # Setup Arch\n",
    "        self.inputs = 2\n",
    "        self.hiddenNodes =3 \n",
    "        self.outputNodes = 1\n",
    "        \n",
    "        # Initialize Weights\n",
    "        # 2x3\n",
    "        self.weights1 = np.random.randn(self.inputs, self.hiddenNodes)\n",
    "        \n",
    "        # 3x1\n",
    "        self.weights2 = np.random.randn(self.hiddenNodes, self.outputNodes)\n",
    "        \n",
    "    def sigmoid(self, s):\n",
    "        return 1 / (1+np.exp(-s))\n",
    "    \n",
    "    def sigmoidPrime(self, s):\n",
    "        sx = self.sigmoid(s)\n",
    "        return sx * (1-sx)\n",
    "    \n",
    "    def feed_forward(self, X):\n",
    "        \"\"\"\n",
    "        Calculate the NN inference using feed forward.\n",
    "        \"\"\"\n",
    "        \n",
    "        # Weight Sum\n",
    "        self.hidden_sum = np.dot(X, self.weights1)\n",
    "        \n",
    "        # Activation\n",
    "        self.activated_hidden = self.sigmoid(self.hidden_sum)\n",
    "        \n",
    "        # Weighted Sum 2\n",
    "        self.output_sum = np.dot(self.activated_hidden, self.weights2)\n",
    "        \n",
    "        # Final Output\n",
    "        self.activated_output = self.sigmoid(self.output_sum)\n",
    "        \n",
    "        return self.activated_output\n",
    "    \n",
    "    def backward(self, X,y,o):\n",
    "        \"\"\"\n",
    "        Back prop thru the network\n",
    "        \"\"\"\n",
    "        \n",
    "        self.o_error = y - o\n",
    "        \n",
    "        # Apply derivative of sigmoid to error\n",
    "        self.o_delta = self.o_error * self.sigmoidPrime(self.output_sum)\n",
    "        \n",
    "        # z2 error: how much were our output layer weights off\n",
    "        self.z2_error = self.o_delta.dot(self.weights2.T)\n",
    "        \n",
    "        # z2 delta: how much were the weights off?\n",
    "        self.z2_delta = self.z2_error*self.sigmoidPrime(self.hidden_sum)\n",
    "\n",
    "        self.weights1 += X.T.dot(self.z2_delta) #Adjust first set (input => hidden) weights\n",
    "        self.weights2 += self.activated_hidden.T.dot(self.o_delta) #adjust second set (hidden => output) weights\n",
    "        \n",
    "    def train(self, X, y):\n",
    "        o = self.feed_forward(X)\n",
    "        self.backward(X,y,o)"
   ]
  },
  {
   "cell_type": "markdown",
   "metadata": {
    "toc-hr-collapsed": true
   },
   "source": [
    "#### Let's look at the shape of the Gradient Componets\n"
   ]
  },
  {
   "cell_type": "code",
   "execution_count": 13,
   "metadata": {},
   "outputs": [],
   "source": [
    "#from reference import NeuralNetwork\n",
    "\n",
    "nn = NeuralNetwork()\n",
    "nn.train(X,y)"
   ]
  },
  {
   "cell_type": "markdown",
   "metadata": {},
   "source": [
    "##### Our Error Associated with Each Observation \n",
    "aka how wrong were we?"
   ]
  },
  {
   "cell_type": "code",
   "execution_count": 14,
   "metadata": {},
   "outputs": [
    {
     "output_type": "execute_result",
     "data": {
      "text/plain": "array([[0.60746115],\n       [0.46613403],\n       [0.53667427]])"
     },
     "metadata": {},
     "execution_count": 14
    }
   ],
   "source": [
    "nn.o_error"
   ]
  },
  {
   "cell_type": "markdown",
   "metadata": {},
   "source": [
    "##### 1st Gradient \n",
    "Simple interpretation - how much more sigmoid activation would have pushed us towards the right answer?\n",
    "\n",
    "`self.o_delta = self.o_error * self.sigmoidPrime(self.output_sum)`"
   ]
  },
  {
   "cell_type": "code",
   "execution_count": 15,
   "metadata": {},
   "outputs": [
    {
     "output_type": "execute_result",
     "data": {
      "text/plain": "array([[-0.88308525],\n       [-1.07809882],\n       [-1.02875405]])"
     },
     "metadata": {},
     "execution_count": 15
    }
   ],
   "source": [
    "nn.output_sum"
   ]
  },
  {
   "cell_type": "code",
   "execution_count": 16,
   "metadata": {},
   "outputs": [
    {
     "output_type": "execute_result",
     "data": {
      "text/plain": "array([[0.29253885],\n       [0.25386597],\n       [0.26332573]])"
     },
     "metadata": {},
     "execution_count": 16
    }
   ],
   "source": [
    "nn.sigmoid(nn.output_sum)"
   ]
  },
  {
   "cell_type": "code",
   "execution_count": 17,
   "metadata": {},
   "outputs": [
    {
     "output_type": "execute_result",
     "data": {
      "text/plain": "array([[0.20695987],\n       [0.18941804],\n       [0.19398529]])"
     },
     "metadata": {},
     "execution_count": 17
    }
   ],
   "source": [
    "nn.sigmoidPrime(nn.output_sum)"
   ]
  },
  {
   "cell_type": "code",
   "execution_count": 18,
   "metadata": {},
   "outputs": [
    {
     "output_type": "execute_result",
     "data": {
      "text/plain": "array([[0.12572008],\n       [0.08829419],\n       [0.10410691]])"
     },
     "metadata": {},
     "execution_count": 18
    }
   ],
   "source": [
    "nn.o_delta"
   ]
  },
  {
   "cell_type": "markdown",
   "metadata": {},
   "source": [
    "##### 2nd Error\n",
    "Justice hasn't been served yet - tho. We still have neurons to blame. Let's go back another layer. \n",
    "\n",
    "`self.z2_error = self.o_delta.dot(self.weights2.T)`\n",
    "\n",
    "__Discussion:__ Why is this shape different?"
   ]
  },
  {
   "cell_type": "code",
   "execution_count": 19,
   "metadata": {},
   "outputs": [
    {
     "output_type": "execute_result",
     "data": {
      "text/plain": "array([[-0.22405998, -0.1801229 ,  0.07127711],\n       [-0.15735907, -0.12650171,  0.05005847],\n       [-0.18554071, -0.14915707,  0.0590235 ]])"
     },
     "metadata": {},
     "execution_count": 19
    }
   ],
   "source": [
    "nn.z2_error"
   ]
  },
  {
   "cell_type": "markdown",
   "metadata": {},
   "source": [
    "##### 2nd Gradient\n",
    "For each observation, how much more sigmoid activation from this layer would have pushed us towards the right answer?\n",
    "\n",
    "`self.z2_delta = self.z2_error * self.sigmoidPrime(self.hidden_sum)`"
   ]
  },
  {
   "cell_type": "code",
   "execution_count": 20,
   "metadata": {},
   "outputs": [
    {
     "output_type": "execute_result",
     "data": {
      "text/plain": "array([[-0.05147205, -0.04168453,  0.01780458],\n       [-0.03808351, -0.03115659,  0.01251457],\n       [-0.04613442, -0.02419762,  0.01401073]])"
     },
     "metadata": {},
     "execution_count": 20
    }
   ],
   "source": [
    "nn.z2_delta"
   ]
  },
  {
   "cell_type": "code",
   "execution_count": 21,
   "metadata": {},
   "outputs": [
    {
     "output_type": "execute_result",
     "data": {
      "text/plain": "True"
     },
     "metadata": {},
     "execution_count": 21
    }
   ],
   "source": [
    "X.T.shape == nn.weights1.shape"
   ]
  },
  {
   "cell_type": "markdown",
   "metadata": {},
   "source": [
    "##### Descent\n",
    "\n",
    "*Discussion:* Input to Hidden Weight Update\n",
    "- We multiply the gradient by the inputs. Why?\n",
    "- Why do we need to transpose the inputs? "
   ]
  },
  {
   "cell_type": "code",
   "execution_count": 22,
   "metadata": {},
   "outputs": [
    {
     "output_type": "execute_result",
     "data": {
      "text/plain": "array([[0.66666667, 0.33333333, 1.        ],\n       [1.        , 0.55555556, 0.66666667]])"
     },
     "metadata": {},
     "execution_count": 22
    }
   ],
   "source": [
    "X.T"
   ]
  },
  {
   "cell_type": "code",
   "execution_count": 23,
   "metadata": {},
   "outputs": [
    {
     "output_type": "execute_result",
     "data": {
      "text/plain": "array([[-0.09314363, -0.06237284,  0.03005197],\n       [-0.10338584, -0.07512549,  0.0340976 ]])"
     },
     "metadata": {},
     "execution_count": 23
    }
   ],
   "source": [
    "X.T.dot(nn.z2_delta)"
   ]
  },
  {
   "cell_type": "markdown",
   "metadata": {},
   "source": [
    "*Discussion:* Hidden to Output Weight Update\n",
    "- Why is output the shape 3x1? \n",
    "- We multiply the gradient by the inputs. Why?\n",
    "- Why do we need to transpose the inputs?"
   ]
  },
  {
   "cell_type": "code",
   "execution_count": 24,
   "metadata": {},
   "outputs": [
    {
     "output_type": "execute_result",
     "data": {
      "text/plain": "array([[0.13709717],\n       [0.10570706],\n       [0.14546975]])"
     },
     "metadata": {},
     "execution_count": 24
    }
   ],
   "source": [
    "nn.activated_hidden.T.dot(nn.o_delta)"
   ]
  },
  {
   "cell_type": "markdown",
   "metadata": {},
   "source": [
    "### Train the Network (fo real this time)"
   ]
  },
  {
   "cell_type": "code",
   "execution_count": 25,
   "metadata": {},
   "outputs": [
    {
     "output_type": "stream",
     "name": "stdout",
     "text": "+---------EPOCH 1---------+\nInput: \n [[0.66666667 1.        ]\n [0.33333333 0.55555556]\n [1.         0.66666667]]\nActual Output: \n [[0.9 ]\n [0.72]\n [0.8 ]]\nPredicted Output: \n [[0.37771334]\n [0.41477855]\n [0.40348484]]\nLoss: \n 0.17438925217089843\n+---------EPOCH 2---------+\nInput: \n [[0.66666667 1.        ]\n [0.33333333 0.55555556]\n [1.         0.66666667]]\nActual Output: \n [[0.9 ]\n [0.72]\n [0.8 ]]\nPredicted Output: \n [[0.46600841]\n [0.49415696]\n [0.48831231]]\nLoss: \n 0.11216766504960145\n+---------EPOCH 3---------+\nInput: \n [[0.66666667 1.        ]\n [0.33333333 0.55555556]\n [1.         0.66666667]]\nActual Output: \n [[0.9 ]\n [0.72]\n [0.8 ]]\nPredicted Output: \n [[0.54158907]\n [0.56049596]\n [0.55974774]]\nLoss: \n 0.07054036236129774\n+---------EPOCH 4---------+\nInput: \n [[0.66666667 1.        ]\n [0.33333333 0.55555556]\n [1.         0.66666667]]\nActual Output: \n [[0.9 ]\n [0.72]\n [0.8 ]]\nPredicted Output: \n [[0.59995339]\n [0.61107483]\n [0.61445312]]\nLoss: \n 0.04544010213424358\n+---------EPOCH 5---------+\nInput: \n [[0.66666667 1.        ]\n [0.33333333 0.55555556]\n [1.         0.66666667]]\nActual Output: \n [[0.9 ]\n [0.72]\n [0.8 ]]\nPredicted Output: \n [[0.6433419 ]\n [0.6484747 ]\n [0.65498557]]\nLoss: \n 0.030672811712652893\n+---------EPOCH 1000---------+\nInput: \n [[0.66666667 1.        ]\n [0.33333333 0.55555556]\n [1.         0.66666667]]\nActual Output: \n [[0.9 ]\n [0.72]\n [0.8 ]]\nPredicted Output: \n [[0.82268242]\n [0.78629293]\n [0.81241377]]\nLoss: \n 0.00350895417812754\n+---------EPOCH 2000---------+\nInput: \n [[0.66666667 1.        ]\n [0.33333333 0.55555556]\n [1.         0.66666667]]\nActual Output: \n [[0.9 ]\n [0.72]\n [0.8 ]]\nPredicted Output: \n [[0.82439478]\n [0.78394768]\n [0.81150952]]\nLoss: \n 0.0033126413482262914\n+---------EPOCH 3000---------+\nInput: \n [[0.66666667 1.        ]\n [0.33333333 0.55555556]\n [1.         0.66666667]]\nActual Output: \n [[0.9 ]\n [0.72]\n [0.8 ]]\nPredicted Output: \n [[0.83101491]\n [0.77214288]\n [0.81268188]]\nLoss: \n 0.0025462174943048596\n+---------EPOCH 4000---------+\nInput: \n [[0.66666667 1.        ]\n [0.33333333 0.55555556]\n [1.         0.66666667]]\nActual Output: \n [[0.9 ]\n [0.72]\n [0.8 ]]\nPredicted Output: \n [[0.84599519]\n [0.75320748]\n [0.81206729]]\nLoss: \n 0.0013882919781529242\n+---------EPOCH 5000---------+\nInput: \n [[0.66666667 1.        ]\n [0.33333333 0.55555556]\n [1.         0.66666667]]\nActual Output: \n [[0.9 ]\n [0.72]\n [0.8 ]]\nPredicted Output: \n [[0.85837718]\n [0.74410449]\n [0.8074435 ]]\nLoss: \n 0.0007896304523830267\n+---------EPOCH 6000---------+\nInput: \n [[0.66666667 1.        ]\n [0.33333333 0.55555556]\n [1.         0.66666667]]\nActual Output: \n [[0.9 ]\n [0.72]\n [0.8 ]]\nPredicted Output: \n [[0.86762851]\n [0.73843862]\n [0.80423041]]\nLoss: \n 0.00046859751461036215\n+---------EPOCH 7000---------+\nInput: \n [[0.66666667 1.        ]\n [0.33333333 0.55555556]\n [1.         0.66666667]]\nActual Output: \n [[0.9 ]\n [0.72]\n [0.8 ]]\nPredicted Output: \n [[0.87444825]\n [0.73416474]\n [0.80269207]]\nLoss: \n 0.0002869262837669205\n+---------EPOCH 8000---------+\nInput: \n [[0.66666667 1.        ]\n [0.33333333 0.55555556]\n [1.         0.66666667]]\nActual Output: \n [[0.9 ]\n [0.72]\n [0.8 ]]\nPredicted Output: \n [[0.87959742]\n [0.7309803 ]\n [0.80187561]]\nLoss: \n 0.0001801167224290982\n+---------EPOCH 9000---------+\nInput: \n [[0.66666667 1.        ]\n [0.33333333 0.55555556]\n [1.         0.66666667]]\nActual Output: \n [[0.9 ]\n [0.72]\n [0.8 ]]\nPredicted Output: \n [[0.88356771]\n [0.72861137]\n [0.80137658]]\nLoss: \n 0.00011535693367095236\n+---------EPOCH 10000---------+\nInput: \n [[0.66666667 1.        ]\n [0.33333333 0.55555556]\n [1.         0.66666667]]\nActual Output: \n [[0.9 ]\n [0.72]\n [0.8 ]]\nPredicted Output: \n [[0.88667507]\n [0.72682676]\n [0.80104389]]\nLoss: \n 7.508276293462614e-05\n"
    }
   ],
   "source": [
    "# Train my 'net\n",
    "nn = NeuralNetwork()\n",
    "\n",
    "# Number of Epochs / Iterations\n",
    "for i in range(10000):\n",
    "    if (i+1 in [1,2,3,4,5]) or ((i+1) % 1000 ==0):\n",
    "        print('+' + '---' * 3 + f'EPOCH {i+1}' + '---'*3 + '+')\n",
    "        print('Input: \\n', X)\n",
    "        print('Actual Output: \\n', y)\n",
    "        print('Predicted Output: \\n', str(nn.feed_forward(X)))\n",
    "        print(\"Loss: \\n\", str(np.mean(np.square(y - nn.feed_forward(X)))))\n",
    "    nn.train(X,y)"
   ]
  },
  {
   "cell_type": "markdown",
   "metadata": {},
   "source": [
    "## Challenge\n",
    "\n",
    "In the module project, you will implement backpropagation inside a multi-layer perceptron (aka a feedforward neural network). "
   ]
  },
  {
   "cell_type": "markdown",
   "metadata": {},
   "source": [
    "# Stochastic Gradient Descent (Learn)"
   ]
  },
  {
   "cell_type": "markdown",
   "metadata": {},
   "source": [
    "## Overview\n",
    "\n",
    "The What - Stochastic Gradient Descent calculates an approximation of the gradient over the entire dataset by reviewing the predictions of a random sample. \n",
    "\n",
    "The Why - *Speed*. Calculating the gradient over the entire dataset is extremely expensive computationally. "
   ]
  },
  {
   "cell_type": "markdown",
   "metadata": {
    "colab_type": "text",
    "id": "ZF7UE-KluPsX"
   },
   "source": [
    "## Follow Along\n",
    "\n",
    "A true Stochastic GD-based implementation from [Welch Labs](https://www.youtube.com/watch?v=bxe2T-V8XRs)"
   ]
  },
  {
   "cell_type": "code",
   "execution_count": 26,
   "metadata": {},
   "outputs": [],
   "source": [
    "class Neural_Network(object):\n",
    "    def __init__(self):        \n",
    "        #Define Hyperparameters\n",
    "        self.inputLayerSize = 2\n",
    "        self.outputLayerSize = 1\n",
    "        self.hiddenLayerSize = 3\n",
    "        \n",
    "        #Weights (parameters)\n",
    "        self.W1 = np.random.randn(self.inputLayerSize,self.hiddenLayerSize)\n",
    "        self.W2 = np.random.randn(self.hiddenLayerSize,self.outputLayerSize)\n",
    "        \n",
    "    def forward(self, X):\n",
    "        #Propogate inputs though network\n",
    "        self.z2 = np.dot(X, self.W1)\n",
    "        self.a2 = self.sigmoid(self.z2)\n",
    "        self.z3 = np.dot(self.a2, self.W2)\n",
    "        yHat = self.sigmoid(self.z3) \n",
    "        return yHat\n",
    "        \n",
    "    def sigmoid(self, z):\n",
    "        #Apply sigmoid activation function to scalar, vector, or matrix\n",
    "        return 1/(1+np.exp(-z))\n",
    "    \n",
    "    def sigmoidPrime(self,z):\n",
    "        #Gradient of sigmoid\n",
    "        return np.exp(-z)/((1+np.exp(-z))**2)\n",
    "    \n",
    "    def costFunction(self, X, y):\n",
    "        #Compute cost for given X,y, use weights already stored in class.\n",
    "        self.yHat = self.forward(X)\n",
    "        J = 0.5*sum((y-self.yHat)**2)\n",
    "        return J\n",
    "        \n",
    "    def costFunctionPrime(self, X, y):\n",
    "        #Compute derivative with respect to W and W2 for a given X and y:\n",
    "        self.yHat = self.forward(X)\n",
    "        \n",
    "        delta3 = np.multiply(-(y-self.yHat), self.sigmoidPrime(self.z3))\n",
    "        dJdW2 = np.dot(self.a2.T, delta3)\n",
    "        \n",
    "        delta2 = np.dot(delta3, self.W2.T)*self.sigmoidPrime(self.z2)\n",
    "        dJdW1 = np.dot(X.T, delta2)  \n",
    "        \n",
    "        return dJdW1, dJdW2\n",
    "    \n",
    "    #Helper Functions for interacting with other classes:\n",
    "    def getParams(self):\n",
    "        #Get W1 and W2 unrolled into vector:\n",
    "        params = np.concatenate((self.W1.ravel(), self.W2.ravel()))\n",
    "        return params\n",
    "    \n",
    "    def setParams(self, params):\n",
    "        #Set W1 and W2 using single paramater vector.\n",
    "        W1_start = 0\n",
    "        W1_end = self.hiddenLayerSize * self.inputLayerSize\n",
    "        self.W1 = np.reshape(params[W1_start:W1_end], (self.inputLayerSize , self.hiddenLayerSize))\n",
    "        W2_end = W1_end + self.hiddenLayerSize*self.outputLayerSize\n",
    "        self.W2 = np.reshape(params[W1_end:W2_end], (self.hiddenLayerSize, self.outputLayerSize))\n",
    "        \n",
    "    def computeGradients(self, X, y):\n",
    "        dJdW1, dJdW2 = self.costFunctionPrime(X, y)\n",
    "        return np.concatenate((dJdW1.ravel(), dJdW2.ravel()))"
   ]
  },
  {
   "cell_type": "code",
   "execution_count": 27,
   "metadata": {
    "colab": {},
    "colab_type": "code",
    "id": "uA9LaTgKr6rP"
   },
   "outputs": [],
   "source": [
    "from scipy import optimize\n",
    "class trainer(object):\n",
    "    def __init__(self, N):\n",
    "        #Make Local reference to network:\n",
    "        self.N = N\n",
    "        \n",
    "    def callbackF(self, params):\n",
    "        self.N.setParams(params)\n",
    "        self.J.append(self.N.costFunction(self.X, self.y))   \n",
    "        \n",
    "    def costFunctionWrapper(self, params, X, y):\n",
    "        self.N.setParams(params)\n",
    "        cost = self.N.costFunction(X, y)\n",
    "        grad = self.N.computeGradients(X,y)\n",
    "        \n",
    "        return cost, grad\n",
    "        \n",
    "    def train(self, X, y):\n",
    "        #Make an internal variable for the callback function:\n",
    "        self.X = X\n",
    "        self.y = y\n",
    "\n",
    "        #Make empty list to store costs:\n",
    "        self.J = []\n",
    "        \n",
    "        params0 = self.N.getParams()\n",
    "\n",
    "        options = {'maxiter': 200, 'disp' : True}\n",
    "        _res = optimize.minimize(self.costFunctionWrapper, params0, jac=True, method='BFGS', \\\n",
    "                                 args=(X, y), options=options, callback=self.callbackF)\n",
    "\n",
    "        self.N.setParams(_res.x)\n",
    "        self.optimizationResults = _res"
   ]
  },
  {
   "cell_type": "code",
   "execution_count": 28,
   "metadata": {
    "colab": {},
    "colab_type": "code",
    "id": "g_kHb6Se1u9y"
   },
   "outputs": [],
   "source": [
    "NN = Neural_Network()"
   ]
  },
  {
   "cell_type": "code",
   "execution_count": 29,
   "metadata": {
    "colab": {},
    "colab_type": "code",
    "id": "hYYVhFf4rn3q"
   },
   "outputs": [],
   "source": [
    "T = trainer(NN)"
   ]
  },
  {
   "cell_type": "code",
   "execution_count": 30,
   "metadata": {
    "colab": {
     "base_uri": "https://localhost:8080/",
     "height": 104
    },
    "colab_type": "code",
    "id": "L-gYdVfgrysE",
    "outputId": "ae371bf9-692c-49b4-b165-8562dab9c06e"
   },
   "outputs": [
    {
     "output_type": "stream",
     "name": "stdout",
     "text": "Optimization terminated successfully.\n         Current function value: 0.000000\n         Iterations: 68\n         Function evaluations: 84\n         Gradient evaluations: 84\n"
    }
   ],
   "source": [
    "T.train(X,y)"
   ]
  },
  {
   "cell_type": "code",
   "execution_count": 31,
   "metadata": {
    "colab": {
     "base_uri": "https://localhost:8080/",
     "height": 121
    },
    "colab_type": "code",
    "id": "Jyv_L8Z2sKOA",
    "outputId": "08725651-6d21-401b-85c0-3487370b8bc0"
   },
   "outputs": [
    {
     "output_type": "stream",
     "name": "stdout",
     "text": "Predicted Output: \n[[0.90000211]\n [0.72000181]\n [0.79999655]]\nLoss: \n6.533000882715043e-12\n"
    }
   ],
   "source": [
    "print(\"Predicted Output: \\n\" + str(NN.forward(X))) \n",
    "print(\"Loss: \\n\" + str(np.mean(np.square(y - NN.forward(X))))) # mean sum squared loss"
   ]
  },
  {
   "cell_type": "code",
   "execution_count": 32,
   "metadata": {
    "colab": {
     "base_uri": "https://localhost:8080/",
     "height": 361
    },
    "colab_type": "code",
    "id": "Gtf9WI9FtGPk",
    "outputId": "d062b2a3-5a92-403e-8ce0-c070aa79907b"
   },
   "outputs": [
    {
     "output_type": "display_data",
     "data": {
      "text/plain": "<Figure size 432x288 with 1 Axes>",
      "image/svg+xml": "<?xml version=\"1.0\" encoding=\"utf-8\" standalone=\"no\"?>\r\n<!DOCTYPE svg PUBLIC \"-//W3C//DTD SVG 1.1//EN\"\r\n  \"http://www.w3.org/Graphics/SVG/1.1/DTD/svg11.dtd\">\r\n<!-- Created with matplotlib (https://matplotlib.org/) -->\r\n<svg height=\"262.19625pt\" version=\"1.1\" viewBox=\"0 0 403.278791 262.19625\" width=\"403.278791pt\" xmlns=\"http://www.w3.org/2000/svg\" xmlns:xlink=\"http://www.w3.org/1999/xlink\">\r\n <defs>\r\n  <style type=\"text/css\">\r\n*{stroke-linecap:butt;stroke-linejoin:round;}\r\n  </style>\r\n </defs>\r\n <g id=\"figure_1\">\r\n  <g id=\"patch_1\">\r\n   <path d=\"M 0 262.19625 \r\nL 403.278791 262.19625 \r\nL 403.278791 0 \r\nL 0 0 \r\nz\r\n\" style=\"fill:none;\"/>\r\n  </g>\r\n  <g id=\"axes_1\">\r\n   <g id=\"patch_2\">\r\n    <path d=\"M 56.50625 224.64 \r\nL 391.30625 224.64 \r\nL 391.30625 7.2 \r\nL 56.50625 7.2 \r\nz\r\n\" style=\"fill:#ffffff;\"/>\r\n   </g>\r\n   <g id=\"matplotlib.axis_1\">\r\n    <g id=\"xtick_1\">\r\n     <g id=\"line2d_1\">\r\n      <defs>\r\n       <path d=\"M 0 0 \r\nL 0 3.5 \r\n\" id=\"mcabc1f6244\" style=\"stroke:#000000;stroke-width:0.8;\"/>\r\n      </defs>\r\n      <g>\r\n       <use style=\"stroke:#000000;stroke-width:0.8;\" x=\"71.724432\" xlink:href=\"#mcabc1f6244\" y=\"224.64\"/>\r\n      </g>\r\n     </g>\r\n     <g id=\"text_1\">\r\n      <!-- 0 -->\r\n      <defs>\r\n       <path d=\"M 31.78125 66.40625 \r\nQ 24.171875 66.40625 20.328125 58.90625 \r\nQ 16.5 51.421875 16.5 36.375 \r\nQ 16.5 21.390625 20.328125 13.890625 \r\nQ 24.171875 6.390625 31.78125 6.390625 \r\nQ 39.453125 6.390625 43.28125 13.890625 \r\nQ 47.125 21.390625 47.125 36.375 \r\nQ 47.125 51.421875 43.28125 58.90625 \r\nQ 39.453125 66.40625 31.78125 66.40625 \r\nz\r\nM 31.78125 74.21875 \r\nQ 44.046875 74.21875 50.515625 64.515625 \r\nQ 56.984375 54.828125 56.984375 36.375 \r\nQ 56.984375 17.96875 50.515625 8.265625 \r\nQ 44.046875 -1.421875 31.78125 -1.421875 \r\nQ 19.53125 -1.421875 13.0625 8.265625 \r\nQ 6.59375 17.96875 6.59375 36.375 \r\nQ 6.59375 54.828125 13.0625 64.515625 \r\nQ 19.53125 74.21875 31.78125 74.21875 \r\nz\r\n\" id=\"DejaVuSans-48\"/>\r\n      </defs>\r\n      <g transform=\"translate(68.543182 239.238437)scale(0.1 -0.1)\">\r\n       <use xlink:href=\"#DejaVuSans-48\"/>\r\n      </g>\r\n     </g>\r\n    </g>\r\n    <g id=\"xtick_2\">\r\n     <g id=\"line2d_2\">\r\n      <g>\r\n       <use style=\"stroke:#000000;stroke-width:0.8;\" x=\"117.15184\" xlink:href=\"#mcabc1f6244\" y=\"224.64\"/>\r\n      </g>\r\n     </g>\r\n     <g id=\"text_2\">\r\n      <!-- 10 -->\r\n      <defs>\r\n       <path d=\"M 12.40625 8.296875 \r\nL 28.515625 8.296875 \r\nL 28.515625 63.921875 \r\nL 10.984375 60.40625 \r\nL 10.984375 69.390625 \r\nL 28.421875 72.90625 \r\nL 38.28125 72.90625 \r\nL 38.28125 8.296875 \r\nL 54.390625 8.296875 \r\nL 54.390625 0 \r\nL 12.40625 0 \r\nz\r\n\" id=\"DejaVuSans-49\"/>\r\n      </defs>\r\n      <g transform=\"translate(110.78934 239.238437)scale(0.1 -0.1)\">\r\n       <use xlink:href=\"#DejaVuSans-49\"/>\r\n       <use x=\"63.623047\" xlink:href=\"#DejaVuSans-48\"/>\r\n      </g>\r\n     </g>\r\n    </g>\r\n    <g id=\"xtick_3\">\r\n     <g id=\"line2d_3\">\r\n      <g>\r\n       <use style=\"stroke:#000000;stroke-width:0.8;\" x=\"162.579249\" xlink:href=\"#mcabc1f6244\" y=\"224.64\"/>\r\n      </g>\r\n     </g>\r\n     <g id=\"text_3\">\r\n      <!-- 20 -->\r\n      <defs>\r\n       <path d=\"M 19.1875 8.296875 \r\nL 53.609375 8.296875 \r\nL 53.609375 0 \r\nL 7.328125 0 \r\nL 7.328125 8.296875 \r\nQ 12.9375 14.109375 22.625 23.890625 \r\nQ 32.328125 33.6875 34.8125 36.53125 \r\nQ 39.546875 41.84375 41.421875 45.53125 \r\nQ 43.3125 49.21875 43.3125 52.78125 \r\nQ 43.3125 58.59375 39.234375 62.25 \r\nQ 35.15625 65.921875 28.609375 65.921875 \r\nQ 23.96875 65.921875 18.8125 64.3125 \r\nQ 13.671875 62.703125 7.8125 59.421875 \r\nL 7.8125 69.390625 \r\nQ 13.765625 71.78125 18.9375 73 \r\nQ 24.125 74.21875 28.421875 74.21875 \r\nQ 39.75 74.21875 46.484375 68.546875 \r\nQ 53.21875 62.890625 53.21875 53.421875 \r\nQ 53.21875 48.921875 51.53125 44.890625 \r\nQ 49.859375 40.875 45.40625 35.40625 \r\nQ 44.1875 33.984375 37.640625 27.21875 \r\nQ 31.109375 20.453125 19.1875 8.296875 \r\nz\r\n\" id=\"DejaVuSans-50\"/>\r\n      </defs>\r\n      <g transform=\"translate(156.216749 239.238437)scale(0.1 -0.1)\">\r\n       <use xlink:href=\"#DejaVuSans-50\"/>\r\n       <use x=\"63.623047\" xlink:href=\"#DejaVuSans-48\"/>\r\n      </g>\r\n     </g>\r\n    </g>\r\n    <g id=\"xtick_4\">\r\n     <g id=\"line2d_4\">\r\n      <g>\r\n       <use style=\"stroke:#000000;stroke-width:0.8;\" x=\"208.006657\" xlink:href=\"#mcabc1f6244\" y=\"224.64\"/>\r\n      </g>\r\n     </g>\r\n     <g id=\"text_4\">\r\n      <!-- 30 -->\r\n      <defs>\r\n       <path d=\"M 40.578125 39.3125 \r\nQ 47.65625 37.796875 51.625 33 \r\nQ 55.609375 28.21875 55.609375 21.1875 \r\nQ 55.609375 10.40625 48.1875 4.484375 \r\nQ 40.765625 -1.421875 27.09375 -1.421875 \r\nQ 22.515625 -1.421875 17.65625 -0.515625 \r\nQ 12.796875 0.390625 7.625 2.203125 \r\nL 7.625 11.71875 \r\nQ 11.71875 9.328125 16.59375 8.109375 \r\nQ 21.484375 6.890625 26.8125 6.890625 \r\nQ 36.078125 6.890625 40.9375 10.546875 \r\nQ 45.796875 14.203125 45.796875 21.1875 \r\nQ 45.796875 27.640625 41.28125 31.265625 \r\nQ 36.765625 34.90625 28.71875 34.90625 \r\nL 20.21875 34.90625 \r\nL 20.21875 43.015625 \r\nL 29.109375 43.015625 \r\nQ 36.375 43.015625 40.234375 45.921875 \r\nQ 44.09375 48.828125 44.09375 54.296875 \r\nQ 44.09375 59.90625 40.109375 62.90625 \r\nQ 36.140625 65.921875 28.71875 65.921875 \r\nQ 24.65625 65.921875 20.015625 65.03125 \r\nQ 15.375 64.15625 9.8125 62.3125 \r\nL 9.8125 71.09375 \r\nQ 15.4375 72.65625 20.34375 73.4375 \r\nQ 25.25 74.21875 29.59375 74.21875 \r\nQ 40.828125 74.21875 47.359375 69.109375 \r\nQ 53.90625 64.015625 53.90625 55.328125 \r\nQ 53.90625 49.265625 50.4375 45.09375 \r\nQ 46.96875 40.921875 40.578125 39.3125 \r\nz\r\n\" id=\"DejaVuSans-51\"/>\r\n      </defs>\r\n      <g transform=\"translate(201.644157 239.238437)scale(0.1 -0.1)\">\r\n       <use xlink:href=\"#DejaVuSans-51\"/>\r\n       <use x=\"63.623047\" xlink:href=\"#DejaVuSans-48\"/>\r\n      </g>\r\n     </g>\r\n    </g>\r\n    <g id=\"xtick_5\">\r\n     <g id=\"line2d_5\">\r\n      <g>\r\n       <use style=\"stroke:#000000;stroke-width:0.8;\" x=\"253.434065\" xlink:href=\"#mcabc1f6244\" y=\"224.64\"/>\r\n      </g>\r\n     </g>\r\n     <g id=\"text_5\">\r\n      <!-- 40 -->\r\n      <defs>\r\n       <path d=\"M 37.796875 64.3125 \r\nL 12.890625 25.390625 \r\nL 37.796875 25.390625 \r\nz\r\nM 35.203125 72.90625 \r\nL 47.609375 72.90625 \r\nL 47.609375 25.390625 \r\nL 58.015625 25.390625 \r\nL 58.015625 17.1875 \r\nL 47.609375 17.1875 \r\nL 47.609375 0 \r\nL 37.796875 0 \r\nL 37.796875 17.1875 \r\nL 4.890625 17.1875 \r\nL 4.890625 26.703125 \r\nz\r\n\" id=\"DejaVuSans-52\"/>\r\n      </defs>\r\n      <g transform=\"translate(247.071565 239.238437)scale(0.1 -0.1)\">\r\n       <use xlink:href=\"#DejaVuSans-52\"/>\r\n       <use x=\"63.623047\" xlink:href=\"#DejaVuSans-48\"/>\r\n      </g>\r\n     </g>\r\n    </g>\r\n    <g id=\"xtick_6\">\r\n     <g id=\"line2d_6\">\r\n      <g>\r\n       <use style=\"stroke:#000000;stroke-width:0.8;\" x=\"298.861474\" xlink:href=\"#mcabc1f6244\" y=\"224.64\"/>\r\n      </g>\r\n     </g>\r\n     <g id=\"text_6\">\r\n      <!-- 50 -->\r\n      <defs>\r\n       <path d=\"M 10.796875 72.90625 \r\nL 49.515625 72.90625 \r\nL 49.515625 64.59375 \r\nL 19.828125 64.59375 \r\nL 19.828125 46.734375 \r\nQ 21.96875 47.46875 24.109375 47.828125 \r\nQ 26.265625 48.1875 28.421875 48.1875 \r\nQ 40.625 48.1875 47.75 41.5 \r\nQ 54.890625 34.8125 54.890625 23.390625 \r\nQ 54.890625 11.625 47.5625 5.09375 \r\nQ 40.234375 -1.421875 26.90625 -1.421875 \r\nQ 22.3125 -1.421875 17.546875 -0.640625 \r\nQ 12.796875 0.140625 7.71875 1.703125 \r\nL 7.71875 11.625 \r\nQ 12.109375 9.234375 16.796875 8.0625 \r\nQ 21.484375 6.890625 26.703125 6.890625 \r\nQ 35.15625 6.890625 40.078125 11.328125 \r\nQ 45.015625 15.765625 45.015625 23.390625 \r\nQ 45.015625 31 40.078125 35.4375 \r\nQ 35.15625 39.890625 26.703125 39.890625 \r\nQ 22.75 39.890625 18.8125 39.015625 \r\nQ 14.890625 38.140625 10.796875 36.28125 \r\nz\r\n\" id=\"DejaVuSans-53\"/>\r\n      </defs>\r\n      <g transform=\"translate(292.498974 239.238437)scale(0.1 -0.1)\">\r\n       <use xlink:href=\"#DejaVuSans-53\"/>\r\n       <use x=\"63.623047\" xlink:href=\"#DejaVuSans-48\"/>\r\n      </g>\r\n     </g>\r\n    </g>\r\n    <g id=\"xtick_7\">\r\n     <g id=\"line2d_7\">\r\n      <g>\r\n       <use style=\"stroke:#000000;stroke-width:0.8;\" x=\"344.288882\" xlink:href=\"#mcabc1f6244\" y=\"224.64\"/>\r\n      </g>\r\n     </g>\r\n     <g id=\"text_7\">\r\n      <!-- 60 -->\r\n      <defs>\r\n       <path d=\"M 33.015625 40.375 \r\nQ 26.375 40.375 22.484375 35.828125 \r\nQ 18.609375 31.296875 18.609375 23.390625 \r\nQ 18.609375 15.53125 22.484375 10.953125 \r\nQ 26.375 6.390625 33.015625 6.390625 \r\nQ 39.65625 6.390625 43.53125 10.953125 \r\nQ 47.40625 15.53125 47.40625 23.390625 \r\nQ 47.40625 31.296875 43.53125 35.828125 \r\nQ 39.65625 40.375 33.015625 40.375 \r\nz\r\nM 52.59375 71.296875 \r\nL 52.59375 62.3125 \r\nQ 48.875 64.0625 45.09375 64.984375 \r\nQ 41.3125 65.921875 37.59375 65.921875 \r\nQ 27.828125 65.921875 22.671875 59.328125 \r\nQ 17.53125 52.734375 16.796875 39.40625 \r\nQ 19.671875 43.65625 24.015625 45.921875 \r\nQ 28.375 48.1875 33.59375 48.1875 \r\nQ 44.578125 48.1875 50.953125 41.515625 \r\nQ 57.328125 34.859375 57.328125 23.390625 \r\nQ 57.328125 12.15625 50.6875 5.359375 \r\nQ 44.046875 -1.421875 33.015625 -1.421875 \r\nQ 20.359375 -1.421875 13.671875 8.265625 \r\nQ 6.984375 17.96875 6.984375 36.375 \r\nQ 6.984375 53.65625 15.1875 63.9375 \r\nQ 23.390625 74.21875 37.203125 74.21875 \r\nQ 40.921875 74.21875 44.703125 73.484375 \r\nQ 48.484375 72.75 52.59375 71.296875 \r\nz\r\n\" id=\"DejaVuSans-54\"/>\r\n      </defs>\r\n      <g transform=\"translate(337.926382 239.238437)scale(0.1 -0.1)\">\r\n       <use xlink:href=\"#DejaVuSans-54\"/>\r\n       <use x=\"63.623047\" xlink:href=\"#DejaVuSans-48\"/>\r\n      </g>\r\n     </g>\r\n    </g>\r\n    <g id=\"xtick_8\">\r\n     <g id=\"line2d_8\">\r\n      <g>\r\n       <use style=\"stroke:#000000;stroke-width:0.8;\" x=\"389.716291\" xlink:href=\"#mcabc1f6244\" y=\"224.64\"/>\r\n      </g>\r\n     </g>\r\n     <g id=\"text_8\">\r\n      <!-- 70 -->\r\n      <defs>\r\n       <path d=\"M 8.203125 72.90625 \r\nL 55.078125 72.90625 \r\nL 55.078125 68.703125 \r\nL 28.609375 0 \r\nL 18.3125 0 \r\nL 43.21875 64.59375 \r\nL 8.203125 64.59375 \r\nz\r\n\" id=\"DejaVuSans-55\"/>\r\n      </defs>\r\n      <g transform=\"translate(383.353791 239.238437)scale(0.1 -0.1)\">\r\n       <use xlink:href=\"#DejaVuSans-55\"/>\r\n       <use x=\"63.623047\" xlink:href=\"#DejaVuSans-48\"/>\r\n      </g>\r\n     </g>\r\n    </g>\r\n    <g id=\"text_9\">\r\n     <!-- Iterations -->\r\n     <defs>\r\n      <path d=\"M 9.8125 72.90625 \r\nL 19.671875 72.90625 \r\nL 19.671875 0 \r\nL 9.8125 0 \r\nz\r\n\" id=\"DejaVuSans-73\"/>\r\n      <path d=\"M 18.3125 70.21875 \r\nL 18.3125 54.6875 \r\nL 36.8125 54.6875 \r\nL 36.8125 47.703125 \r\nL 18.3125 47.703125 \r\nL 18.3125 18.015625 \r\nQ 18.3125 11.328125 20.140625 9.421875 \r\nQ 21.96875 7.515625 27.59375 7.515625 \r\nL 36.8125 7.515625 \r\nL 36.8125 0 \r\nL 27.59375 0 \r\nQ 17.1875 0 13.234375 3.875 \r\nQ 9.28125 7.765625 9.28125 18.015625 \r\nL 9.28125 47.703125 \r\nL 2.6875 47.703125 \r\nL 2.6875 54.6875 \r\nL 9.28125 54.6875 \r\nL 9.28125 70.21875 \r\nz\r\n\" id=\"DejaVuSans-116\"/>\r\n      <path d=\"M 56.203125 29.59375 \r\nL 56.203125 25.203125 \r\nL 14.890625 25.203125 \r\nQ 15.484375 15.921875 20.484375 11.0625 \r\nQ 25.484375 6.203125 34.421875 6.203125 \r\nQ 39.59375 6.203125 44.453125 7.46875 \r\nQ 49.3125 8.734375 54.109375 11.28125 \r\nL 54.109375 2.78125 \r\nQ 49.265625 0.734375 44.1875 -0.34375 \r\nQ 39.109375 -1.421875 33.890625 -1.421875 \r\nQ 20.796875 -1.421875 13.15625 6.1875 \r\nQ 5.515625 13.8125 5.515625 26.8125 \r\nQ 5.515625 40.234375 12.765625 48.109375 \r\nQ 20.015625 56 32.328125 56 \r\nQ 43.359375 56 49.78125 48.890625 \r\nQ 56.203125 41.796875 56.203125 29.59375 \r\nz\r\nM 47.21875 32.234375 \r\nQ 47.125 39.59375 43.09375 43.984375 \r\nQ 39.0625 48.390625 32.421875 48.390625 \r\nQ 24.90625 48.390625 20.390625 44.140625 \r\nQ 15.875 39.890625 15.1875 32.171875 \r\nz\r\n\" id=\"DejaVuSans-101\"/>\r\n      <path d=\"M 41.109375 46.296875 \r\nQ 39.59375 47.171875 37.8125 47.578125 \r\nQ 36.03125 48 33.890625 48 \r\nQ 26.265625 48 22.1875 43.046875 \r\nQ 18.109375 38.09375 18.109375 28.8125 \r\nL 18.109375 0 \r\nL 9.078125 0 \r\nL 9.078125 54.6875 \r\nL 18.109375 54.6875 \r\nL 18.109375 46.1875 \r\nQ 20.953125 51.171875 25.484375 53.578125 \r\nQ 30.03125 56 36.53125 56 \r\nQ 37.453125 56 38.578125 55.875 \r\nQ 39.703125 55.765625 41.0625 55.515625 \r\nz\r\n\" id=\"DejaVuSans-114\"/>\r\n      <path d=\"M 34.28125 27.484375 \r\nQ 23.390625 27.484375 19.1875 25 \r\nQ 14.984375 22.515625 14.984375 16.5 \r\nQ 14.984375 11.71875 18.140625 8.90625 \r\nQ 21.296875 6.109375 26.703125 6.109375 \r\nQ 34.1875 6.109375 38.703125 11.40625 \r\nQ 43.21875 16.703125 43.21875 25.484375 \r\nL 43.21875 27.484375 \r\nz\r\nM 52.203125 31.203125 \r\nL 52.203125 0 \r\nL 43.21875 0 \r\nL 43.21875 8.296875 \r\nQ 40.140625 3.328125 35.546875 0.953125 \r\nQ 30.953125 -1.421875 24.3125 -1.421875 \r\nQ 15.921875 -1.421875 10.953125 3.296875 \r\nQ 6 8.015625 6 15.921875 \r\nQ 6 25.140625 12.171875 29.828125 \r\nQ 18.359375 34.515625 30.609375 34.515625 \r\nL 43.21875 34.515625 \r\nL 43.21875 35.40625 \r\nQ 43.21875 41.609375 39.140625 45 \r\nQ 35.0625 48.390625 27.6875 48.390625 \r\nQ 23 48.390625 18.546875 47.265625 \r\nQ 14.109375 46.140625 10.015625 43.890625 \r\nL 10.015625 52.203125 \r\nQ 14.9375 54.109375 19.578125 55.046875 \r\nQ 24.21875 56 28.609375 56 \r\nQ 40.484375 56 46.34375 49.84375 \r\nQ 52.203125 43.703125 52.203125 31.203125 \r\nz\r\n\" id=\"DejaVuSans-97\"/>\r\n      <path d=\"M 9.421875 54.6875 \r\nL 18.40625 54.6875 \r\nL 18.40625 0 \r\nL 9.421875 0 \r\nz\r\nM 9.421875 75.984375 \r\nL 18.40625 75.984375 \r\nL 18.40625 64.59375 \r\nL 9.421875 64.59375 \r\nz\r\n\" id=\"DejaVuSans-105\"/>\r\n      <path d=\"M 30.609375 48.390625 \r\nQ 23.390625 48.390625 19.1875 42.75 \r\nQ 14.984375 37.109375 14.984375 27.296875 \r\nQ 14.984375 17.484375 19.15625 11.84375 \r\nQ 23.34375 6.203125 30.609375 6.203125 \r\nQ 37.796875 6.203125 41.984375 11.859375 \r\nQ 46.1875 17.53125 46.1875 27.296875 \r\nQ 46.1875 37.015625 41.984375 42.703125 \r\nQ 37.796875 48.390625 30.609375 48.390625 \r\nz\r\nM 30.609375 56 \r\nQ 42.328125 56 49.015625 48.375 \r\nQ 55.71875 40.765625 55.71875 27.296875 \r\nQ 55.71875 13.875 49.015625 6.21875 \r\nQ 42.328125 -1.421875 30.609375 -1.421875 \r\nQ 18.84375 -1.421875 12.171875 6.21875 \r\nQ 5.515625 13.875 5.515625 27.296875 \r\nQ 5.515625 40.765625 12.171875 48.375 \r\nQ 18.84375 56 30.609375 56 \r\nz\r\n\" id=\"DejaVuSans-111\"/>\r\n      <path d=\"M 54.890625 33.015625 \r\nL 54.890625 0 \r\nL 45.90625 0 \r\nL 45.90625 32.71875 \r\nQ 45.90625 40.484375 42.875 44.328125 \r\nQ 39.84375 48.1875 33.796875 48.1875 \r\nQ 26.515625 48.1875 22.3125 43.546875 \r\nQ 18.109375 38.921875 18.109375 30.90625 \r\nL 18.109375 0 \r\nL 9.078125 0 \r\nL 9.078125 54.6875 \r\nL 18.109375 54.6875 \r\nL 18.109375 46.1875 \r\nQ 21.34375 51.125 25.703125 53.5625 \r\nQ 30.078125 56 35.796875 56 \r\nQ 45.21875 56 50.046875 50.171875 \r\nQ 54.890625 44.34375 54.890625 33.015625 \r\nz\r\n\" id=\"DejaVuSans-110\"/>\r\n      <path d=\"M 44.28125 53.078125 \r\nL 44.28125 44.578125 \r\nQ 40.484375 46.53125 36.375 47.5 \r\nQ 32.28125 48.484375 27.875 48.484375 \r\nQ 21.1875 48.484375 17.84375 46.4375 \r\nQ 14.5 44.390625 14.5 40.28125 \r\nQ 14.5 37.15625 16.890625 35.375 \r\nQ 19.28125 33.59375 26.515625 31.984375 \r\nL 29.59375 31.296875 \r\nQ 39.15625 29.25 43.1875 25.515625 \r\nQ 47.21875 21.78125 47.21875 15.09375 \r\nQ 47.21875 7.46875 41.1875 3.015625 \r\nQ 35.15625 -1.421875 24.609375 -1.421875 \r\nQ 20.21875 -1.421875 15.453125 -0.5625 \r\nQ 10.6875 0.296875 5.421875 2 \r\nL 5.421875 11.28125 \r\nQ 10.40625 8.6875 15.234375 7.390625 \r\nQ 20.0625 6.109375 24.8125 6.109375 \r\nQ 31.15625 6.109375 34.5625 8.28125 \r\nQ 37.984375 10.453125 37.984375 14.40625 \r\nQ 37.984375 18.0625 35.515625 20.015625 \r\nQ 33.0625 21.96875 24.703125 23.78125 \r\nL 21.578125 24.515625 \r\nQ 13.234375 26.265625 9.515625 29.90625 \r\nQ 5.8125 33.546875 5.8125 39.890625 \r\nQ 5.8125 47.609375 11.28125 51.796875 \r\nQ 16.75 56 26.8125 56 \r\nQ 31.78125 56 36.171875 55.265625 \r\nQ 40.578125 54.546875 44.28125 53.078125 \r\nz\r\n\" id=\"DejaVuSans-115\"/>\r\n     </defs>\r\n     <g transform=\"translate(200.092969 252.916562)scale(0.1 -0.1)\">\r\n      <use xlink:href=\"#DejaVuSans-73\"/>\r\n      <use x=\"29.492188\" xlink:href=\"#DejaVuSans-116\"/>\r\n      <use x=\"68.701172\" xlink:href=\"#DejaVuSans-101\"/>\r\n      <use x=\"130.224609\" xlink:href=\"#DejaVuSans-114\"/>\r\n      <use x=\"171.337891\" xlink:href=\"#DejaVuSans-97\"/>\r\n      <use x=\"232.617188\" xlink:href=\"#DejaVuSans-116\"/>\r\n      <use x=\"271.826172\" xlink:href=\"#DejaVuSans-105\"/>\r\n      <use x=\"299.609375\" xlink:href=\"#DejaVuSans-111\"/>\r\n      <use x=\"360.791016\" xlink:href=\"#DejaVuSans-110\"/>\r\n      <use x=\"424.169922\" xlink:href=\"#DejaVuSans-115\"/>\r\n     </g>\r\n    </g>\r\n   </g>\r\n   <g id=\"matplotlib.axis_2\">\r\n    <g id=\"ytick_1\">\r\n     <g id=\"line2d_9\">\r\n      <defs>\r\n       <path d=\"M 0 0 \r\nL -3.5 0 \r\n\" id=\"m9700fd2950\" style=\"stroke:#000000;stroke-width:0.8;\"/>\r\n      </defs>\r\n      <g>\r\n       <use style=\"stroke:#000000;stroke-width:0.8;\" x=\"56.50625\" xlink:href=\"#m9700fd2950\" y=\"214.756364\"/>\r\n      </g>\r\n     </g>\r\n     <g id=\"text_10\">\r\n      <!-- 0.000 -->\r\n      <defs>\r\n       <path d=\"M 10.6875 12.40625 \r\nL 21 12.40625 \r\nL 21 0 \r\nL 10.6875 0 \r\nz\r\n\" id=\"DejaVuSans-46\"/>\r\n      </defs>\r\n      <g transform=\"translate(20.878125 218.555583)scale(0.1 -0.1)\">\r\n       <use xlink:href=\"#DejaVuSans-48\"/>\r\n       <use x=\"63.623047\" xlink:href=\"#DejaVuSans-46\"/>\r\n       <use x=\"95.410156\" xlink:href=\"#DejaVuSans-48\"/>\r\n       <use x=\"159.033203\" xlink:href=\"#DejaVuSans-48\"/>\r\n       <use x=\"222.65625\" xlink:href=\"#DejaVuSans-48\"/>\r\n      </g>\r\n     </g>\r\n    </g>\r\n    <g id=\"ytick_2\">\r\n     <g id=\"line2d_10\">\r\n      <g>\r\n       <use style=\"stroke:#000000;stroke-width:0.8;\" x=\"56.50625\" xlink:href=\"#m9700fd2950\" y=\"181.180618\"/>\r\n      </g>\r\n     </g>\r\n     <g id=\"text_11\">\r\n      <!-- 0.002 -->\r\n      <g transform=\"translate(20.878125 184.979837)scale(0.1 -0.1)\">\r\n       <use xlink:href=\"#DejaVuSans-48\"/>\r\n       <use x=\"63.623047\" xlink:href=\"#DejaVuSans-46\"/>\r\n       <use x=\"95.410156\" xlink:href=\"#DejaVuSans-48\"/>\r\n       <use x=\"159.033203\" xlink:href=\"#DejaVuSans-48\"/>\r\n       <use x=\"222.65625\" xlink:href=\"#DejaVuSans-50\"/>\r\n      </g>\r\n     </g>\r\n    </g>\r\n    <g id=\"ytick_3\">\r\n     <g id=\"line2d_11\">\r\n      <g>\r\n       <use style=\"stroke:#000000;stroke-width:0.8;\" x=\"56.50625\" xlink:href=\"#m9700fd2950\" y=\"147.604872\"/>\r\n      </g>\r\n     </g>\r\n     <g id=\"text_12\">\r\n      <!-- 0.004 -->\r\n      <g transform=\"translate(20.878125 151.404091)scale(0.1 -0.1)\">\r\n       <use xlink:href=\"#DejaVuSans-48\"/>\r\n       <use x=\"63.623047\" xlink:href=\"#DejaVuSans-46\"/>\r\n       <use x=\"95.410156\" xlink:href=\"#DejaVuSans-48\"/>\r\n       <use x=\"159.033203\" xlink:href=\"#DejaVuSans-48\"/>\r\n       <use x=\"222.65625\" xlink:href=\"#DejaVuSans-52\"/>\r\n      </g>\r\n     </g>\r\n    </g>\r\n    <g id=\"ytick_4\">\r\n     <g id=\"line2d_12\">\r\n      <g>\r\n       <use style=\"stroke:#000000;stroke-width:0.8;\" x=\"56.50625\" xlink:href=\"#m9700fd2950\" y=\"114.029126\"/>\r\n      </g>\r\n     </g>\r\n     <g id=\"text_13\">\r\n      <!-- 0.006 -->\r\n      <g transform=\"translate(20.878125 117.828345)scale(0.1 -0.1)\">\r\n       <use xlink:href=\"#DejaVuSans-48\"/>\r\n       <use x=\"63.623047\" xlink:href=\"#DejaVuSans-46\"/>\r\n       <use x=\"95.410156\" xlink:href=\"#DejaVuSans-48\"/>\r\n       <use x=\"159.033203\" xlink:href=\"#DejaVuSans-48\"/>\r\n       <use x=\"222.65625\" xlink:href=\"#DejaVuSans-54\"/>\r\n      </g>\r\n     </g>\r\n    </g>\r\n    <g id=\"ytick_5\">\r\n     <g id=\"line2d_13\">\r\n      <g>\r\n       <use style=\"stroke:#000000;stroke-width:0.8;\" x=\"56.50625\" xlink:href=\"#m9700fd2950\" y=\"80.45338\"/>\r\n      </g>\r\n     </g>\r\n     <g id=\"text_14\">\r\n      <!-- 0.008 -->\r\n      <defs>\r\n       <path d=\"M 31.78125 34.625 \r\nQ 24.75 34.625 20.71875 30.859375 \r\nQ 16.703125 27.09375 16.703125 20.515625 \r\nQ 16.703125 13.921875 20.71875 10.15625 \r\nQ 24.75 6.390625 31.78125 6.390625 \r\nQ 38.8125 6.390625 42.859375 10.171875 \r\nQ 46.921875 13.96875 46.921875 20.515625 \r\nQ 46.921875 27.09375 42.890625 30.859375 \r\nQ 38.875 34.625 31.78125 34.625 \r\nz\r\nM 21.921875 38.8125 \r\nQ 15.578125 40.375 12.03125 44.71875 \r\nQ 8.5 49.078125 8.5 55.328125 \r\nQ 8.5 64.0625 14.71875 69.140625 \r\nQ 20.953125 74.21875 31.78125 74.21875 \r\nQ 42.671875 74.21875 48.875 69.140625 \r\nQ 55.078125 64.0625 55.078125 55.328125 \r\nQ 55.078125 49.078125 51.53125 44.71875 \r\nQ 48 40.375 41.703125 38.8125 \r\nQ 48.828125 37.15625 52.796875 32.3125 \r\nQ 56.78125 27.484375 56.78125 20.515625 \r\nQ 56.78125 9.90625 50.3125 4.234375 \r\nQ 43.84375 -1.421875 31.78125 -1.421875 \r\nQ 19.734375 -1.421875 13.25 4.234375 \r\nQ 6.78125 9.90625 6.78125 20.515625 \r\nQ 6.78125 27.484375 10.78125 32.3125 \r\nQ 14.796875 37.15625 21.921875 38.8125 \r\nz\r\nM 18.3125 54.390625 \r\nQ 18.3125 48.734375 21.84375 45.5625 \r\nQ 25.390625 42.390625 31.78125 42.390625 \r\nQ 38.140625 42.390625 41.71875 45.5625 \r\nQ 45.3125 48.734375 45.3125 54.390625 \r\nQ 45.3125 60.0625 41.71875 63.234375 \r\nQ 38.140625 66.40625 31.78125 66.40625 \r\nQ 25.390625 66.40625 21.84375 63.234375 \r\nQ 18.3125 60.0625 18.3125 54.390625 \r\nz\r\n\" id=\"DejaVuSans-56\"/>\r\n      </defs>\r\n      <g transform=\"translate(20.878125 84.252599)scale(0.1 -0.1)\">\r\n       <use xlink:href=\"#DejaVuSans-48\"/>\r\n       <use x=\"63.623047\" xlink:href=\"#DejaVuSans-46\"/>\r\n       <use x=\"95.410156\" xlink:href=\"#DejaVuSans-48\"/>\r\n       <use x=\"159.033203\" xlink:href=\"#DejaVuSans-48\"/>\r\n       <use x=\"222.65625\" xlink:href=\"#DejaVuSans-56\"/>\r\n      </g>\r\n     </g>\r\n    </g>\r\n    <g id=\"ytick_6\">\r\n     <g id=\"line2d_14\">\r\n      <g>\r\n       <use style=\"stroke:#000000;stroke-width:0.8;\" x=\"56.50625\" xlink:href=\"#m9700fd2950\" y=\"46.877635\"/>\r\n      </g>\r\n     </g>\r\n     <g id=\"text_15\">\r\n      <!-- 0.010 -->\r\n      <g transform=\"translate(20.878125 50.676853)scale(0.1 -0.1)\">\r\n       <use xlink:href=\"#DejaVuSans-48\"/>\r\n       <use x=\"63.623047\" xlink:href=\"#DejaVuSans-46\"/>\r\n       <use x=\"95.410156\" xlink:href=\"#DejaVuSans-48\"/>\r\n       <use x=\"159.033203\" xlink:href=\"#DejaVuSans-49\"/>\r\n       <use x=\"222.65625\" xlink:href=\"#DejaVuSans-48\"/>\r\n      </g>\r\n     </g>\r\n    </g>\r\n    <g id=\"ytick_7\">\r\n     <g id=\"line2d_15\">\r\n      <g>\r\n       <use style=\"stroke:#000000;stroke-width:0.8;\" x=\"56.50625\" xlink:href=\"#m9700fd2950\" y=\"13.301889\"/>\r\n      </g>\r\n     </g>\r\n     <g id=\"text_16\">\r\n      <!-- 0.012 -->\r\n      <g transform=\"translate(20.878125 17.101108)scale(0.1 -0.1)\">\r\n       <use xlink:href=\"#DejaVuSans-48\"/>\r\n       <use x=\"63.623047\" xlink:href=\"#DejaVuSans-46\"/>\r\n       <use x=\"95.410156\" xlink:href=\"#DejaVuSans-48\"/>\r\n       <use x=\"159.033203\" xlink:href=\"#DejaVuSans-49\"/>\r\n       <use x=\"222.65625\" xlink:href=\"#DejaVuSans-50\"/>\r\n      </g>\r\n     </g>\r\n    </g>\r\n    <g id=\"text_17\">\r\n     <!-- Cost -->\r\n     <defs>\r\n      <path d=\"M 64.40625 67.28125 \r\nL 64.40625 56.890625 \r\nQ 59.421875 61.53125 53.78125 63.8125 \r\nQ 48.140625 66.109375 41.796875 66.109375 \r\nQ 29.296875 66.109375 22.65625 58.46875 \r\nQ 16.015625 50.828125 16.015625 36.375 \r\nQ 16.015625 21.96875 22.65625 14.328125 \r\nQ 29.296875 6.6875 41.796875 6.6875 \r\nQ 48.140625 6.6875 53.78125 8.984375 \r\nQ 59.421875 11.28125 64.40625 15.921875 \r\nL 64.40625 5.609375 \r\nQ 59.234375 2.09375 53.4375 0.328125 \r\nQ 47.65625 -1.421875 41.21875 -1.421875 \r\nQ 24.65625 -1.421875 15.125 8.703125 \r\nQ 5.609375 18.84375 5.609375 36.375 \r\nQ 5.609375 53.953125 15.125 64.078125 \r\nQ 24.65625 74.21875 41.21875 74.21875 \r\nQ 47.75 74.21875 53.53125 72.484375 \r\nQ 59.328125 70.75 64.40625 67.28125 \r\nz\r\n\" id=\"DejaVuSans-67\"/>\r\n     </defs>\r\n     <g transform=\"translate(14.798438 127.035625)rotate(-90)scale(0.1 -0.1)\">\r\n      <use xlink:href=\"#DejaVuSans-67\"/>\r\n      <use x=\"69.824219\" xlink:href=\"#DejaVuSans-111\"/>\r\n      <use x=\"131.005859\" xlink:href=\"#DejaVuSans-115\"/>\r\n      <use x=\"183.105469\" xlink:href=\"#DejaVuSans-116\"/>\r\n     </g>\r\n    </g>\r\n   </g>\r\n   <g id=\"line2d_16\">\r\n    <path clip-path=\"url(#p74882a60f2)\" d=\"M 71.724432 17.083636 \r\nL 76.267173 54.307758 \r\nL 80.809914 54.961959 \r\nL 85.352654 55.327751 \r\nL 89.895395 55.996254 \r\nL 94.438136 57.243834 \r\nL 98.980877 59.577494 \r\nL 103.523618 63.917614 \r\nL 108.066359 71.968411 \r\nL 112.609099 121.729129 \r\nL 117.15184 124.96457 \r\nL 121.694581 125.947586 \r\nL 126.237322 126.898188 \r\nL 130.780063 127.000001 \r\nL 135.322804 127.009655 \r\nL 139.865544 127.01359 \r\nL 144.408285 127.020884 \r\nL 148.951026 127.034628 \r\nL 153.493767 127.060518 \r\nL 158.036508 127.108753 \r\nL 162.579249 127.196622 \r\nL 167.121989 127.350728 \r\nL 171.66473 127.605894 \r\nL 176.207471 128.000029 \r\nL 180.750212 128.507784 \r\nL 185.292953 128.963599 \r\nL 189.835694 129.182289 \r\nL 194.378435 129.300791 \r\nL 198.921175 129.311478 \r\nL 203.463916 129.316829 \r\nL 208.006657 129.323191 \r\nL 212.549398 129.335232 \r\nL 217.092139 129.427201 \r\nL 221.63488 129.585263 \r\nL 226.17762 151.47621 \r\nL 230.720361 151.527874 \r\nL 235.263102 157.642217 \r\nL 239.805843 160.472669 \r\nL 244.348584 162.899923 \r\nL 248.891325 165.183248 \r\nL 253.434065 167.113653 \r\nL 257.976806 170.671351 \r\nL 262.519547 176.712559 \r\nL 267.062288 185.210572 \r\nL 271.605029 191.028499 \r\nL 276.14777 192.1971 \r\nL 280.690511 194.098825 \r\nL 285.233251 196.839611 \r\nL 289.775992 197.807072 \r\nL 294.318733 199.220449 \r\nL 298.861474 201.180365 \r\nL 303.404215 201.932292 \r\nL 307.946956 202.972461 \r\nL 312.489696 204.348268 \r\nL 317.032437 204.894865 \r\nL 321.575178 205.695432 \r\nL 326.117919 206.974051 \r\nL 330.66066 208.046702 \r\nL 335.203401 209.506844 \r\nL 339.746141 211.467875 \r\nL 344.288882 212.58678 \r\nL 348.831623 213.994065 \r\nL 353.374364 214.475455 \r\nL 357.917105 214.671177 \r\nL 362.459846 214.720615 \r\nL 367.002586 214.755491 \r\nL 371.545327 214.756314 \r\nL 376.088068 214.756364 \r\n\" style=\"fill:none;stroke:#1f77b4;stroke-linecap:square;stroke-width:1.5;\"/>\r\n   </g>\r\n   <g id=\"patch_3\">\r\n    <path d=\"M 56.50625 224.64 \r\nL 56.50625 7.2 \r\n\" style=\"fill:none;stroke:#000000;stroke-linecap:square;stroke-linejoin:miter;stroke-width:0.8;\"/>\r\n   </g>\r\n   <g id=\"patch_4\">\r\n    <path d=\"M 391.30625 224.64 \r\nL 391.30625 7.2 \r\n\" style=\"fill:none;stroke:#000000;stroke-linecap:square;stroke-linejoin:miter;stroke-width:0.8;\"/>\r\n   </g>\r\n   <g id=\"patch_5\">\r\n    <path d=\"M 56.50625 224.64 \r\nL 391.30625 224.64 \r\n\" style=\"fill:none;stroke:#000000;stroke-linecap:square;stroke-linejoin:miter;stroke-width:0.8;\"/>\r\n   </g>\r\n   <g id=\"patch_6\">\r\n    <path d=\"M 56.50625 7.2 \r\nL 391.30625 7.2 \r\n\" style=\"fill:none;stroke:#000000;stroke-linecap:square;stroke-linejoin:miter;stroke-width:0.8;\"/>\r\n   </g>\r\n  </g>\r\n </g>\r\n <defs>\r\n  <clipPath id=\"p74882a60f2\">\r\n   <rect height=\"217.44\" width=\"334.8\" x=\"56.50625\" y=\"7.2\"/>\r\n  </clipPath>\r\n </defs>\r\n</svg>\r\n",
      "image/png": "[encoded data removed]"
     },
     "metadata": {
      "needs_background": "light"
     }
    }
   ],
   "source": [
    "import matplotlib.pyplot as plt\n",
    "plt.plot(T.J)\n",
    "plt.xlabel('Iterations')\n",
    "plt.ylabel('Cost')\n",
    "plt.show()     "
   ]
  },
  {
   "cell_type": "code",
   "execution_count": 57,
   "metadata": {},
   "outputs": [
    {
     "output_type": "execute_result",
     "data": {
      "text/plain": "array([  5.16456077,  -0.03674459,   3.00438558,   5.36301234,\n        -0.59655712,  11.40960462,   3.55532273, -18.62989525,\n         5.15439424])"
     },
     "metadata": {},
     "execution_count": 57
    }
   ],
   "source": [
    "NN.getParams()"
   ]
  },
  {
   "cell_type": "markdown",
   "metadata": {},
   "source": [
    "## Challenge\n",
    "\n",
    "This is a reference implementation for you to explore. You will not be expected to apply it to today's module project. "
   ]
  },
  {
   "cell_type": "code",
   "execution_count": 33,
   "metadata": {},
   "outputs": [
    {
     "output_type": "execute_result",
     "data": {
      "text/plain": "'2.2.0'"
     },
     "metadata": {},
     "execution_count": 33
    }
   ],
   "source": [
    "import tensorflow as tf\n",
    "tf.__version__"
   ]
  },
  {
   "cell_type": "code",
   "execution_count": 34,
   "metadata": {},
   "outputs": [],
   "source": [
    "#y = 2*hours_studying + 4*hours_sleeping + 50\n",
    "import numpy as np\n",
    "from tensorflow.keras.models import Sequential\n",
    "from tensorflow.keras.layers import Dense"
   ]
  },
  {
   "cell_type": "code",
   "execution_count": 35,
   "metadata": {},
   "outputs": [],
   "source": [
    "def make_samples(n=1000):\n",
    "    \n",
    "    study = np.random.uniform(1,5,(n,1))\n",
    "    sleep = np.random.uniform(1,6,(n,1))\n",
    "    \n",
    "    y = 2*study + 4*sleep + 50\n",
    "    \n",
    "    X = np.append(study, sleep, axis=1)\n",
    "    \n",
    "    X = X / np.amax(X, axis=0)\n",
    "    y = y / 100\n",
    "    \n",
    "    return X,y"
   ]
  },
  {
   "cell_type": "code",
   "execution_count": 36,
   "metadata": {},
   "outputs": [],
   "source": [
    "X,y = make_samples()"
   ]
  },
  {
   "cell_type": "code",
   "execution_count": 37,
   "metadata": {},
   "outputs": [
    {
     "output_type": "execute_result",
     "data": {
      "text/plain": "array([0.70063648, 0.4498957 ])"
     },
     "metadata": {},
     "execution_count": 37
    }
   ],
   "source": [
    "X[0]"
   ]
  },
  {
   "cell_type": "code",
   "execution_count": 38,
   "metadata": {},
   "outputs": [],
   "source": [
    "# model = Sequential()\n",
    "# model.add(Dense(....))\n",
    "# model.add(Dense(1))"
   ]
  },
  {
   "cell_type": "code",
   "execution_count": 39,
   "metadata": {},
   "outputs": [
    {
     "output_type": "stream",
     "name": "stdout",
     "text": "Epoch 1/100\n32/32 [==============================] - 0s 655us/step - loss: 0.0418 - mae: 0.1940 - mse: 0.0418\nEpoch 2/100\n32/32 [==============================] - 0s 748us/step - loss: 0.0373 - mae: 0.1818 - mse: 0.0373\nEpoch 3/100\n32/32 [==============================] - 0s 779us/step - loss: 0.0333 - mae: 0.1706 - mse: 0.0333\nEpoch 4/100\n32/32 [==============================] - 0s 841us/step - loss: 0.0298 - mae: 0.1600 - mse: 0.0298\nEpoch 5/100\n32/32 [==============================] - 0s 842us/step - loss: 0.0268 - mae: 0.1503 - mse: 0.0268\nEpoch 6/100\n32/32 [==============================] - 0s 811us/step - loss: 0.0241 - mae: 0.1412 - mse: 0.0241\nEpoch 7/100\n32/32 [==============================] - 0s 685us/step - loss: 0.0218 - mae: 0.1327 - mse: 0.0218\nEpoch 8/100\n32/32 [==============================] - 0s 904us/step - loss: 0.0198 - mae: 0.1250 - mse: 0.0198\nEpoch 9/100\n32/32 [==============================] - 0s 748us/step - loss: 0.0180 - mae: 0.1179 - mse: 0.0180\nEpoch 10/100\n32/32 [==============================] - 0s 779us/step - loss: 0.0164 - mae: 0.1115 - mse: 0.0164\nEpoch 11/100\n32/32 [==============================] - 0s 779us/step - loss: 0.0150 - mae: 0.1058 - mse: 0.0150\nEpoch 12/100\n32/32 [==============================] - 0s 904us/step - loss: 0.0138 - mae: 0.1006 - mse: 0.0138\nEpoch 13/100\n32/32 [==============================] - 0s 779us/step - loss: 0.0128 - mae: 0.0959 - mse: 0.0128\nEpoch 14/100\n32/32 [==============================] - 0s 686us/step - loss: 0.0118 - mae: 0.0917 - mse: 0.0118\nEpoch 15/100\n32/32 [==============================] - 0s 779us/step - loss: 0.0110 - mae: 0.0879 - mse: 0.0110\nEpoch 16/100\n32/32 [==============================] - 0s 747us/step - loss: 0.0102 - mae: 0.0845 - mse: 0.0102\nEpoch 17/100\n 1/32 [..............................] - ETA: 0s - loss: 0.0114 - mae: 0.0861 - mse: 0.01132/32 [==============================] - 0s 779us/step - loss: 0.0096 - mae: 0.0814 - mse: 0.0096\nEpoch 18/100\n32/32 [==============================] - 0s 810us/step - loss: 0.0090 - mae: 0.0787 - mse: 0.0090\nEpoch 19/100\n32/32 [==============================] - 0s 748us/step - loss: 0.0085 - mae: 0.0763 - mse: 0.0085\nEpoch 20/100\n32/32 [==============================] - 0s 904us/step - loss: 0.0080 - mae: 0.0740 - mse: 0.0080\nEpoch 21/100\n32/32 [==============================] - 0s 748us/step - loss: 0.0076 - mae: 0.0721 - mse: 0.0076\nEpoch 22/100\n32/32 [==============================] - 0s 872us/step - loss: 0.0073 - mae: 0.0703 - mse: 0.0073\nEpoch 23/100\n32/32 [==============================] - 0s 810us/step - loss: 0.0070 - mae: 0.0687 - mse: 0.0070\nEpoch 24/100\n32/32 [==============================] - 0s 873us/step - loss: 0.0067 - mae: 0.0672 - mse: 0.0067\nEpoch 25/100\n32/32 [==============================] - 0s 717us/step - loss: 0.0064 - mae: 0.0659 - mse: 0.0064\nEpoch 26/100\n32/32 [==============================] - 0s 779us/step - loss: 0.0062 - mae: 0.0648 - mse: 0.0062\nEpoch 27/100\n32/32 [==============================] - 0s 718us/step - loss: 0.0060 - mae: 0.0637 - mse: 0.0060\nEpoch 28/100\n32/32 [==============================] - 0s 748us/step - loss: 0.0058 - mae: 0.0628 - mse: 0.0058\nEpoch 29/100\n32/32 [==============================] - 0s 748us/step - loss: 0.0056 - mae: 0.0620 - mse: 0.0056\nEpoch 30/100\n32/32 [==============================] - 0s 873us/step - loss: 0.0055 - mae: 0.0611 - mse: 0.0055\nEpoch 31/100\n32/32 [==============================] - 0s 779us/step - loss: 0.0054 - mae: 0.0605 - mse: 0.0054\nEpoch 32/100\n32/32 [==============================] - 0s 811us/step - loss: 0.0052 - mae: 0.0599 - mse: 0.0052\nEpoch 33/100\n32/32 [==============================] - 0s 966us/step - loss: 0.0051 - mae: 0.0594 - mse: 0.0051\nEpoch 34/100\n32/32 [==============================] - 0s 1ms/step - loss: 0.0050 - mae: 0.0589 - mse: 0.0050\nEpoch 35/100\n32/32 [==============================] - 0s 874us/step - loss: 0.0050 - mae: 0.0585 - mse: 0.0050\nEpoch 36/100\n32/32 [==============================] - 0s 686us/step - loss: 0.0049 - mae: 0.0581 - mse: 0.0049\nEpoch 37/100\n32/32 [==============================] - 0s 810us/step - loss: 0.0048 - mae: 0.0577 - mse: 0.0048\nEpoch 38/100\n32/32 [==============================] - 0s 780us/step - loss: 0.0047 - mae: 0.0574 - mse: 0.0047\nEpoch 39/100\n32/32 [==============================] - 0s 748us/step - loss: 0.0047 - mae: 0.0571 - mse: 0.0047\nEpoch 40/100\n32/32 [==============================] - 0s 779us/step - loss: 0.0046 - mae: 0.0568 - mse: 0.0046\nEpoch 41/100\n32/32 [==============================] - 0s 810us/step - loss: 0.0046 - mae: 0.0566 - mse: 0.0046\nEpoch 42/100\n32/32 [==============================] - 0s 779us/step - loss: 0.0045 - mae: 0.0563 - mse: 0.0045\nEpoch 43/100\n32/32 [==============================] - 0s 1ms/step - loss: 0.0045 - mae: 0.0561 - mse: 0.0045\nEpoch 44/100\n32/32 [==============================] - 0s 1ms/step - loss: 0.0045 - mae: 0.0559 - mse: 0.0045\nEpoch 45/100\n32/32 [==============================] - 0s 1ms/step - loss: 0.0044 - mae: 0.0558 - mse: 0.0044\nEpoch 46/100\n32/32 [==============================] - 0s 1ms/step - loss: 0.0044 - mae: 0.0556 - mse: 0.0044\nEpoch 47/100\n32/32 [==============================] - 0s 873us/step - loss: 0.0044 - mae: 0.0555 - mse: 0.0044\nEpoch 48/100\n32/32 [==============================] - 0s 748us/step - loss: 0.0044 - mae: 0.0553 - mse: 0.0044\nEpoch 49/100\n32/32 [==============================] - 0s 841us/step - loss: 0.0043 - mae: 0.0552 - mse: 0.0043\nEpoch 50/100\n32/32 [==============================] - 0s 810us/step - loss: 0.0043 - mae: 0.0551 - mse: 0.0043\nEpoch 51/100\n32/32 [==============================] - 0s 1ms/step - loss: 0.0043 - mae: 0.0550 - mse: 0.0043\nEpoch 52/100\n32/32 [==============================] - 0s 1ms/step - loss: 0.0043 - mae: 0.0549 - mse: 0.0043\nEpoch 53/100\n32/32 [==============================] - 0s 873us/step - loss: 0.0043 - mae: 0.0548 - mse: 0.0043\nEpoch 54/100\n32/32 [==============================] - 0s 778us/step - loss: 0.0043 - mae: 0.0548 - mse: 0.0043\nEpoch 55/100\n32/32 [==============================] - 0s 842us/step - loss: 0.0042 - mae: 0.0547 - mse: 0.0042\nEpoch 56/100\n32/32 [==============================] - 0s 748us/step - loss: 0.0042 - mae: 0.0546 - mse: 0.0042\nEpoch 57/100\n32/32 [==============================] - 0s 748us/step - loss: 0.0042 - mae: 0.0546 - mse: 0.0042\nEpoch 58/100\n32/32 [==============================] - 0s 748us/step - loss: 0.0042 - mae: 0.0545 - mse: 0.0042\nEpoch 59/100\n32/32 [==============================] - 0s 717us/step - loss: 0.0042 - mae: 0.0545 - mse: 0.0042\nEpoch 60/100\n32/32 [==============================] - 0s 716us/step - loss: 0.0042 - mae: 0.0544 - mse: 0.0042\nEpoch 61/100\n32/32 [==============================] - 0s 717us/step - loss: 0.0042 - mae: 0.0544 - mse: 0.0042\nEpoch 62/100\n32/32 [==============================] - 0s 748us/step - loss: 0.0042 - mae: 0.0543 - mse: 0.0042\nEpoch 63/100\n32/32 [==============================] - 0s 748us/step - loss: 0.0042 - mae: 0.0543 - mse: 0.0042\nEpoch 64/100\n32/32 [==============================] - 0s 717us/step - loss: 0.0042 - mae: 0.0543 - mse: 0.0042\nEpoch 65/100\n32/32 [==============================] - 0s 811us/step - loss: 0.0042 - mae: 0.0542 - mse: 0.0042\nEpoch 66/100\n32/32 [==============================] - 0s 717us/step - loss: 0.0042 - mae: 0.0542 - mse: 0.0042\nEpoch 67/100\n32/32 [==============================] - 0s 810us/step - loss: 0.0042 - mae: 0.0542 - mse: 0.0042\nEpoch 68/100\n32/32 [==============================] - 0s 717us/step - loss: 0.0042 - mae: 0.0542 - mse: 0.0042\nEpoch 69/100\n32/32 [==============================] - 0s 748us/step - loss: 0.0041 - mae: 0.0541 - mse: 0.0041\nEpoch 70/100\n32/32 [==============================] - 0s 842us/step - loss: 0.0041 - mae: 0.0541 - mse: 0.0041\nEpoch 71/100\n32/32 [==============================] - 0s 841us/step - loss: 0.0041 - mae: 0.0541 - mse: 0.0041\nEpoch 72/100\n32/32 [==============================] - 0s 1ms/step - loss: 0.0041 - mae: 0.0541 - mse: 0.0041\nEpoch 73/100\n32/32 [==============================] - 0s 1ms/step - loss: 0.0041 - mae: 0.0541 - mse: 0.0041\nEpoch 74/100\n32/32 [==============================] - 0s 1ms/step - loss: 0.0041 - mae: 0.0540 - mse: 0.0041\nEpoch 75/100\n32/32 [==============================] - 0s 1ms/step - loss: 0.0041 - mae: 0.0540 - mse: 0.0041\nEpoch 76/100\n32/32 [==============================] - 0s 685us/step - loss: 0.0041 - mae: 0.0540 - mse: 0.0041\nEpoch 77/100\n32/32 [==============================] - 0s 686us/step - loss: 0.0041 - mae: 0.0540 - mse: 0.0041\nEpoch 78/100\n32/32 [==============================] - 0s 873us/step - loss: 0.0041 - mae: 0.0540 - mse: 0.0041\nEpoch 79/100\n32/32 [==============================] - 0s 810us/step - loss: 0.0041 - mae: 0.0540 - mse: 0.0041\nEpoch 80/100\n32/32 [==============================] - 0s 1ms/step - loss: 0.0041 - mae: 0.0540 - mse: 0.0041\nEpoch 81/100\n32/32 [==============================] - 0s 997us/step - loss: 0.0041 - mae: 0.0540 - mse: 0.0041\nEpoch 82/100\n32/32 [==============================] - 0s 748us/step - loss: 0.0041 - mae: 0.0539 - mse: 0.0041\nEpoch 83/100\n32/32 [==============================] - 0s 716us/step - loss: 0.0041 - mae: 0.0539 - mse: 0.0041\nEpoch 84/100\n32/32 [==============================] - 0s 904us/step - loss: 0.0041 - mae: 0.0539 - mse: 0.0041\nEpoch 85/100\n32/32 [==============================] - 0s 778us/step - loss: 0.0041 - mae: 0.0539 - mse: 0.0041\nEpoch 86/100\n32/32 [==============================] - 0s 810us/step - loss: 0.0041 - mae: 0.0539 - mse: 0.0041\nEpoch 87/100\n32/32 [==============================] - 0s 935us/step - loss: 0.0041 - mae: 0.0539 - mse: 0.0041\nEpoch 88/100\n32/32 [==============================] - 0s 873us/step - loss: 0.0041 - mae: 0.0539 - mse: 0.0041\nEpoch 89/100\n32/32 [==============================] - 0s 810us/step - loss: 0.0041 - mae: 0.0539 - mse: 0.0041\nEpoch 90/100\n32/32 [==============================] - 0s 841us/step - loss: 0.0041 - mae: 0.0539 - mse: 0.0041\nEpoch 91/100\n32/32 [==============================] - 0s 779us/step - loss: 0.0041 - mae: 0.0539 - mse: 0.0041\nEpoch 92/100\n32/32 [==============================] - 0s 717us/step - loss: 0.0041 - mae: 0.0538 - mse: 0.0041\nEpoch 93/100\n32/32 [==============================] - 0s 748us/step - loss: 0.0041 - mae: 0.0538 - mse: 0.0041\nEpoch 94/100\n32/32 [==============================] - 0s 810us/step - loss: 0.0041 - mae: 0.0538 - mse: 0.0041\nEpoch 95/100\n32/32 [==============================] - 0s 717us/step - loss: 0.0041 - mae: 0.0538 - mse: 0.0041\nEpoch 96/100\n32/32 [==============================] - 0s 686us/step - loss: 0.0041 - mae: 0.0538 - mse: 0.0041\nEpoch 97/100\n32/32 [==============================] - 0s 873us/step - loss: 0.0041 - mae: 0.0538 - mse: 0.0041\nEpoch 98/100\n32/32 [==============================] - 0s 842us/step - loss: 0.0041 - mae: 0.0538 - mse: 0.0041\nEpoch 99/100\n32/32 [==============================] - 0s 779us/step - loss: 0.0041 - mae: 0.0538 - mse: 0.0041\nEpoch 100/100\n32/32 [==============================] - 0s 966us/step - loss: 0.0041 - mae: 0.0538 - mse: 0.0041\n"
    }
   ],
   "source": [
    "model = Sequential([\n",
    "    Dense(3, activation='sigmoid', input_dim=2),\n",
    "    Dense(1, activation='sigmoid')\n",
    "])\n",
    "\n",
    "model.compile(optimizer='sgd', loss='mse', metrics=['mae', 'mse'])\n",
    "\n",
    "results = model.fit(X, y, epochs=100)"
   ]
  },
  {
   "cell_type": "code",
   "execution_count": 40,
   "metadata": {},
   "outputs": [],
   "source": [
    "import seaborn as sns"
   ]
  },
  {
   "cell_type": "code",
   "execution_count": 41,
   "metadata": {},
   "outputs": [
    {
     "output_type": "execute_result",
     "data": {
      "text/plain": "dict_keys(['loss', 'mae', 'mse'])"
     },
     "metadata": {},
     "execution_count": 41
    }
   ],
   "source": [
    "results.history.keys()"
   ]
  },
  {
   "cell_type": "code",
   "execution_count": 42,
   "metadata": {},
   "outputs": [],
   "source": [
    "epochs = [i for i in range(100)]"
   ]
  },
  {
   "cell_type": "code",
   "execution_count": 43,
   "metadata": {},
   "outputs": [
    {
     "output_type": "execute_result",
     "data": {
      "text/plain": "100"
     },
     "metadata": {},
     "execution_count": 43
    }
   ],
   "source": [
    "len(epochs)"
   ]
  },
  {
   "cell_type": "code",
   "execution_count": 44,
   "metadata": {},
   "outputs": [
    {
     "output_type": "execute_result",
     "data": {
      "text/plain": "[<matplotlib.lines.Line2D at 0x2c679733320>]"
     },
     "metadata": {},
     "execution_count": 44
    },
    {
     "output_type": "display_data",
     "data": {
      "text/plain": "<Figure size 432x288 with 1 Axes>",
      "image/svg+xml": "<?xml version=\"1.0\" encoding=\"utf-8\" standalone=\"no\"?>\r\n<!DOCTYPE svg PUBLIC \"-//W3C//DTD SVG 1.1//EN\"\r\n  \"http://www.w3.org/Graphics/SVG/1.1/DTD/svg11.dtd\">\r\n<!-- Created with matplotlib (https://matplotlib.org/) -->\r\n<svg height=\"248.518125pt\" version=\"1.1\" viewBox=\"0 0 384.828125 248.518125\" width=\"384.828125pt\" xmlns=\"http://www.w3.org/2000/svg\" xmlns:xlink=\"http://www.w3.org/1999/xlink\">\r\n <defs>\r\n  <style type=\"text/css\">\r\n*{stroke-linecap:butt;stroke-linejoin:round;}\r\n  </style>\r\n </defs>\r\n <g id=\"figure_1\">\r\n  <g id=\"patch_1\">\r\n   <path d=\"M 0 248.518125 \r\nL 384.828125 248.518125 \r\nL 384.828125 0 \r\nL 0 0 \r\nz\r\n\" style=\"fill:none;\"/>\r\n  </g>\r\n  <g id=\"axes_1\">\r\n   <g id=\"patch_2\">\r\n    <path d=\"M 42.828125 224.64 \r\nL 377.628125 224.64 \r\nL 377.628125 7.2 \r\nL 42.828125 7.2 \r\nz\r\n\" style=\"fill:#ffffff;\"/>\r\n   </g>\r\n   <g id=\"matplotlib.axis_1\">\r\n    <g id=\"xtick_1\">\r\n     <g id=\"line2d_1\">\r\n      <defs>\r\n       <path d=\"M 0 0 \r\nL 0 3.5 \r\n\" id=\"mcfae4d22ef\" style=\"stroke:#000000;stroke-width:0.8;\"/>\r\n      </defs>\r\n      <g>\r\n       <use style=\"stroke:#000000;stroke-width:0.8;\" x=\"58.046307\" xlink:href=\"#mcfae4d22ef\" y=\"224.64\"/>\r\n      </g>\r\n     </g>\r\n     <g id=\"text_1\">\r\n      <!-- 0 -->\r\n      <defs>\r\n       <path d=\"M 31.78125 66.40625 \r\nQ 24.171875 66.40625 20.328125 58.90625 \r\nQ 16.5 51.421875 16.5 36.375 \r\nQ 16.5 21.390625 20.328125 13.890625 \r\nQ 24.171875 6.390625 31.78125 6.390625 \r\nQ 39.453125 6.390625 43.28125 13.890625 \r\nQ 47.125 21.390625 47.125 36.375 \r\nQ 47.125 51.421875 43.28125 58.90625 \r\nQ 39.453125 66.40625 31.78125 66.40625 \r\nz\r\nM 31.78125 74.21875 \r\nQ 44.046875 74.21875 50.515625 64.515625 \r\nQ 56.984375 54.828125 56.984375 36.375 \r\nQ 56.984375 17.96875 50.515625 8.265625 \r\nQ 44.046875 -1.421875 31.78125 -1.421875 \r\nQ 19.53125 -1.421875 13.0625 8.265625 \r\nQ 6.59375 17.96875 6.59375 36.375 \r\nQ 6.59375 54.828125 13.0625 64.515625 \r\nQ 19.53125 74.21875 31.78125 74.21875 \r\nz\r\n\" id=\"DejaVuSans-48\"/>\r\n      </defs>\r\n      <g transform=\"translate(54.865057 239.238438)scale(0.1 -0.1)\">\r\n       <use xlink:href=\"#DejaVuSans-48\"/>\r\n      </g>\r\n     </g>\r\n    </g>\r\n    <g id=\"xtick_2\">\r\n     <g id=\"line2d_2\">\r\n      <g>\r\n       <use style=\"stroke:#000000;stroke-width:0.8;\" x=\"119.53391\" xlink:href=\"#mcfae4d22ef\" y=\"224.64\"/>\r\n      </g>\r\n     </g>\r\n     <g id=\"text_2\">\r\n      <!-- 20 -->\r\n      <defs>\r\n       <path d=\"M 19.1875 8.296875 \r\nL 53.609375 8.296875 \r\nL 53.609375 0 \r\nL 7.328125 0 \r\nL 7.328125 8.296875 \r\nQ 12.9375 14.109375 22.625 23.890625 \r\nQ 32.328125 33.6875 34.8125 36.53125 \r\nQ 39.546875 41.84375 41.421875 45.53125 \r\nQ 43.3125 49.21875 43.3125 52.78125 \r\nQ 43.3125 58.59375 39.234375 62.25 \r\nQ 35.15625 65.921875 28.609375 65.921875 \r\nQ 23.96875 65.921875 18.8125 64.3125 \r\nQ 13.671875 62.703125 7.8125 59.421875 \r\nL 7.8125 69.390625 \r\nQ 13.765625 71.78125 18.9375 73 \r\nQ 24.125 74.21875 28.421875 74.21875 \r\nQ 39.75 74.21875 46.484375 68.546875 \r\nQ 53.21875 62.890625 53.21875 53.421875 \r\nQ 53.21875 48.921875 51.53125 44.890625 \r\nQ 49.859375 40.875 45.40625 35.40625 \r\nQ 44.1875 33.984375 37.640625 27.21875 \r\nQ 31.109375 20.453125 19.1875 8.296875 \r\nz\r\n\" id=\"DejaVuSans-50\"/>\r\n      </defs>\r\n      <g transform=\"translate(113.17141 239.238438)scale(0.1 -0.1)\">\r\n       <use xlink:href=\"#DejaVuSans-50\"/>\r\n       <use x=\"63.623047\" xlink:href=\"#DejaVuSans-48\"/>\r\n      </g>\r\n     </g>\r\n    </g>\r\n    <g id=\"xtick_3\">\r\n     <g id=\"line2d_3\">\r\n      <g>\r\n       <use style=\"stroke:#000000;stroke-width:0.8;\" x=\"181.021513\" xlink:href=\"#mcfae4d22ef\" y=\"224.64\"/>\r\n      </g>\r\n     </g>\r\n     <g id=\"text_3\">\r\n      <!-- 40 -->\r\n      <defs>\r\n       <path d=\"M 37.796875 64.3125 \r\nL 12.890625 25.390625 \r\nL 37.796875 25.390625 \r\nz\r\nM 35.203125 72.90625 \r\nL 47.609375 72.90625 \r\nL 47.609375 25.390625 \r\nL 58.015625 25.390625 \r\nL 58.015625 17.1875 \r\nL 47.609375 17.1875 \r\nL 47.609375 0 \r\nL 37.796875 0 \r\nL 37.796875 17.1875 \r\nL 4.890625 17.1875 \r\nL 4.890625 26.703125 \r\nz\r\n\" id=\"DejaVuSans-52\"/>\r\n      </defs>\r\n      <g transform=\"translate(174.659013 239.238438)scale(0.1 -0.1)\">\r\n       <use xlink:href=\"#DejaVuSans-52\"/>\r\n       <use x=\"63.623047\" xlink:href=\"#DejaVuSans-48\"/>\r\n      </g>\r\n     </g>\r\n    </g>\r\n    <g id=\"xtick_4\">\r\n     <g id=\"line2d_4\">\r\n      <g>\r\n       <use style=\"stroke:#000000;stroke-width:0.8;\" x=\"242.509117\" xlink:href=\"#mcfae4d22ef\" y=\"224.64\"/>\r\n      </g>\r\n     </g>\r\n     <g id=\"text_4\">\r\n      <!-- 60 -->\r\n      <defs>\r\n       <path d=\"M 33.015625 40.375 \r\nQ 26.375 40.375 22.484375 35.828125 \r\nQ 18.609375 31.296875 18.609375 23.390625 \r\nQ 18.609375 15.53125 22.484375 10.953125 \r\nQ 26.375 6.390625 33.015625 6.390625 \r\nQ 39.65625 6.390625 43.53125 10.953125 \r\nQ 47.40625 15.53125 47.40625 23.390625 \r\nQ 47.40625 31.296875 43.53125 35.828125 \r\nQ 39.65625 40.375 33.015625 40.375 \r\nz\r\nM 52.59375 71.296875 \r\nL 52.59375 62.3125 \r\nQ 48.875 64.0625 45.09375 64.984375 \r\nQ 41.3125 65.921875 37.59375 65.921875 \r\nQ 27.828125 65.921875 22.671875 59.328125 \r\nQ 17.53125 52.734375 16.796875 39.40625 \r\nQ 19.671875 43.65625 24.015625 45.921875 \r\nQ 28.375 48.1875 33.59375 48.1875 \r\nQ 44.578125 48.1875 50.953125 41.515625 \r\nQ 57.328125 34.859375 57.328125 23.390625 \r\nQ 57.328125 12.15625 50.6875 5.359375 \r\nQ 44.046875 -1.421875 33.015625 -1.421875 \r\nQ 20.359375 -1.421875 13.671875 8.265625 \r\nQ 6.984375 17.96875 6.984375 36.375 \r\nQ 6.984375 53.65625 15.1875 63.9375 \r\nQ 23.390625 74.21875 37.203125 74.21875 \r\nQ 40.921875 74.21875 44.703125 73.484375 \r\nQ 48.484375 72.75 52.59375 71.296875 \r\nz\r\n\" id=\"DejaVuSans-54\"/>\r\n      </defs>\r\n      <g transform=\"translate(236.146617 239.238438)scale(0.1 -0.1)\">\r\n       <use xlink:href=\"#DejaVuSans-54\"/>\r\n       <use x=\"63.623047\" xlink:href=\"#DejaVuSans-48\"/>\r\n      </g>\r\n     </g>\r\n    </g>\r\n    <g id=\"xtick_5\">\r\n     <g id=\"line2d_5\">\r\n      <g>\r\n       <use style=\"stroke:#000000;stroke-width:0.8;\" x=\"303.99672\" xlink:href=\"#mcfae4d22ef\" y=\"224.64\"/>\r\n      </g>\r\n     </g>\r\n     <g id=\"text_5\">\r\n      <!-- 80 -->\r\n      <defs>\r\n       <path d=\"M 31.78125 34.625 \r\nQ 24.75 34.625 20.71875 30.859375 \r\nQ 16.703125 27.09375 16.703125 20.515625 \r\nQ 16.703125 13.921875 20.71875 10.15625 \r\nQ 24.75 6.390625 31.78125 6.390625 \r\nQ 38.8125 6.390625 42.859375 10.171875 \r\nQ 46.921875 13.96875 46.921875 20.515625 \r\nQ 46.921875 27.09375 42.890625 30.859375 \r\nQ 38.875 34.625 31.78125 34.625 \r\nz\r\nM 21.921875 38.8125 \r\nQ 15.578125 40.375 12.03125 44.71875 \r\nQ 8.5 49.078125 8.5 55.328125 \r\nQ 8.5 64.0625 14.71875 69.140625 \r\nQ 20.953125 74.21875 31.78125 74.21875 \r\nQ 42.671875 74.21875 48.875 69.140625 \r\nQ 55.078125 64.0625 55.078125 55.328125 \r\nQ 55.078125 49.078125 51.53125 44.71875 \r\nQ 48 40.375 41.703125 38.8125 \r\nQ 48.828125 37.15625 52.796875 32.3125 \r\nQ 56.78125 27.484375 56.78125 20.515625 \r\nQ 56.78125 9.90625 50.3125 4.234375 \r\nQ 43.84375 -1.421875 31.78125 -1.421875 \r\nQ 19.734375 -1.421875 13.25 4.234375 \r\nQ 6.78125 9.90625 6.78125 20.515625 \r\nQ 6.78125 27.484375 10.78125 32.3125 \r\nQ 14.796875 37.15625 21.921875 38.8125 \r\nz\r\nM 18.3125 54.390625 \r\nQ 18.3125 48.734375 21.84375 45.5625 \r\nQ 25.390625 42.390625 31.78125 42.390625 \r\nQ 38.140625 42.390625 41.71875 45.5625 \r\nQ 45.3125 48.734375 45.3125 54.390625 \r\nQ 45.3125 60.0625 41.71875 63.234375 \r\nQ 38.140625 66.40625 31.78125 66.40625 \r\nQ 25.390625 66.40625 21.84375 63.234375 \r\nQ 18.3125 60.0625 18.3125 54.390625 \r\nz\r\n\" id=\"DejaVuSans-56\"/>\r\n      </defs>\r\n      <g transform=\"translate(297.63422 239.238438)scale(0.1 -0.1)\">\r\n       <use xlink:href=\"#DejaVuSans-56\"/>\r\n       <use x=\"63.623047\" xlink:href=\"#DejaVuSans-48\"/>\r\n      </g>\r\n     </g>\r\n    </g>\r\n    <g id=\"xtick_6\">\r\n     <g id=\"line2d_6\">\r\n      <g>\r\n       <use style=\"stroke:#000000;stroke-width:0.8;\" x=\"365.484323\" xlink:href=\"#mcfae4d22ef\" y=\"224.64\"/>\r\n      </g>\r\n     </g>\r\n     <g id=\"text_6\">\r\n      <!-- 100 -->\r\n      <defs>\r\n       <path d=\"M 12.40625 8.296875 \r\nL 28.515625 8.296875 \r\nL 28.515625 63.921875 \r\nL 10.984375 60.40625 \r\nL 10.984375 69.390625 \r\nL 28.421875 72.90625 \r\nL 38.28125 72.90625 \r\nL 38.28125 8.296875 \r\nL 54.390625 8.296875 \r\nL 54.390625 0 \r\nL 12.40625 0 \r\nz\r\n\" id=\"DejaVuSans-49\"/>\r\n      </defs>\r\n      <g transform=\"translate(355.940573 239.238438)scale(0.1 -0.1)\">\r\n       <use xlink:href=\"#DejaVuSans-49\"/>\r\n       <use x=\"63.623047\" xlink:href=\"#DejaVuSans-48\"/>\r\n       <use x=\"127.246094\" xlink:href=\"#DejaVuSans-48\"/>\r\n      </g>\r\n     </g>\r\n    </g>\r\n   </g>\r\n   <g id=\"matplotlib.axis_2\">\r\n    <g id=\"ytick_1\">\r\n     <g id=\"line2d_7\">\r\n      <defs>\r\n       <path d=\"M 0 0 \r\nL -3.5 0 \r\n\" id=\"mb382e260c8\" style=\"stroke:#000000;stroke-width:0.8;\"/>\r\n      </defs>\r\n      <g>\r\n       <use style=\"stroke:#000000;stroke-width:0.8;\" x=\"42.828125\" xlink:href=\"#mb382e260c8\" y=\"209.97247\"/>\r\n      </g>\r\n     </g>\r\n     <g id=\"text_7\">\r\n      <!-- 0.005 -->\r\n      <defs>\r\n       <path d=\"M 10.6875 12.40625 \r\nL 21 12.40625 \r\nL 21 0 \r\nL 10.6875 0 \r\nz\r\n\" id=\"DejaVuSans-46\"/>\r\n       <path d=\"M 10.796875 72.90625 \r\nL 49.515625 72.90625 \r\nL 49.515625 64.59375 \r\nL 19.828125 64.59375 \r\nL 19.828125 46.734375 \r\nQ 21.96875 47.46875 24.109375 47.828125 \r\nQ 26.265625 48.1875 28.421875 48.1875 \r\nQ 40.625 48.1875 47.75 41.5 \r\nQ 54.890625 34.8125 54.890625 23.390625 \r\nQ 54.890625 11.625 47.5625 5.09375 \r\nQ 40.234375 -1.421875 26.90625 -1.421875 \r\nQ 22.3125 -1.421875 17.546875 -0.640625 \r\nQ 12.796875 0.140625 7.71875 1.703125 \r\nL 7.71875 11.625 \r\nQ 12.109375 9.234375 16.796875 8.0625 \r\nQ 21.484375 6.890625 26.703125 6.890625 \r\nQ 35.15625 6.890625 40.078125 11.328125 \r\nQ 45.015625 15.765625 45.015625 23.390625 \r\nQ 45.015625 31 40.078125 35.4375 \r\nQ 35.15625 39.890625 26.703125 39.890625 \r\nQ 22.75 39.890625 18.8125 39.015625 \r\nQ 14.890625 38.140625 10.796875 36.28125 \r\nz\r\n\" id=\"DejaVuSans-53\"/>\r\n      </defs>\r\n      <g transform=\"translate(7.2 213.771689)scale(0.1 -0.1)\">\r\n       <use xlink:href=\"#DejaVuSans-48\"/>\r\n       <use x=\"63.623047\" xlink:href=\"#DejaVuSans-46\"/>\r\n       <use x=\"95.410156\" xlink:href=\"#DejaVuSans-48\"/>\r\n       <use x=\"159.033203\" xlink:href=\"#DejaVuSans-48\"/>\r\n       <use x=\"222.65625\" xlink:href=\"#DejaVuSans-53\"/>\r\n      </g>\r\n     </g>\r\n    </g>\r\n    <g id=\"ytick_2\">\r\n     <g id=\"line2d_8\">\r\n      <g>\r\n       <use style=\"stroke:#000000;stroke-width:0.8;\" x=\"42.828125\" xlink:href=\"#mb382e260c8\" y=\"183.784257\"/>\r\n      </g>\r\n     </g>\r\n     <g id=\"text_8\">\r\n      <!-- 0.010 -->\r\n      <g transform=\"translate(7.2 187.583476)scale(0.1 -0.1)\">\r\n       <use xlink:href=\"#DejaVuSans-48\"/>\r\n       <use x=\"63.623047\" xlink:href=\"#DejaVuSans-46\"/>\r\n       <use x=\"95.410156\" xlink:href=\"#DejaVuSans-48\"/>\r\n       <use x=\"159.033203\" xlink:href=\"#DejaVuSans-49\"/>\r\n       <use x=\"222.65625\" xlink:href=\"#DejaVuSans-48\"/>\r\n      </g>\r\n     </g>\r\n    </g>\r\n    <g id=\"ytick_3\">\r\n     <g id=\"line2d_9\">\r\n      <g>\r\n       <use style=\"stroke:#000000;stroke-width:0.8;\" x=\"42.828125\" xlink:href=\"#mb382e260c8\" y=\"157.596044\"/>\r\n      </g>\r\n     </g>\r\n     <g id=\"text_9\">\r\n      <!-- 0.015 -->\r\n      <g transform=\"translate(7.2 161.395263)scale(0.1 -0.1)\">\r\n       <use xlink:href=\"#DejaVuSans-48\"/>\r\n       <use x=\"63.623047\" xlink:href=\"#DejaVuSans-46\"/>\r\n       <use x=\"95.410156\" xlink:href=\"#DejaVuSans-48\"/>\r\n       <use x=\"159.033203\" xlink:href=\"#DejaVuSans-49\"/>\r\n       <use x=\"222.65625\" xlink:href=\"#DejaVuSans-53\"/>\r\n      </g>\r\n     </g>\r\n    </g>\r\n    <g id=\"ytick_4\">\r\n     <g id=\"line2d_10\">\r\n      <g>\r\n       <use style=\"stroke:#000000;stroke-width:0.8;\" x=\"42.828125\" xlink:href=\"#mb382e260c8\" y=\"131.407831\"/>\r\n      </g>\r\n     </g>\r\n     <g id=\"text_10\">\r\n      <!-- 0.020 -->\r\n      <g transform=\"translate(7.2 135.20705)scale(0.1 -0.1)\">\r\n       <use xlink:href=\"#DejaVuSans-48\"/>\r\n       <use x=\"63.623047\" xlink:href=\"#DejaVuSans-46\"/>\r\n       <use x=\"95.410156\" xlink:href=\"#DejaVuSans-48\"/>\r\n       <use x=\"159.033203\" xlink:href=\"#DejaVuSans-50\"/>\r\n       <use x=\"222.65625\" xlink:href=\"#DejaVuSans-48\"/>\r\n      </g>\r\n     </g>\r\n    </g>\r\n    <g id=\"ytick_5\">\r\n     <g id=\"line2d_11\">\r\n      <g>\r\n       <use style=\"stroke:#000000;stroke-width:0.8;\" x=\"42.828125\" xlink:href=\"#mb382e260c8\" y=\"105.219618\"/>\r\n      </g>\r\n     </g>\r\n     <g id=\"text_11\">\r\n      <!-- 0.025 -->\r\n      <g transform=\"translate(7.2 109.018837)scale(0.1 -0.1)\">\r\n       <use xlink:href=\"#DejaVuSans-48\"/>\r\n       <use x=\"63.623047\" xlink:href=\"#DejaVuSans-46\"/>\r\n       <use x=\"95.410156\" xlink:href=\"#DejaVuSans-48\"/>\r\n       <use x=\"159.033203\" xlink:href=\"#DejaVuSans-50\"/>\r\n       <use x=\"222.65625\" xlink:href=\"#DejaVuSans-53\"/>\r\n      </g>\r\n     </g>\r\n    </g>\r\n    <g id=\"ytick_6\">\r\n     <g id=\"line2d_12\">\r\n      <g>\r\n       <use style=\"stroke:#000000;stroke-width:0.8;\" x=\"42.828125\" xlink:href=\"#mb382e260c8\" y=\"79.031405\"/>\r\n      </g>\r\n     </g>\r\n     <g id=\"text_12\">\r\n      <!-- 0.030 -->\r\n      <defs>\r\n       <path d=\"M 40.578125 39.3125 \r\nQ 47.65625 37.796875 51.625 33 \r\nQ 55.609375 28.21875 55.609375 21.1875 \r\nQ 55.609375 10.40625 48.1875 4.484375 \r\nQ 40.765625 -1.421875 27.09375 -1.421875 \r\nQ 22.515625 -1.421875 17.65625 -0.515625 \r\nQ 12.796875 0.390625 7.625 2.203125 \r\nL 7.625 11.71875 \r\nQ 11.71875 9.328125 16.59375 8.109375 \r\nQ 21.484375 6.890625 26.8125 6.890625 \r\nQ 36.078125 6.890625 40.9375 10.546875 \r\nQ 45.796875 14.203125 45.796875 21.1875 \r\nQ 45.796875 27.640625 41.28125 31.265625 \r\nQ 36.765625 34.90625 28.71875 34.90625 \r\nL 20.21875 34.90625 \r\nL 20.21875 43.015625 \r\nL 29.109375 43.015625 \r\nQ 36.375 43.015625 40.234375 45.921875 \r\nQ 44.09375 48.828125 44.09375 54.296875 \r\nQ 44.09375 59.90625 40.109375 62.90625 \r\nQ 36.140625 65.921875 28.71875 65.921875 \r\nQ 24.65625 65.921875 20.015625 65.03125 \r\nQ 15.375 64.15625 9.8125 62.3125 \r\nL 9.8125 71.09375 \r\nQ 15.4375 72.65625 20.34375 73.4375 \r\nQ 25.25 74.21875 29.59375 74.21875 \r\nQ 40.828125 74.21875 47.359375 69.109375 \r\nQ 53.90625 64.015625 53.90625 55.328125 \r\nQ 53.90625 49.265625 50.4375 45.09375 \r\nQ 46.96875 40.921875 40.578125 39.3125 \r\nz\r\n\" id=\"DejaVuSans-51\"/>\r\n      </defs>\r\n      <g transform=\"translate(7.2 82.830624)scale(0.1 -0.1)\">\r\n       <use xlink:href=\"#DejaVuSans-48\"/>\r\n       <use x=\"63.623047\" xlink:href=\"#DejaVuSans-46\"/>\r\n       <use x=\"95.410156\" xlink:href=\"#DejaVuSans-48\"/>\r\n       <use x=\"159.033203\" xlink:href=\"#DejaVuSans-51\"/>\r\n       <use x=\"222.65625\" xlink:href=\"#DejaVuSans-48\"/>\r\n      </g>\r\n     </g>\r\n    </g>\r\n    <g id=\"ytick_7\">\r\n     <g id=\"line2d_13\">\r\n      <g>\r\n       <use style=\"stroke:#000000;stroke-width:0.8;\" x=\"42.828125\" xlink:href=\"#mb382e260c8\" y=\"52.843192\"/>\r\n      </g>\r\n     </g>\r\n     <g id=\"text_13\">\r\n      <!-- 0.035 -->\r\n      <g transform=\"translate(7.2 56.642411)scale(0.1 -0.1)\">\r\n       <use xlink:href=\"#DejaVuSans-48\"/>\r\n       <use x=\"63.623047\" xlink:href=\"#DejaVuSans-46\"/>\r\n       <use x=\"95.410156\" xlink:href=\"#DejaVuSans-48\"/>\r\n       <use x=\"159.033203\" xlink:href=\"#DejaVuSans-51\"/>\r\n       <use x=\"222.65625\" xlink:href=\"#DejaVuSans-53\"/>\r\n      </g>\r\n     </g>\r\n    </g>\r\n    <g id=\"ytick_8\">\r\n     <g id=\"line2d_14\">\r\n      <g>\r\n       <use style=\"stroke:#000000;stroke-width:0.8;\" x=\"42.828125\" xlink:href=\"#mb382e260c8\" y=\"26.654979\"/>\r\n      </g>\r\n     </g>\r\n     <g id=\"text_14\">\r\n      <!-- 0.040 -->\r\n      <g transform=\"translate(7.2 30.454198)scale(0.1 -0.1)\">\r\n       <use xlink:href=\"#DejaVuSans-48\"/>\r\n       <use x=\"63.623047\" xlink:href=\"#DejaVuSans-46\"/>\r\n       <use x=\"95.410156\" xlink:href=\"#DejaVuSans-48\"/>\r\n       <use x=\"159.033203\" xlink:href=\"#DejaVuSans-52\"/>\r\n       <use x=\"222.65625\" xlink:href=\"#DejaVuSans-48\"/>\r\n      </g>\r\n     </g>\r\n    </g>\r\n   </g>\r\n   <g id=\"line2d_15\">\r\n    <path clip-path=\"url(#paf357c210d)\" d=\"M 58.046307 17.083636 \r\nL 61.120687 40.806711 \r\nL 64.195067 61.668702 \r\nL 67.269447 79.852511 \r\nL 70.343827 95.761203 \r\nL 73.418208 109.712282 \r\nL 76.492588 121.906094 \r\nL 79.566968 132.597513 \r\nL 82.641348 141.991859 \r\nL 85.715728 150.200848 \r\nL 88.790108 157.383456 \r\nL 91.864489 163.722083 \r\nL 94.938869 169.309133 \r\nL 98.013249 174.238345 \r\nL 101.087629 178.591994 \r\nL 104.162009 182.488381 \r\nL 107.236389 185.933774 \r\nL 110.31077 188.952313 \r\nL 113.38515 191.631743 \r\nL 116.45953 194.028111 \r\nL 119.53391 196.138016 \r\nL 122.60829 198.016145 \r\nL 125.68267 199.724612 \r\nL 128.757051 201.202027 \r\nL 131.831431 202.556761 \r\nL 134.905811 203.744321 \r\nL 137.980191 204.817647 \r\nL 141.054571 205.771888 \r\nL 144.128951 206.62788 \r\nL 147.203332 207.41992 \r\nL 150.277712 208.113704 \r\nL 153.352092 208.729646 \r\nL 156.426472 209.268555 \r\nL 159.500852 209.771524 \r\nL 162.575232 210.221896 \r\nL 165.649613 210.625616 \r\nL 168.723993 210.986061 \r\nL 171.798373 211.318861 \r\nL 174.872753 211.619905 \r\nL 177.947133 211.898672 \r\nL 181.021513 212.151227 \r\nL 184.095894 212.379339 \r\nL 187.170274 212.575541 \r\nL 190.244654 212.752301 \r\nL 193.319034 212.915533 \r\nL 196.393414 213.067818 \r\nL 199.467794 213.195427 \r\nL 202.542175 213.313336 \r\nL 205.616555 213.426095 \r\nL 208.690935 213.532297 \r\nL 211.765315 213.625788 \r\nL 214.839695 213.714712 \r\nL 217.914075 213.788335 \r\nL 220.988456 213.857858 \r\nL 224.062836 213.925537 \r\nL 227.137216 213.981301 \r\nL 230.211596 214.035871 \r\nL 233.285976 214.087333 \r\nL 236.360356 214.130293 \r\nL 239.434737 214.172158 \r\nL 242.509117 214.209815 \r\nL 245.583497 214.248556 \r\nL 248.657877 214.282541 \r\nL 251.732257 214.312372 \r\nL 254.806637 214.341337 \r\nL 257.881018 214.370275 \r\nL 260.955398 214.394028 \r\nL 264.029778 214.420015 \r\nL 267.104158 214.439571 \r\nL 270.178538 214.459988 \r\nL 273.252918 214.478329 \r\nL 276.327299 214.496931 \r\nL 279.401679 214.513899 \r\nL 282.476059 214.529157 \r\nL 285.550439 214.542805 \r\nL 288.624819 214.555888 \r\nL 291.699199 214.568739 \r\nL 294.77358 214.580873 \r\nL 297.84796 214.591953 \r\nL 300.92234 214.603994 \r\nL 303.99672 214.614538 \r\nL 307.0711 214.624389 \r\nL 310.14548 214.634252 \r\nL 313.219861 214.642403 \r\nL 316.294241 214.651608 \r\nL 319.368621 214.66011 \r\nL 322.443001 214.667507 \r\nL 325.517381 214.67497 \r\nL 328.591761 214.681739 \r\nL 331.666142 214.689673 \r\nL 334.740522 214.697085 \r\nL 337.814902 214.704289 \r\nL 340.889282 214.711418 \r\nL 343.963662 214.71816 \r\nL 347.038042 214.725442 \r\nL 350.112423 214.731245 \r\nL 353.186803 214.737657 \r\nL 356.261183 214.743552 \r\nL 359.335563 214.750359 \r\nL 362.409943 214.756364 \r\n\" style=\"fill:none;stroke:#1f77b4;stroke-linecap:square;stroke-width:1.5;\"/>\r\n   </g>\r\n   <g id=\"patch_3\">\r\n    <path d=\"M 42.828125 224.64 \r\nL 42.828125 7.2 \r\n\" style=\"fill:none;stroke:#000000;stroke-linecap:square;stroke-linejoin:miter;stroke-width:0.8;\"/>\r\n   </g>\r\n   <g id=\"patch_4\">\r\n    <path d=\"M 377.628125 224.64 \r\nL 377.628125 7.2 \r\n\" style=\"fill:none;stroke:#000000;stroke-linecap:square;stroke-linejoin:miter;stroke-width:0.8;\"/>\r\n   </g>\r\n   <g id=\"patch_5\">\r\n    <path d=\"M 42.828125 224.64 \r\nL 377.628125 224.64 \r\n\" style=\"fill:none;stroke:#000000;stroke-linecap:square;stroke-linejoin:miter;stroke-width:0.8;\"/>\r\n   </g>\r\n   <g id=\"patch_6\">\r\n    <path d=\"M 42.828125 7.2 \r\nL 377.628125 7.2 \r\n\" style=\"fill:none;stroke:#000000;stroke-linecap:square;stroke-linejoin:miter;stroke-width:0.8;\"/>\r\n   </g>\r\n  </g>\r\n </g>\r\n <defs>\r\n  <clipPath id=\"paf357c210d\">\r\n   <rect height=\"217.44\" width=\"334.8\" x=\"42.828125\" y=\"7.2\"/>\r\n  </clipPath>\r\n </defs>\r\n</svg>\r\n",
      "image/png": "[encoded data removed]"
     },
     "metadata": {
      "needs_background": "light"
     }
    }
   ],
   "source": [
    "plt.plot(results.history['loss'])"
   ]
  },
  {
   "cell_type": "markdown",
   "metadata": {},
   "source": [
    "## Fashion MNIST Example with Tensorflow\n",
    "\n",
    "In this section, we will experiment with a very simple fashion classifier. \n",
    "\n",
    "It uses a data set called \"fashion mnist\", a set of small b&w images of apparel."
   ]
  },
  {
   "cell_type": "code",
   "execution_count": 45,
   "metadata": {},
   "outputs": [
    {
     "output_type": "stream",
     "name": "stdout",
     "text": "Downloading data from https://storage.googleapis.com/tensorflow/tf-keras-datasets/train-labels-idx1-ubyte.gz\n32768/29515 [=================================] - 0s 1us/step\nDownloading data from https://storage.googleapis.com/tensorflow/tf-keras-datasets/train-images-idx3-ubyte.gz\n26427392/26421880 [==============================] - 1s 0us/step\nDownloading data from https://storage.googleapis.com/tensorflow/tf-keras-datasets/t10k-labels-idx1-ubyte.gz\n8192/5148 [===============================================] - 0s 0us/step\nDownloading data from https://storage.googleapis.com/tensorflow/tf-keras-datasets/t10k-images-idx3-ubyte.gz\n4423680/4422102 [==============================] - 0s 0us/step\n(60000, 28, 28) (10000, 28, 28)\n"
    }
   ],
   "source": [
    "from tensorflow.keras.datasets import fashion_mnist\n",
    "\n",
    "# Load data\n",
    "(X_train, y_train), (X_test, y_test) = fashion_mnist.load_data()\n",
    "print(X_train.shape, X_test.shape)"
   ]
  },
  {
   "cell_type": "code",
   "execution_count": 46,
   "metadata": {},
   "outputs": [],
   "source": [
    "# Normalize inputs to be between 0 and 1\n",
    "X_train = X_train / 255.\n",
    "X_test = X_test / 255."
   ]
  },
  {
   "cell_type": "markdown",
   "metadata": {},
   "source": [
    "Let's take a look at the first few images"
   ]
  },
  {
   "cell_type": "code",
   "execution_count": 47,
   "metadata": {},
   "outputs": [
    {
     "output_type": "display_data",
     "data": {
      "text/plain": "<Figure size 432x288 with 9 Axes>",
      "image/svg+xml": "<?xml version=\"1.0\" encoding=\"utf-8\" standalone=\"no\"?>\r\n<!DOCTYPE svg PUBLIC \"-//W3C//DTD SVG 1.1//EN\"\r\n  \"http://www.w3.org/Graphics/SVG/1.1/DTD/svg11.dtd\">\r\n<!-- Created with matplotlib (https://matplotlib.org/) -->\r\n<svg height=\"231.84pt\" version=\"1.1\" viewBox=\"0 0 314.682353 231.84\" width=\"314.682353pt\" xmlns=\"http://www.w3.org/2000/svg\" xmlns:xlink=\"http://www.w3.org/1999/xlink\">\r\n <defs>\r\n  <style type=\"text/css\">\r\n*{stroke-linecap:butt;stroke-linejoin:round;}\r\n  </style>\r\n </defs>\r\n <g id=\"figure_1\">\r\n  <g id=\"patch_1\">\r\n   <path d=\"M 0 231.84 \r\nL 314.682353 231.84 \r\nL 314.682353 0 \r\nL 0 0 \r\nz\r\n\" style=\"fill:none;\"/>\r\n  </g>\r\n  <g id=\"axes_1\">\r\n   <g clip-path=\"url(#pb32c0e3a49)\">\r\n    <image height=\"64\" id=\"imagedad2cb0eb0\" transform=\"scale(1 -1)translate(0 -64)\" width=\"64\" x=\"7.2\" xlink:href=\"data:image/png;base64,\r\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\" y=\"-7.152941\"/>\r\n   </g>\r\n  </g>\r\n  <g id=\"axes_2\">\r\n   <g clip-path=\"url(#pe65854db0d)\">\r\n    <image height=\"64\" id=\"image8b39aea2fb\" transform=\"scale(1 -1)translate(0 -64)\" width=\"64\" x=\"125.364706\" xlink:href=\"data:image/png;base64,\r\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\" y=\"-7.152941\"/>\r\n   </g>\r\n  </g>\r\n  <g id=\"axes_3\">\r\n   <g clip-path=\"url(#pd885ea721f)\">\r\n    <image height=\"64\" id=\"image7bdd7e2057\" transform=\"scale(1 -1)translate(0 -64)\" width=\"64\" x=\"243.529412\" xlink:href=\"data:image/png;base64,\r\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\" y=\"-7.152941\"/>\r\n   </g>\r\n  </g>\r\n  <g id=\"axes_4\">\r\n   <g clip-path=\"url(#pf027ab8d49)\">\r\n    <image height=\"64\" id=\"image6ccd126ae5\" transform=\"scale(1 -1)translate(0 -64)\" width=\"64\" x=\"7.2\" xlink:href=\"data:image/png;base64,\r\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\" y=\"-83.896471\"/>\r\n   </g>\r\n  </g>\r\n  <g id=\"axes_5\">\r\n   <g clip-path=\"url(#pa8558d2ec0)\">\r\n    <image height=\"64\" id=\"imagea7d66077e4\" transform=\"scale(1 -1)translate(0 -64)\" width=\"64\" x=\"125.364706\" xlink:href=\"data:image/png;base64,\r\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\" y=\"-83.896471\"/>\r\n   </g>\r\n  </g>\r\n  <g id=\"axes_6\">\r\n   <g clip-path=\"url(#pec403a1d83)\">\r\n    <image height=\"64\" id=\"image25134cdb8b\" transform=\"scale(1 -1)translate(0 -64)\" width=\"64\" x=\"243.529412\" xlink:href=\"data:image/png;base64,\r\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\" y=\"-83.896471\"/>\r\n   </g>\r\n  </g>\r\n  <g id=\"axes_7\">\r\n   <g clip-path=\"url(#p9668f483db)\">\r\n    <image height=\"64\" id=\"imagebaf31704e9\" transform=\"scale(1 -1)translate(0 -64)\" width=\"64\" x=\"7.2\" xlink:href=\"data:image/png;base64,\r\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\" y=\"-160.64\"/>\r\n   </g>\r\n  </g>\r\n  <g id=\"axes_8\">\r\n   <g clip-path=\"url(#pc96b57c53e)\">\r\n    <image height=\"64\" id=\"image8f27ecc35e\" transform=\"scale(1 -1)translate(0 -64)\" width=\"64\" x=\"125.364706\" xlink:href=\"data:image/png;base64,\r\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\" y=\"-160.64\"/>\r\n   </g>\r\n  </g>\r\n  <g id=\"axes_9\">\r\n   <g clip-path=\"url(#pecf7aa68ad)\">\r\n    <image height=\"64\" id=\"imagebf568c2854\" transform=\"scale(1 -1)translate(0 -64)\" width=\"64\" x=\"243.529412\" xlink:href=\"data:image/png;base64,\r\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\" y=\"-160.64\"/>\r\n   </g>\r\n  </g>\r\n </g>\r\n <defs>\r\n  <clipPath id=\"pb32c0e3a49\">\r\n   <rect height=\"63.952941\" width=\"63.952941\" x=\"7.2\" y=\"7.2\"/>\r\n  </clipPath>\r\n  <clipPath id=\"pe65854db0d\">\r\n   <rect height=\"63.952941\" width=\"63.952941\" x=\"125.364706\" y=\"7.2\"/>\r\n  </clipPath>\r\n  <clipPath id=\"pd885ea721f\">\r\n   <rect height=\"63.952941\" width=\"63.952941\" x=\"243.529412\" y=\"7.2\"/>\r\n  </clipPath>\r\n  <clipPath id=\"pf027ab8d49\">\r\n   <rect height=\"63.952941\" width=\"63.952941\" x=\"7.2\" y=\"83.943529\"/>\r\n  </clipPath>\r\n  <clipPath id=\"pa8558d2ec0\">\r\n   <rect height=\"63.952941\" width=\"63.952941\" x=\"125.364706\" y=\"83.943529\"/>\r\n  </clipPath>\r\n  <clipPath id=\"pec403a1d83\">\r\n   <rect height=\"63.952941\" width=\"63.952941\" x=\"243.529412\" y=\"83.943529\"/>\r\n  </clipPath>\r\n  <clipPath id=\"p9668f483db\">\r\n   <rect height=\"63.952941\" width=\"63.952941\" x=\"7.2\" y=\"160.687059\"/>\r\n  </clipPath>\r\n  <clipPath id=\"pc96b57c53e\">\r\n   <rect height=\"63.952941\" width=\"63.952941\" x=\"125.364706\" y=\"160.687059\"/>\r\n  </clipPath>\r\n  <clipPath id=\"pecf7aa68ad\">\r\n   <rect height=\"63.952941\" width=\"63.952941\" x=\"243.529412\" y=\"160.687059\"/>\r\n  </clipPath>\r\n </defs>\r\n</svg>\r\n",
      "image/png": "[encoded data removed]"
     },
     "metadata": {
      "needs_background": "light"
     }
    }
   ],
   "source": [
    "import matplotlib.pyplot as plt\n",
    "\n",
    "for i in range(9):\n",
    "    # Define subplot\n",
    "    plt.subplot(330 + 1 + i)\n",
    "    \n",
    "    # Plot raw pixel data\n",
    "    plt.imshow(X_train[i], cmap=plt.get_cmap('gray'))\n",
    "    plt.axis('off')\n",
    "\n",
    "# Show the figure\n",
    "plt.show()"
   ]
  },
  {
   "cell_type": "code",
   "execution_count": 48,
   "metadata": {},
   "outputs": [
    {
     "output_type": "execute_result",
     "data": {
      "text/plain": "array([0, 1, 2, 3, 4, 5, 6, 7, 8, 9], dtype=uint8)"
     },
     "metadata": {},
     "execution_count": 48
    }
   ],
   "source": [
    "# How many unique classes do we have?\n",
    "np.unique(y_train)"
   ]
  },
  {
   "cell_type": "code",
   "execution_count": 49,
   "metadata": {},
   "outputs": [
    {
     "output_type": "execute_result",
     "data": {
      "text/plain": "array([[0.        , 0.        , 0.        , 0.        , 0.        ,\n        0.        , 0.        , 0.        , 0.        , 0.        ,\n        0.        , 0.        , 0.        , 0.        , 0.        ,\n        0.        , 0.        , 0.        , 0.        , 0.        ,\n        0.        , 0.        , 0.        , 0.        , 0.        ,\n        0.        , 0.        , 0.        ],\n       [0.        , 0.        , 0.        , 0.        , 0.        ,\n        0.        , 0.        , 0.        , 0.        , 0.        ,\n        0.        , 0.        , 0.        , 0.        , 0.        ,\n        0.        , 0.        , 0.        , 0.        , 0.        ,\n        0.        , 0.        , 0.        , 0.        , 0.        ,\n        0.        , 0.        , 0.        ],\n       [0.        , 0.        , 0.        , 0.        , 0.        ,\n        0.        , 0.        , 0.        , 0.        , 0.        ,\n        0.        , 0.        , 0.        , 0.        , 0.        ,\n        0.        , 0.        , 0.        , 0.        , 0.        ,\n        0.        , 0.        , 0.        , 0.        , 0.        ,\n        0.        , 0.        , 0.        ],\n       [0.        , 0.        , 0.        , 0.        , 0.        ,\n        0.        , 0.        , 0.        , 0.        , 0.        ,\n        0.        , 0.        , 0.00392157, 0.        , 0.        ,\n        0.05098039, 0.28627451, 0.        , 0.        , 0.00392157,\n        0.01568627, 0.        , 0.        , 0.        , 0.        ,\n        0.00392157, 0.00392157, 0.        ],\n       [0.        , 0.        , 0.        , 0.        , 0.        ,\n        0.        , 0.        , 0.        , 0.        , 0.        ,\n        0.        , 0.        , 0.01176471, 0.        , 0.14117647,\n        0.53333333, 0.49803922, 0.24313725, 0.21176471, 0.        ,\n        0.        , 0.        , 0.00392157, 0.01176471, 0.01568627,\n        0.        , 0.        , 0.01176471],\n       [0.        , 0.        , 0.        , 0.        , 0.        ,\n        0.        , 0.        , 0.        , 0.        , 0.        ,\n        0.        , 0.        , 0.02352941, 0.        , 0.4       ,\n        0.8       , 0.69019608, 0.5254902 , 0.56470588, 0.48235294,\n        0.09019608, 0.        , 0.        , 0.        , 0.        ,\n        0.04705882, 0.03921569, 0.        ],\n       [0.        , 0.        , 0.        , 0.        , 0.        ,\n        0.        , 0.        , 0.        , 0.        , 0.        ,\n        0.        , 0.        , 0.        , 0.        , 0.60784314,\n        0.9254902 , 0.81176471, 0.69803922, 0.41960784, 0.61176471,\n        0.63137255, 0.42745098, 0.25098039, 0.09019608, 0.30196078,\n        0.50980392, 0.28235294, 0.05882353],\n       [0.        , 0.        , 0.        , 0.        , 0.        ,\n        0.        , 0.        , 0.        , 0.        , 0.        ,\n        0.        , 0.00392157, 0.        , 0.27058824, 0.81176471,\n        0.8745098 , 0.85490196, 0.84705882, 0.84705882, 0.63921569,\n        0.49803922, 0.4745098 , 0.47843137, 0.57254902, 0.55294118,\n        0.34509804, 0.6745098 , 0.25882353],\n       [0.        , 0.        , 0.        , 0.        , 0.        ,\n        0.        , 0.        , 0.        , 0.        , 0.00392157,\n        0.00392157, 0.00392157, 0.        , 0.78431373, 0.90980392,\n        0.90980392, 0.91372549, 0.89803922, 0.8745098 , 0.8745098 ,\n        0.84313725, 0.83529412, 0.64313725, 0.49803922, 0.48235294,\n        0.76862745, 0.89803922, 0.        ],\n       [0.        , 0.        , 0.        , 0.        , 0.        ,\n        0.        , 0.        , 0.        , 0.        , 0.        ,\n        0.        , 0.        , 0.        , 0.71764706, 0.88235294,\n        0.84705882, 0.8745098 , 0.89411765, 0.92156863, 0.89019608,\n        0.87843137, 0.87058824, 0.87843137, 0.86666667, 0.8745098 ,\n        0.96078431, 0.67843137, 0.        ],\n       [0.        , 0.        , 0.        , 0.        , 0.        ,\n        0.        , 0.        , 0.        , 0.        , 0.        ,\n        0.        , 0.        , 0.        , 0.75686275, 0.89411765,\n        0.85490196, 0.83529412, 0.77647059, 0.70588235, 0.83137255,\n        0.82352941, 0.82745098, 0.83529412, 0.8745098 , 0.8627451 ,\n        0.95294118, 0.79215686, 0.        ],\n       [0.        , 0.        , 0.        , 0.        , 0.        ,\n        0.        , 0.        , 0.        , 0.        , 0.00392157,\n        0.01176471, 0.        , 0.04705882, 0.85882353, 0.8627451 ,\n        0.83137255, 0.85490196, 0.75294118, 0.6627451 , 0.89019608,\n        0.81568627, 0.85490196, 0.87843137, 0.83137255, 0.88627451,\n        0.77254902, 0.81960784, 0.20392157],\n       [0.        , 0.        , 0.        , 0.        , 0.        ,\n        0.        , 0.        , 0.        , 0.        , 0.        ,\n        0.02352941, 0.        , 0.38823529, 0.95686275, 0.87058824,\n        0.8627451 , 0.85490196, 0.79607843, 0.77647059, 0.86666667,\n        0.84313725, 0.83529412, 0.87058824, 0.8627451 , 0.96078431,\n        0.46666667, 0.65490196, 0.21960784],\n       [0.        , 0.        , 0.        , 0.        , 0.        ,\n        0.        , 0.        , 0.        , 0.        , 0.01568627,\n        0.        , 0.        , 0.21568627, 0.9254902 , 0.89411765,\n        0.90196078, 0.89411765, 0.94117647, 0.90980392, 0.83529412,\n        0.85490196, 0.8745098 , 0.91764706, 0.85098039, 0.85098039,\n        0.81960784, 0.36078431, 0.        ],\n       [0.        , 0.        , 0.00392157, 0.01568627, 0.02352941,\n        0.02745098, 0.00784314, 0.        , 0.        , 0.        ,\n        0.        , 0.        , 0.92941176, 0.88627451, 0.85098039,\n        0.8745098 , 0.87058824, 0.85882353, 0.87058824, 0.86666667,\n        0.84705882, 0.8745098 , 0.89803922, 0.84313725, 0.85490196,\n        1.        , 0.30196078, 0.        ],\n       [0.        , 0.01176471, 0.        , 0.        , 0.        ,\n        0.        , 0.        , 0.        , 0.        , 0.24313725,\n        0.56862745, 0.8       , 0.89411765, 0.81176471, 0.83529412,\n        0.86666667, 0.85490196, 0.81568627, 0.82745098, 0.85490196,\n        0.87843137, 0.8745098 , 0.85882353, 0.84313725, 0.87843137,\n        0.95686275, 0.62352941, 0.        ],\n       [0.        , 0.        , 0.        , 0.        , 0.07058824,\n        0.17254902, 0.32156863, 0.41960784, 0.74117647, 0.89411765,\n        0.8627451 , 0.87058824, 0.85098039, 0.88627451, 0.78431373,\n        0.80392157, 0.82745098, 0.90196078, 0.87843137, 0.91764706,\n        0.69019608, 0.7372549 , 0.98039216, 0.97254902, 0.91372549,\n        0.93333333, 0.84313725, 0.        ],\n       [0.        , 0.22352941, 0.73333333, 0.81568627, 0.87843137,\n        0.86666667, 0.87843137, 0.81568627, 0.8       , 0.83921569,\n        0.81568627, 0.81960784, 0.78431373, 0.62352941, 0.96078431,\n        0.75686275, 0.80784314, 0.8745098 , 1.        , 1.        ,\n        0.86666667, 0.91764706, 0.86666667, 0.82745098, 0.8627451 ,\n        0.90980392, 0.96470588, 0.        ],\n       [0.01176471, 0.79215686, 0.89411765, 0.87843137, 0.86666667,\n        0.82745098, 0.82745098, 0.83921569, 0.80392157, 0.80392157,\n        0.80392157, 0.8627451 , 0.94117647, 0.31372549, 0.58823529,\n        1.        , 0.89803922, 0.86666667, 0.7372549 , 0.60392157,\n        0.74901961, 0.82352941, 0.8       , 0.81960784, 0.87058824,\n        0.89411765, 0.88235294, 0.        ],\n       [0.38431373, 0.91372549, 0.77647059, 0.82352941, 0.87058824,\n        0.89803922, 0.89803922, 0.91764706, 0.97647059, 0.8627451 ,\n        0.76078431, 0.84313725, 0.85098039, 0.94509804, 0.25490196,\n        0.28627451, 0.41568627, 0.45882353, 0.65882353, 0.85882353,\n        0.86666667, 0.84313725, 0.85098039, 0.8745098 , 0.8745098 ,\n        0.87843137, 0.89803922, 0.11372549],\n       [0.29411765, 0.8       , 0.83137255, 0.8       , 0.75686275,\n        0.80392157, 0.82745098, 0.88235294, 0.84705882, 0.7254902 ,\n        0.77254902, 0.80784314, 0.77647059, 0.83529412, 0.94117647,\n        0.76470588, 0.89019608, 0.96078431, 0.9372549 , 0.8745098 ,\n        0.85490196, 0.83137255, 0.81960784, 0.87058824, 0.8627451 ,\n        0.86666667, 0.90196078, 0.2627451 ],\n       [0.18823529, 0.79607843, 0.71764706, 0.76078431, 0.83529412,\n        0.77254902, 0.7254902 , 0.74509804, 0.76078431, 0.75294118,\n        0.79215686, 0.83921569, 0.85882353, 0.86666667, 0.8627451 ,\n        0.9254902 , 0.88235294, 0.84705882, 0.78039216, 0.80784314,\n        0.72941176, 0.70980392, 0.69411765, 0.6745098 , 0.70980392,\n        0.80392157, 0.80784314, 0.45098039],\n       [0.        , 0.47843137, 0.85882353, 0.75686275, 0.70196078,\n        0.67058824, 0.71764706, 0.76862745, 0.8       , 0.82352941,\n        0.83529412, 0.81176471, 0.82745098, 0.82352941, 0.78431373,\n        0.76862745, 0.76078431, 0.74901961, 0.76470588, 0.74901961,\n        0.77647059, 0.75294118, 0.69019608, 0.61176471, 0.65490196,\n        0.69411765, 0.82352941, 0.36078431],\n       [0.        , 0.        , 0.29019608, 0.74117647, 0.83137255,\n        0.74901961, 0.68627451, 0.6745098 , 0.68627451, 0.70980392,\n        0.7254902 , 0.7372549 , 0.74117647, 0.7372549 , 0.75686275,\n        0.77647059, 0.8       , 0.81960784, 0.82352941, 0.82352941,\n        0.82745098, 0.7372549 , 0.7372549 , 0.76078431, 0.75294118,\n        0.84705882, 0.66666667, 0.        ],\n       [0.00784314, 0.        , 0.        , 0.        , 0.25882353,\n        0.78431373, 0.87058824, 0.92941176, 0.9372549 , 0.94901961,\n        0.96470588, 0.95294118, 0.95686275, 0.86666667, 0.8627451 ,\n        0.75686275, 0.74901961, 0.70196078, 0.71372549, 0.71372549,\n        0.70980392, 0.69019608, 0.65098039, 0.65882353, 0.38823529,\n        0.22745098, 0.        , 0.        ],\n       [0.        , 0.        , 0.        , 0.        , 0.        ,\n        0.        , 0.        , 0.15686275, 0.23921569, 0.17254902,\n        0.28235294, 0.16078431, 0.1372549 , 0.        , 0.        ,\n        0.        , 0.        , 0.        , 0.        , 0.        ,\n        0.        , 0.        , 0.        , 0.        , 0.        ,\n        0.        , 0.        , 0.        ],\n       [0.        , 0.        , 0.        , 0.        , 0.        ,\n        0.        , 0.        , 0.        , 0.        , 0.        ,\n        0.        , 0.        , 0.        , 0.        , 0.        ,\n        0.        , 0.        , 0.        , 0.        , 0.        ,\n        0.        , 0.        , 0.        , 0.        , 0.        ,\n        0.        , 0.        , 0.        ],\n       [0.        , 0.        , 0.        , 0.        , 0.        ,\n        0.        , 0.        , 0.        , 0.        , 0.        ,\n        0.        , 0.        , 0.        , 0.        , 0.        ,\n        0.        , 0.        , 0.        , 0.        , 0.        ,\n        0.        , 0.        , 0.        , 0.        , 0.        ,\n        0.        , 0.        , 0.        ]])"
     },
     "metadata": {},
     "execution_count": 49
    }
   ],
   "source": [
    "X_train[0]"
   ]
  },
  {
   "cell_type": "code",
   "execution_count": 50,
   "metadata": {},
   "outputs": [
    {
     "output_type": "execute_result",
     "data": {
      "text/plain": "784"
     },
     "metadata": {},
     "execution_count": 50
    }
   ],
   "source": [
    "28*28"
   ]
  },
  {
   "cell_type": "code",
   "execution_count": 51,
   "metadata": {},
   "outputs": [
    {
     "output_type": "execute_result",
     "data": {
      "text/plain": "array([0., 0., 0., 0., 0., 0., 0., 0., 0., 1.], dtype=float32)"
     },
     "metadata": {},
     "execution_count": 51
    }
   ],
   "source": [
    "from tensorflow.keras.utils import to_categorical\n",
    "\n",
    "# One hot encode outputs\n",
    "y_binary = to_categorical(y_train)\n",
    "y_binary[0]"
   ]
  },
  {
   "cell_type": "code",
   "execution_count": 52,
   "metadata": {},
   "outputs": [
    {
     "output_type": "stream",
     "name": "stdout",
     "text": "Model: \"sequential_1\"\n_________________________________________________________________\nLayer (type)                 Output Shape              Param #   \n=================================================================\nflatten (Flatten)            (None, 784)               0         \n_________________________________________________________________\ndense_2 (Dense)              (None, 10)                7850      \n=================================================================\nTotal params: 7,850\nTrainable params: 7,850\nNon-trainable params: 0\n_________________________________________________________________\n"
    }
   ],
   "source": [
    "from tensorflow.keras.models import Sequential\n",
    "from tensorflow.keras.layers import Dense, Flatten\n",
    "\n",
    "# Create model\n",
    "model = Sequential()\n",
    "model.add(Flatten(input_shape=(28, 28)))\n",
    "model.add(Dense(10, activation='softmax'))\n",
    "model.compile(loss='sparse_categorical_crossentropy', \n",
    "              optimizer='adam',\n",
    "              metrics=['accuracy'])\n",
    "model.summary()"
   ]
  },
  {
   "cell_type": "code",
   "execution_count": 53,
   "metadata": {},
   "outputs": [
    {
     "output_type": "stream",
     "name": "stdout",
     "text": "Epoch 1/10\n1875/1875 [==============================] - 2s 1ms/step - loss: 0.6016 - accuracy: 0.7973 - val_loss: 0.5250 - val_accuracy: 0.8213\nEpoch 2/10\n1875/1875 [==============================] - 2s 980us/step - loss: 0.4627 - accuracy: 0.8415 - val_loss: 0.4745 - val_accuracy: 0.8363\nEpoch 3/10\n1875/1875 [==============================] - 2s 895us/step - loss: 0.4364 - accuracy: 0.8503 - val_loss: 0.4701 - val_accuracy: 0.8376\nEpoch 4/10\n1875/1875 [==============================] - 2s 919us/step - loss: 0.4231 - accuracy: 0.8549 - val_loss: 0.4615 - val_accuracy: 0.8371\nEpoch 5/10\n1875/1875 [==============================] - 2s 963us/step - loss: 0.4135 - accuracy: 0.8579 - val_loss: 0.4536 - val_accuracy: 0.8406\nEpoch 6/10\n1875/1875 [==============================] - 2s 988us/step - loss: 0.4071 - accuracy: 0.8585 - val_loss: 0.4633 - val_accuracy: 0.8359\nEpoch 7/10\n1875/1875 [==============================] - 2s 980us/step - loss: 0.4023 - accuracy: 0.8620 - val_loss: 0.4692 - val_accuracy: 0.8364\nEpoch 8/10\n1875/1875 [==============================] - 2s 1ms/step - loss: 0.3986 - accuracy: 0.8600 - val_loss: 0.4568 - val_accuracy: 0.8397\nEpoch 9/10\n1875/1875 [==============================] - 2s 1ms/step - loss: 0.3954 - accuracy: 0.8627 - val_loss: 0.4438 - val_accuracy: 0.8447\nEpoch 10/10\n1875/1875 [==============================] - 2s 1ms/step - loss: 0.3922 - accuracy: 0.8629 - val_loss: 0.4699 - val_accuracy: 0.8313\n"
    },
    {
     "output_type": "execute_result",
     "data": {
      "text/plain": "<tensorflow.python.keras.callbacks.History at 0x2c6004e3048>"
     },
     "metadata": {},
     "execution_count": 53
    }
   ],
   "source": [
    "# Fit the model\n",
    "model.fit(X_train, y_train, \n",
    "          epochs=10, \n",
    "          validation_data=(X_test, y_test))"
   ]
  },
  {
   "cell_type": "code",
   "execution_count": 54,
   "metadata": {},
   "outputs": [
    {
     "output_type": "execute_result",
     "data": {
      "text/plain": "array([[3.1558207e-07, 1.1582394e-08, 6.5035042e-06, ..., 3.3124227e-02,\n        6.8857200e-03, 8.8354719e-01],\n       [1.7490247e-04, 2.0253709e-07, 7.2039407e-01, ..., 5.5375753e-28,\n        5.9741389e-05, 2.3572079e-18],\n       [5.7402149e-06, 9.9998116e-01, 1.0645199e-06, ..., 1.3859545e-16,\n        2.5530634e-08, 5.2643721e-14],\n       ...,\n       [3.3965576e-02, 1.8953482e-06, 1.4525664e-03, ..., 4.1191770e-06,\n        6.7257905e-01, 3.7490977e-08],\n       [4.1665123e-07, 9.9984825e-01, 6.1218481e-07, ..., 1.0001778e-12,\n        1.6440966e-08, 1.0225714e-08],\n       [2.7007667e-05, 9.7112224e-06, 3.6223428e-04, ..., 1.2731358e-02,\n        9.2542516e-03, 4.1671784e-04]], dtype=float32)"
     },
     "metadata": {},
     "execution_count": 54
    }
   ],
   "source": [
    "model.predict(X_test)"
   ]
  }
 ],
 "metadata": {
  "kernelspec": {
   "display_name": "unit4env (Python3)",
   "language": "python",
   "name": "unit4env"
  },
  "language_info": {
   "codemirror_mode": {
    "name": "ipython",
    "version": 3
   },
   "file_extension": ".py",
   "mimetype": "text/x-python",
   "name": "python",
   "nbconvert_exporter": "python",
   "pygments_lexer": "ipython3",
   "version": "3.7.0-final"
  }
 },
 "nbformat": 4,
 "nbformat_minor": 4
}